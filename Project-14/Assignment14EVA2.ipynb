{
  "nbformat": 4,
  "nbformat_minor": 0,
  "metadata": {
    "colab": {
      "name": "Assignment14EVA2.ipynb",
      "provenance": [],
      "collapsed_sections": [],
      "include_colab_link": true
    },
    "kernelspec": {
      "name": "python3",
      "display_name": "Python 3"
    },
    "accelerator": "GPU"
  },
  "cells": [
    {
      "cell_type": "markdown",
      "metadata": {
        "id": "view-in-github",
        "colab_type": "text"
      },
      "source": [
        "<a href=\"https://colab.research.google.com/github/KrishnanandSingh/EVA/blob/master/Assignment14EVA2.ipynb\" target=\"_parent\"><img src=\"https://colab.research.google.com/assets/colab-badge.svg\" alt=\"Open In Colab\"/></a>"
      ]
    },
    {
      "cell_type": "code",
      "metadata": {
        "colab_type": "code",
        "outputId": "411439a5-c885-4147-de2a-5a14cb4d2979",
        "id": "bYU7-PzIOlOm",
        "colab": {
          "base_uri": "https://localhost:8080/",
          "height": 36
        }
      },
      "source": [
        "%tensorflow_version 2.x\n",
        "import numpy as np\n",
        "import time, math\n",
        "from tqdm import tqdm_notebook as tqdm\n",
        "\n",
        "import tensorflow as tf\n",
        "import tensorflow"
      ],
      "execution_count": 1,
      "outputs": [
        {
          "output_type": "stream",
          "text": [
            "TensorFlow 2.x selected.\n"
          ],
          "name": "stdout"
        }
      ]
    },
    {
      "cell_type": "code",
      "metadata": {
        "colab_type": "code",
        "outputId": "70ba8be6-758f-473d-bf61-29cb50922fba",
        "id": "mvX76kOpOlOh",
        "colab": {
          "base_uri": "https://localhost:8080/",
          "height": 36
        }
      },
      "source": [
        "print(tf.__version__)"
      ],
      "execution_count": 2,
      "outputs": [
        {
          "output_type": "stream",
          "text": [
            "2.0.0\n"
          ],
          "name": "stdout"
        }
      ]
    },
    {
      "cell_type": "code",
      "metadata": {
        "colab_type": "code",
        "cellView": "both",
        "id": "cuVBVQa3OlOd",
        "colab": {}
      },
      "source": [
        "BATCH_SIZE = 512 #@param {type:\"integer\"}\n",
        "MOMENTUM = 0.9 #@param {type:\"number\"}\n",
        "LEARNING_RATE = 0.4 #@param {type:\"number\"}\n",
        "WEIGHT_DECAY = 5e-4 #@param {type:\"number\"}\n",
        "EPOCHS = 24 #@param {type:\"integer\"}"
      ],
      "execution_count": 0,
      "outputs": []
    },
    {
      "cell_type": "code",
      "metadata": {
        "colab_type": "code",
        "id": "KYY17l1iOlOY",
        "colab": {}
      },
      "source": [
        "def init_pytorch(shape, dtype=tf.float32, partition_info=None):\n",
        "  fan = np.prod(shape[:-1])\n",
        "  bound = 1 / math.sqrt(fan)\n",
        "  return tf.random.uniform(shape, minval=-bound, maxval=bound, dtype=dtype)"
      ],
      "execution_count": 0,
      "outputs": []
    },
    {
      "cell_type": "code",
      "metadata": {
        "colab_type": "code",
        "id": "BFOwX9Q7OlOU",
        "colab": {}
      },
      "source": [
        "class ConvBN(tf.keras.Model):\n",
        "  def __init__(self, c_out):\n",
        "    super().__init__()\n",
        "    self.conv = tf.keras.layers.Conv2D(filters=c_out, kernel_size=3, padding=\"SAME\", kernel_initializer=init_pytorch, use_bias=False)\n",
        "    self.bn = tensorflow.keras.layers.BatchNormalization(momentum=0.9, epsilon=1e-5)\n",
        "\n",
        "  def call(self, inputs):\n",
        "    return tf.nn.relu(self.bn(self.conv(inputs)))"
      ],
      "execution_count": 0,
      "outputs": []
    },
    {
      "cell_type": "code",
      "metadata": {
        "colab_type": "code",
        "id": "3mukDQFwOlOP",
        "colab": {}
      },
      "source": [
        "class ResBlk(tf.keras.Model):\n",
        "  def __init__(self, c_out, pool, res = False):\n",
        "    super().__init__()\n",
        "    self.conv_bn = ConvBN(c_out)\n",
        "    self.pool = pool\n",
        "    self.res = res\n",
        "    if self.res:\n",
        "      self.res1 = ConvBN(c_out)\n",
        "      self.res2 = ConvBN(c_out)\n",
        "\n",
        "  def call(self, inputs):\n",
        "    h = self.pool(self.conv_bn(inputs))\n",
        "    if self.res:\n",
        "      h = h + self.res2(self.res1(h))\n",
        "    return h"
      ],
      "execution_count": 0,
      "outputs": []
    },
    {
      "cell_type": "code",
      "metadata": {
        "colab_type": "code",
        "id": "xrtqcMtoOlOL",
        "colab": {}
      },
      "source": [
        "class DavidNet(tf.keras.Model):\n",
        "  def __init__(self, c=64, weight=0.125):\n",
        "    super().__init__()\n",
        "    pool = tf.keras.layers.MaxPooling2D()\n",
        "    self.init_conv_bn = ConvBN(c)\n",
        "    self.blk1 = ResBlk(c*2, pool, res = True)\n",
        "    self.blk2 = ResBlk(c*4, pool)\n",
        "    self.blk3 = ResBlk(c*8, pool, res = True)\n",
        "    self.pool = tf.keras.layers.GlobalMaxPool2D()\n",
        "    self.linear = tf.keras.layers.Dense(10, kernel_initializer=init_pytorch, use_bias=False)\n",
        "    self.weight = weight\n",
        "\n",
        "  def call(self, x, y):\n",
        "    h = self.pool(self.blk3(self.blk2(self.blk1(self.init_conv_bn(x)))))\n",
        "    h = self.linear(h) * self.weight\n",
        "    ce = tf.nn.sparse_softmax_cross_entropy_with_logits(logits=h, labels=y)\n",
        "    loss = tf.reduce_sum(ce)\n",
        "    correct = tf.reduce_sum(tf.cast(tf.math.equal(tf.argmax(h, axis = 1), y), tf.float32))\n",
        "    return loss, correct"
      ],
      "execution_count": 0,
      "outputs": []
    },
    {
      "cell_type": "code",
      "metadata": {
        "colab_type": "code",
        "outputId": "af17be12-326d-4493-a159-28f195b836b0",
        "id": "g6oW6FMgOlOD",
        "colab": {
          "base_uri": "https://localhost:8080/",
          "height": 55
        }
      },
      "source": [
        "(x_train, y_train), (x_test, y_test) = tf.keras.datasets.cifar10.load_data()\n",
        "len_train, len_test = len(x_train), len(x_test)\n",
        "y_train = y_train.astype('int64').reshape(len_train)\n",
        "y_test = y_test.astype('int64').reshape(len_test)\n",
        "\n",
        "train_mean = np.mean(x_train, axis=(0,1,2))\n",
        "train_std = np.std(x_train, axis=(0,1,2))\n",
        "\n",
        "normalize = lambda x: ((x - train_mean) / train_std).astype('float32') # todo: check here\n",
        "pad4 = lambda x: np.pad(x, [(0, 0), (4, 4), (4, 4), (0, 0)], mode='reflect')\n",
        "\n",
        "x_train = normalize(pad4(x_train))\n",
        "x_test = normalize(x_test)"
      ],
      "execution_count": 8,
      "outputs": [
        {
          "output_type": "stream",
          "text": [
            "Downloading data from https://www.cs.toronto.edu/~kriz/cifar-10-python.tar.gz\n",
            "170500096/170498071 [==============================] - 11s 0us/step\n"
          ],
          "name": "stdout"
        }
      ]
    },
    {
      "cell_type": "code",
      "metadata": {
        "colab_type": "code",
        "id": "k_p3YSI2OlN4",
        "colab": {}
      },
      "source": [
        "import tensorflow as tf\n",
        "HEIGHT = 40\n",
        "WIDTH = 40\n",
        "DEPTH = 3\n",
        "\n",
        "def int64_feature(value):\n",
        "    return tf.train.Feature(int64_list=tf.train.Int64List(value=[value]))\n",
        "\n",
        "def bytes_feature(value):\n",
        "    return tf.train.Feature(bytes_list=tf.train.BytesList(value=[value]))\n",
        "\n",
        "def _floats_feature(value):\n",
        "  return tf.train.Feature(float_list=tf.train.FloatList(value=value))\n",
        "\n",
        "def write_as_tfrecords(data, labels, output_file):\n",
        "    with tf.io.TFRecordWriter(output_file) as record_writer:\n",
        "        num_entries_in_batch = len(labels)\n",
        "        for i in range(num_entries_in_batch):\n",
        "            example = tf.train.Example(features=tf.train.Features(\n",
        "                feature={\n",
        "                    'image': _floats_feature(data[i].flatten()),\n",
        "                    'label': int64_feature(labels[i])\n",
        "                }))\n",
        "            record_writer.write(example.SerializeToString())\n",
        "\n",
        "def parse_fn(serialized_example):\n",
        "    features = tf.io.parse_single_example(\n",
        "        serialized_example,\n",
        "        features={\n",
        "            'image': tf.io.FixedLenFeature([WIDTH, HEIGHT, DEPTH], tf.float32),\n",
        "            'label': tf.io.FixedLenFeature([], tf.int64),\n",
        "        })\n",
        "    image = features['image']\n",
        "    label = features['label']\n",
        "    return image, label\n",
        "\n",
        "def load_tfr_dataset(tfrecordpath, FLAGS):\n",
        "    files = tf.data.Dataset.list_files(tfrecordpath)\n",
        "    dataset = files.interleave(\n",
        "        tf.data.TFRecordDataset, cycle_length=tf.data.experimental.AUTOTUNE,\n",
        "        num_parallel_calls=tf.data.experimental.AUTOTUNE)\n",
        "    dataset = dataset.shuffle(\n",
        "        buffer_size=FLAGS['shuffle_buffer_size'])\n",
        "    dataset = dataset.map(map_func=parse_fn,\n",
        "                            num_parallel_calls=tf.data.experimental.AUTOTUNE)\n",
        "    dataset = dataset.map(data_aug, num_parallel_calls=tf.data.experimental.AUTOTUNE)\n",
        "    dataset = dataset.batch(batch_size=FLAGS['batch_size']).prefetch(buffer_size=tf.data.experimental.AUTOTUNE)\n",
        "    return dataset\n"
      ],
      "execution_count": 0,
      "outputs": []
    },
    {
      "cell_type": "code",
      "metadata": {
        "id": "HE6ZKo-hiJ1b",
        "colab_type": "code",
        "colab": {}
      },
      "source": [
        "# write normalized data to tfrecord\n",
        "write_as_tfrecords(x_train, y_train, 'train_data.tfrecord')"
      ],
      "execution_count": 0,
      "outputs": []
    },
    {
      "cell_type": "code",
      "metadata": {
        "colab_type": "code",
        "id": "N5NEBPN-OlNa",
        "colab": {}
      },
      "source": [
        "model = DavidNet()\n",
        "batches_per_epoch = len_train//BATCH_SIZE + 1\n",
        "\n",
        "lr_schedule = lambda t: np.interp([t], [0, 4, 12, 14, 16, EPOCHS], [0.01, LEARNING_RATE, 0.03, 0.015, 0.01, 0.003])[0]\n",
        "global_step = tf.compat.v1.train.get_or_create_global_step()\n",
        "lr_func = lambda: lr_schedule(global_step/batches_per_epoch)/BATCH_SIZE\n",
        "opt = tf.compat.v1.train.MomentumOptimizer(lr_func, momentum=MOMENTUM, use_nesterov=True)"
      ],
      "execution_count": 0,
      "outputs": []
    },
    {
      "cell_type": "code",
      "metadata": {
        "id": "fNQ_BPulCkuN",
        "colab_type": "code",
        "colab": {}
      },
      "source": [
        "# loading the dataset\n",
        "data_aug = lambda x, y: (tf.image.random_flip_left_right(tf.image.random_crop(x, [32, 32, 3])), y)\n",
        "tf_set = load_tfr_dataset('train_data.tfrecord', {'shuffle_buffer_size': len_train, 'batch_size': BATCH_SIZE})"
      ],
      "execution_count": 0,
      "outputs": []
    },
    {
      "cell_type": "code",
      "metadata": {
        "id": "EGp3KQe9Fr98",
        "colab_type": "code",
        "colab": {
          "base_uri": "https://localhost:8080/",
          "height": 300
        },
        "outputId": "ca16e46a-e4ff-4e2d-8cbd-464d4bae996f"
      },
      "source": [
        "# displaying an example\n",
        "for x,y in tf_set: break\n",
        "\n",
        "%matplotlib inline \n",
        "def show_cifar_image(data_arr, label_arr, idx):\n",
        "  from matplotlib import pyplot as plt\n",
        "  cifar_objects = {0 : 'airplane',1 : 'automobile',2 : 'bird',3 : 'cat',4 : 'deer',5 : 'dog',6 : 'frog',7 : 'horse',8 : 'ship',9 : 'truck'}\n",
        "  plt.imshow(data_arr[idx], interpolation='nearest')\n",
        "  plt.title(cifar_objects[label_arr[idx]])\n",
        "  plt.show()\n",
        "\n",
        "show_cifar_image(x.numpy(), y.numpy(), 3)"
      ],
      "execution_count": 13,
      "outputs": [
        {
          "output_type": "stream",
          "text": [
            "Clipping input data to the valid range for imshow with RGB data ([0..1] for floats or [0..255] for integers).\n"
          ],
          "name": "stderr"
        },
        {
          "output_type": "display_data",
          "data": {
            "image/png": "[encoded data removed]",
            "text/plain": [
              "<Figure size 432x288 with 1 Axes>"
            ]
          },
          "metadata": {
            "tags": []
          }
        }
      ]
    },
    {
      "cell_type": "code",
      "metadata": {
        "colab_type": "code",
        "outputId": "92e5cfa7-1a00-4d73-fbf9-1cbb2089abe7",
        "id": "qPn4OfOdOlNr",
        "colab": {
          "base_uri": "https://localhost:8080/",
          "height": 334
        }
      },
      "source": [
        "# plotting lr\n",
        "%matplotlib inline\n",
        "import matplotlib.pyplot as plt\n",
        "\n",
        "def plot_line_graph(ax, y_arr, x_label, y_label, xmin=0, xmax=0, tick=1):\n",
        "    ax.plot(y_arr)\n",
        "    ax.set_xlabel(x_label)\n",
        "    if xmax == 0:\n",
        "      xmax = len(y_arr)\n",
        "    xticks = [i for i in range(xmin, xmax)]\n",
        "    ax.xaxis.set_ticks(xticks)\n",
        "    ax.set_ylabel(y_label)\n",
        "\n",
        "\n",
        "lrs = [lr_schedule(i) for i in range(1, EPOCHS+1)]\n",
        "fig, axs = plt.subplots(1,1,figsize=(10,5))\n",
        "plot_line_graph(axs, lrs, 'epochs', 'lrate')"
      ],
      "execution_count": 14,
      "outputs": [
        {
          "output_type": "display_data",
          "data": {
            "image/png": "[encoded data removed]",
            "text/plain": [
              "<Figure size 720x360 with 1 Axes>"
            ]
          },
          "metadata": {
            "tags": []
          }
        }
      ]
    },
    {
      "cell_type": "code",
      "metadata": {
        "colab_type": "code",
        "outputId": "5c2be345-33ee-4287-f6e0-4209228a4235",
        "id": "lPkcZc0zOlNI",
        "colab": {
          "base_uri": "https://localhost:8080/",
          "height": 949
        }
      },
      "source": [
        "t = time.time()\n",
        "test_set = tf.data.Dataset.from_tensor_slices((x_test, y_test)).batch(BATCH_SIZE).prefetch(buffer_size=tf.data.experimental.AUTOTUNE)\n",
        "\n",
        "# workaround for tqdm(iterator, total_count)\n",
        "is_repeat = False\n",
        "\n",
        "for epoch in range(EPOCHS):\n",
        "  train_loss = test_loss = train_acc = test_acc = 0.0\n",
        "\n",
        "  tf.keras.backend.set_learning_phase(1)\n",
        "  if is_repeat:\n",
        "    batch_no = 0\n",
        "  for (x, y) in tqdm(tf_set):\n",
        "    if is_repeat:\n",
        "      if batch_no >= batches_per_epoch:\n",
        "        break\n",
        "      batch_no = batch_no + 1\n",
        "    \n",
        "    with tf.GradientTape() as tape:\n",
        "      loss, correct = model(x, y)\n",
        "\n",
        "    var = model.trainable_variables\n",
        "    grads = tape.gradient(loss, var)\n",
        "    for g, v in zip(grads, var):\n",
        "      g += v * WEIGHT_DECAY * BATCH_SIZE\n",
        "    opt.apply_gradients(zip(grads, var), global_step=global_step)\n",
        "\n",
        "    train_loss += loss.numpy()\n",
        "    train_acc += correct.numpy()\n",
        "\n",
        "  tf.keras.backend.set_learning_phase(0)\n",
        "  for (x, y) in test_set:\n",
        "    loss, correct = model(x, y)\n",
        "    test_loss += loss.numpy()\n",
        "    test_acc += correct.numpy()\n",
        "  \n",
        "  print('epoch:', epoch+1, 'lr:', lr_schedule(epoch+1), 'train loss:', train_loss / len_train, 'train acc:', train_acc / len_train, 'val loss:', test_loss / len_test, 'val acc:', test_acc / len_test, 'time:', time.time() - t)"
      ],
      "execution_count": 15,
      "outputs": [
        {
          "output_type": "display_data",
          "data": {
            "application/vnd.jupyter.widget-view+json": {
              "model_id": "b991caed7b80442ca13c42712a5496fe",
              "version_minor": 0,
              "version_major": 2
            },
            "text/plain": [
              "HBox(children=(IntProgress(value=1, bar_style='info', max=1), HTML(value='')))"
            ]
          },
          "metadata": {
            "tags": []
          }
        },
        {
          "output_type": "stream",
          "text": [
            "\n",
            "epoch: 1 lr: 0.1075 train loss: 1.4750472131347656 train acc: 0.46834 val loss: 0.9689171905517578 val acc: 0.6498 time: 80.54556274414062\n"
          ],
          "name": "stdout"
        },
        {
          "output_type": "display_data",
          "data": {
            "application/vnd.jupyter.widget-view+json": {
              "model_id": "7ee44d3662e641a5b020843a843160c2",
              "version_minor": 0,
              "version_major": 2
            },
            "text/plain": [
              "HBox(children=(IntProgress(value=1, bar_style='info', max=1), HTML(value='')))"
            ]
          },
          "metadata": {
            "tags": []
          }
        },
        {
          "output_type": "stream",
          "text": [
            "\n",
            "epoch: 2 lr: 0.20500000000000002 train loss: 0.819659108581543 train acc: 0.71004 val loss: 1.0879731719970702 val acc: 0.6369 time: 147.66593074798584\n"
          ],
          "name": "stdout"
        },
        {
          "output_type": "display_data",
          "data": {
            "application/vnd.jupyter.widget-view+json": {
              "model_id": "4994c4f3ed544a24b594d0b110992eb2",
              "version_minor": 0,
              "version_major": 2
            },
            "text/plain": [
              "HBox(children=(IntProgress(value=1, bar_style='info', max=1), HTML(value='')))"
            ]
          },
          "metadata": {
            "tags": []
          }
        },
        {
          "output_type": "stream",
          "text": [
            "\n",
            "epoch: 3 lr: 0.3025 train loss: 0.6353351272583008 train acc: 0.78094 val loss: 0.7205989868164062 val acc: 0.7646 time: 214.74086594581604\n"
          ],
          "name": "stdout"
        },
        {
          "output_type": "display_data",
          "data": {
            "application/vnd.jupyter.widget-view+json": {
              "model_id": "5df268a69853419092299d42603ddc87",
              "version_minor": 0,
              "version_major": 2
            },
            "text/plain": [
              "HBox(children=(IntProgress(value=1, bar_style='info', max=1), HTML(value='')))"
            ]
          },
          "metadata": {
            "tags": []
          }
        },
        {
          "output_type": "stream",
          "text": [
            "\n",
            "epoch: 4 lr: 0.4 train loss: 0.5429921005249023 train acc: 0.81666 val loss: 0.779270458984375 val acc: 0.7701 time: 281.7717969417572\n"
          ],
          "name": "stdout"
        },
        {
          "output_type": "display_data",
          "data": {
            "application/vnd.jupyter.widget-view+json": {
              "model_id": "31dafcf2f5ea4f3f8311501ae89ed39a",
              "version_minor": 0,
              "version_major": 2
            },
            "text/plain": [
              "HBox(children=(IntProgress(value=1, bar_style='info', max=1), HTML(value='')))"
            ]
          },
          "metadata": {
            "tags": []
          }
        },
        {
          "output_type": "stream",
          "text": [
            "\n",
            "epoch: 5 lr: 0.35375 train loss: 0.42565806854248045 train acc: 0.85238 val loss: 0.526066471862793 val acc: 0.8221 time: 348.6835837364197\n"
          ],
          "name": "stdout"
        },
        {
          "output_type": "display_data",
          "data": {
            "application/vnd.jupyter.widget-view+json": {
              "model_id": "25b85ea9fd854f1d85c90393475fdaa8",
              "version_minor": 0,
              "version_major": 2
            },
            "text/plain": [
              "HBox(children=(IntProgress(value=1, bar_style='info', max=1), HTML(value='')))"
            ]
          },
          "metadata": {
            "tags": []
          }
        },
        {
          "output_type": "stream",
          "text": [
            "\n",
            "epoch: 6 lr: 0.3075 train loss: 0.3351160397338867 train acc: 0.8847 val loss: 0.4468662857055664 val acc: 0.8515 time: 415.6872298717499\n"
          ],
          "name": "stdout"
        },
        {
          "output_type": "display_data",
          "data": {
            "application/vnd.jupyter.widget-view+json": {
              "model_id": "4e6b180d34ac4f4494f2be61c0b0c30d",
              "version_minor": 0,
              "version_major": 2
            },
            "text/plain": [
              "HBox(children=(IntProgress(value=1, bar_style='info', max=1), HTML(value='')))"
            ]
          },
          "metadata": {
            "tags": []
          }
        },
        {
          "output_type": "stream",
          "text": [
            "\n",
            "epoch: 7 lr: 0.26125000000000004 train loss: 0.27492421798706057 train acc: 0.90342 val loss: 0.4298727600097656 val acc: 0.8574 time: 483.08873081207275\n"
          ],
          "name": "stdout"
        },
        {
          "output_type": "display_data",
          "data": {
            "application/vnd.jupyter.widget-view+json": {
              "model_id": "eec48d3735d64bb9b1c8cd33fa166f15",
              "version_minor": 0,
              "version_major": 2
            },
            "text/plain": [
              "HBox(children=(IntProgress(value=1, bar_style='info', max=1), HTML(value='')))"
            ]
          },
          "metadata": {
            "tags": []
          }
        },
        {
          "output_type": "stream",
          "text": [
            "\n",
            "epoch: 8 lr: 0.21500000000000002 train loss: 0.23131830856323243 train acc: 0.91926 val loss: 0.32688998489379884 val acc: 0.8921 time: 550.5227086544037\n"
          ],
          "name": "stdout"
        },
        {
          "output_type": "display_data",
          "data": {
            "application/vnd.jupyter.widget-view+json": {
              "model_id": "b2105c9958264309880e5015aaac9c5a",
              "version_minor": 0,
              "version_major": 2
            },
            "text/plain": [
              "HBox(children=(IntProgress(value=1, bar_style='info', max=1), HTML(value='')))"
            ]
          },
          "metadata": {
            "tags": []
          }
        },
        {
          "output_type": "stream",
          "text": [
            "\n",
            "epoch: 9 lr: 0.16875 train loss: 0.19371143280029296 train acc: 0.93276 val loss: 0.3017817611694336 val acc: 0.8988 time: 618.2940821647644\n"
          ],
          "name": "stdout"
        },
        {
          "output_type": "display_data",
          "data": {
            "application/vnd.jupyter.widget-view+json": {
              "model_id": "aea21c87b899471887f42122adf945fc",
              "version_minor": 0,
              "version_major": 2
            },
            "text/plain": [
              "HBox(children=(IntProgress(value=1, bar_style='info', max=1), HTML(value='')))"
            ]
          },
          "metadata": {
            "tags": []
          }
        },
        {
          "output_type": "stream",
          "text": [
            "\n",
            "epoch: 10 lr: 0.12250000000000005 train loss: 0.16246622314453124 train acc: 0.94392 val loss: 0.3136076271057129 val acc: 0.8979 time: 685.2805500030518\n"
          ],
          "name": "stdout"
        },
        {
          "output_type": "display_data",
          "data": {
            "application/vnd.jupyter.widget-view+json": {
              "model_id": "faa08aa57fea4a79a684c7b7076feba2",
              "version_minor": 0,
              "version_major": 2
            },
            "text/plain": [
              "HBox(children=(IntProgress(value=1, bar_style='info', max=1), HTML(value='')))"
            ]
          },
          "metadata": {
            "tags": []
          }
        },
        {
          "output_type": "stream",
          "text": [
            "\n",
            "epoch: 11 lr: 0.07625000000000004 train loss: 0.1319265828704834 train acc: 0.95542 val loss: 0.27502051162719726 val acc: 0.9112 time: 752.7873239517212\n"
          ],
          "name": "stdout"
        },
        {
          "output_type": "display_data",
          "data": {
            "application/vnd.jupyter.widget-view+json": {
              "model_id": "2a156aa7730f4d46a835870cd96bf564",
              "version_minor": 0,
              "version_major": 2
            },
            "text/plain": [
              "HBox(children=(IntProgress(value=1, bar_style='info', max=1), HTML(value='')))"
            ]
          },
          "metadata": {
            "tags": []
          }
        },
        {
          "output_type": "stream",
          "text": [
            "\n",
            "epoch: 12 lr: 0.03 train loss: 0.1057742202758789 train acc: 0.96608 val loss: 0.2542509811401367 val acc: 0.9179 time: 820.2690479755402\n"
          ],
          "name": "stdout"
        },
        {
          "output_type": "display_data",
          "data": {
            "application/vnd.jupyter.widget-view+json": {
              "model_id": "667f16e80a9049b0a1fdc7506210d946",
              "version_minor": 0,
              "version_major": 2
            },
            "text/plain": [
              "HBox(children=(IntProgress(value=1, bar_style='info', max=1), HTML(value='')))"
            ]
          },
          "metadata": {
            "tags": []
          }
        },
        {
          "output_type": "stream",
          "text": [
            "\n",
            "epoch: 13 lr: 0.0225 train loss: 0.09137310794830322 train acc: 0.97188 val loss: 0.24719919891357423 val acc: 0.9181 time: 887.527063369751\n"
          ],
          "name": "stdout"
        },
        {
          "output_type": "display_data",
          "data": {
            "application/vnd.jupyter.widget-view+json": {
              "model_id": "dbeb0fba37554aefa9c408884015235f",
              "version_minor": 0,
              "version_major": 2
            },
            "text/plain": [
              "HBox(children=(IntProgress(value=1, bar_style='info', max=1), HTML(value='')))"
            ]
          },
          "metadata": {
            "tags": []
          }
        },
        {
          "output_type": "stream",
          "text": [
            "\n",
            "epoch: 14 lr: 0.015 train loss: 0.0837073413848877 train acc: 0.97438 val loss: 0.2457701156616211 val acc: 0.9202 time: 954.644547700882\n"
          ],
          "name": "stdout"
        },
        {
          "output_type": "display_data",
          "data": {
            "application/vnd.jupyter.widget-view+json": {
              "model_id": "9b9035d4eca341699ca30b6730b0a266",
              "version_minor": 0,
              "version_major": 2
            },
            "text/plain": [
              "HBox(children=(IntProgress(value=1, bar_style='info', max=1), HTML(value='')))"
            ]
          },
          "metadata": {
            "tags": []
          }
        },
        {
          "output_type": "stream",
          "text": [
            "\n",
            "epoch: 15 lr: 0.0125 train loss: 0.0811271868133545 train acc: 0.97492 val loss: 0.24438346557617188 val acc: 0.9211 time: 1021.619377374649\n"
          ],
          "name": "stdout"
        },
        {
          "output_type": "display_data",
          "data": {
            "application/vnd.jupyter.widget-view+json": {
              "model_id": "5a79aa9b454c4c2c86a06b0a9597a128",
              "version_minor": 0,
              "version_major": 2
            },
            "text/plain": [
              "HBox(children=(IntProgress(value=1, bar_style='info', max=1), HTML(value='')))"
            ]
          },
          "metadata": {
            "tags": []
          }
        },
        {
          "output_type": "stream",
          "text": [
            "\n",
            "epoch: 16 lr: 0.01 train loss: 0.0776184769821167 train acc: 0.97654 val loss: 0.2419713665008545 val acc: 0.921 time: 1088.8077590465546\n"
          ],
          "name": "stdout"
        },
        {
          "output_type": "display_data",
          "data": {
            "application/vnd.jupyter.widget-view+json": {
              "model_id": "eef79f2f59754ce4a8b2a0db26bf50b7",
              "version_minor": 0,
              "version_major": 2
            },
            "text/plain": [
              "HBox(children=(IntProgress(value=1, bar_style='info', max=1), HTML(value='')))"
            ]
          },
          "metadata": {
            "tags": []
          }
        },
        {
          "output_type": "stream",
          "text": [
            "\n",
            "epoch: 17 lr: 0.009125 train loss: 0.07486533954620361 train acc: 0.97732 val loss: 0.24081533279418946 val acc: 0.9215 time: 1156.2276496887207\n"
          ],
          "name": "stdout"
        },
        {
          "output_type": "display_data",
          "data": {
            "application/vnd.jupyter.widget-view+json": {
              "model_id": "95923f80830a4b3194e4230e3cb12090",
              "version_minor": 0,
              "version_major": 2
            },
            "text/plain": [
              "HBox(children=(IntProgress(value=1, bar_style='info', max=1), HTML(value='')))"
            ]
          },
          "metadata": {
            "tags": []
          }
        },
        {
          "output_type": "stream",
          "text": [
            "\n",
            "epoch: 18 lr: 0.00825 train loss: 0.07324831275939941 train acc: 0.9778 val loss: 0.24272095413208009 val acc: 0.9216 time: 1223.5487048625946\n"
          ],
          "name": "stdout"
        },
        {
          "output_type": "display_data",
          "data": {
            "application/vnd.jupyter.widget-view+json": {
              "model_id": "49863c7b5d414bec860e5e782d553927",
              "version_minor": 0,
              "version_major": 2
            },
            "text/plain": [
              "HBox(children=(IntProgress(value=1, bar_style='info', max=1), HTML(value='')))"
            ]
          },
          "metadata": {
            "tags": []
          }
        },
        {
          "output_type": "stream",
          "text": [
            "\n",
            "epoch: 19 lr: 0.007375 train loss: 0.07118955448150635 train acc: 0.9782 val loss: 0.2422952880859375 val acc: 0.9218 time: 1290.7263579368591\n"
          ],
          "name": "stdout"
        },
        {
          "output_type": "display_data",
          "data": {
            "application/vnd.jupyter.widget-view+json": {
              "model_id": "d997c49e7bcb410d9079dc6b2f821669",
              "version_minor": 0,
              "version_major": 2
            },
            "text/plain": [
              "HBox(children=(IntProgress(value=1, bar_style='info', max=1), HTML(value='')))"
            ]
          },
          "metadata": {
            "tags": []
          }
        },
        {
          "output_type": "stream",
          "text": [
            "\n",
            "epoch: 20 lr: 0.006500000000000001 train loss: 0.07027054550170898 train acc: 0.97916 val loss: 0.2434404224395752 val acc: 0.9213 time: 1357.8874628543854\n"
          ],
          "name": "stdout"
        },
        {
          "output_type": "display_data",
          "data": {
            "application/vnd.jupyter.widget-view+json": {
              "model_id": "a163f845c9c04ef39ae7935747cc6918",
              "version_minor": 0,
              "version_major": 2
            },
            "text/plain": [
              "HBox(children=(IntProgress(value=1, bar_style='info', max=1), HTML(value='')))"
            ]
          },
          "metadata": {
            "tags": []
          }
        },
        {
          "output_type": "stream",
          "text": [
            "\n",
            "epoch: 21 lr: 0.005625 train loss: 0.06868602012634277 train acc: 0.9793 val loss: 0.24303346443176269 val acc: 0.9227 time: 1425.1876728534698\n"
          ],
          "name": "stdout"
        },
        {
          "output_type": "display_data",
          "data": {
            "application/vnd.jupyter.widget-view+json": {
              "model_id": "bf6899cc1c544c10b92c40e4d4834558",
              "version_minor": 0,
              "version_major": 2
            },
            "text/plain": [
              "HBox(children=(IntProgress(value=1, bar_style='info', max=1), HTML(value='')))"
            ]
          },
          "metadata": {
            "tags": []
          }
        },
        {
          "output_type": "stream",
          "text": [
            "\n",
            "epoch: 22 lr: 0.00475 train loss: 0.06879182075500488 train acc: 0.97928 val loss: 0.2442364673614502 val acc: 0.9224 time: 1492.4473977088928\n"
          ],
          "name": "stdout"
        },
        {
          "output_type": "display_data",
          "data": {
            "application/vnd.jupyter.widget-view+json": {
              "model_id": "f0493c69204d486d81498315f7ce7b8a",
              "version_minor": 0,
              "version_major": 2
            },
            "text/plain": [
              "HBox(children=(IntProgress(value=1, bar_style='info', max=1), HTML(value='')))"
            ]
          },
          "metadata": {
            "tags": []
          }
        },
        {
          "output_type": "stream",
          "text": [
            "\n",
            "epoch: 23 lr: 0.003875 train loss: 0.0666741516494751 train acc: 0.98112 val loss: 0.24416481781005858 val acc: 0.9227 time: 1559.8551828861237\n"
          ],
          "name": "stdout"
        },
        {
          "output_type": "display_data",
          "data": {
            "application/vnd.jupyter.widget-view+json": {
              "model_id": "59efe2063aad47dc949bbc619e5517f9",
              "version_minor": 0,
              "version_major": 2
            },
            "text/plain": [
              "HBox(children=(IntProgress(value=1, bar_style='info', max=1), HTML(value='')))"
            ]
          },
          "metadata": {
            "tags": []
          }
        },
        {
          "output_type": "stream",
          "text": [
            "\n",
            "epoch: 24 lr: 0.003 train loss: 0.06635898685455323 train acc: 0.98076 val loss: 0.2443376419067383 val acc: 0.9225 time: 1627.1955687999725\n"
          ],
          "name": "stdout"
        }
      ]
    }
  ]
}