{
  "nbformat": 4,
  "nbformat_minor": 0,
  "metadata": {
    "colab": {
      "name": "Four.ipynb",
      "version": "0.3.2",
      "provenance": [],
      "collapsed_sections": [
        "zByEi95J86RD"
      ],
      "include_colab_link": true
    },
    "kernelspec": {
      "name": "python3",
      "display_name": "Python 3"
    },
    "accelerator": "GPU"
  },
  "cells": [
    {
      "cell_type": "markdown",
      "metadata": {
        "id": "view-in-github",
        "colab_type": "text"
      },
      "source": [
        "<a href=\"https://colab.research.google.com/github/KrishnanandSingh/EVA/blob/master/Four.ipynb\" target=\"_parent\"><img src=\"https://colab.research.google.com/assets/colab-badge.svg\" alt=\"Open In Colab\"/></a>"
      ]
    },
    {
      "cell_type": "markdown",
      "metadata": {
        "id": "Rl5zgXIbAmqe",
        "colab_type": "text"
      },
      "source": [
        "# Thought\n",
        "\n",
        "Third network's training accuracy was 99.76 and the validation accuracy 99.21. Lets try using batch normalization and dropouts to make the network better.\n",
        "\n",
        "# Observation\n",
        "\n",
        "Network achieved the required validation accuracy in 20 epochs with 13,608 parameters. There is still scope of using LR scheduler as the after first few epochs accuracy seems to be increasing and then decreasing.\n"
      ]
    },
    {
      "cell_type": "markdown",
      "metadata": {
        "id": "aNyZv-Ec52ot",
        "colab_type": "text"
      },
      "source": [
        "### **Import Libraries and modules**"
      ]
    },
    {
      "cell_type": "markdown",
      "metadata": {
        "id": "rULW6zBF12WG",
        "colab_type": "text"
      },
      "source": [
        "Install keras quitely\n",
        "and import it to be able to use it later"
      ]
    },
    {
      "cell_type": "code",
      "metadata": {
        "id": "3m3w1Cw49Zkt",
        "colab_type": "code",
        "colab": {
          "base_uri": "https://localhost:8080/",
          "height": 34
        },
        "outputId": "9de2b6ae-f89f-4fef-f309-e2a3ebcd0c30"
      },
      "source": [
        "!pip install -q keras\n",
        "import keras"
      ],
      "execution_count": 1,
      "outputs": [
        {
          "output_type": "stream",
          "text": [
            "Using TensorFlow backend.\n"
          ],
          "name": "stderr"
        }
      ]
    },
    {
      "cell_type": "markdown",
      "metadata": {
        "id": "ZE5hIrP71tu6",
        "colab_type": "text"
      },
      "source": [
        "import the numpy library and refer it as np\n",
        "import models and layers"
      ]
    },
    {
      "cell_type": "code",
      "metadata": {
        "id": "Eso6UHE080D4",
        "colab_type": "code",
        "colab": {}
      },
      "source": [
        "import numpy as np\n",
        "\n",
        "from keras.models import Sequential\n",
        "from keras.layers import Dense, Dropout, Activation, Flatten, Add\n",
        "from keras.layers import Convolution2D, MaxPooling2D\n",
        "from keras.utils import np_utils\n",
        "\n",
        "from keras.datasets import mnist"
      ],
      "execution_count": 0,
      "outputs": []
    },
    {
      "cell_type": "markdown",
      "metadata": {
        "id": "zByEi95J86RD",
        "colab_type": "text"
      },
      "source": [
        "### Load pre-shuffled MNIST data into train and test sets"
      ]
    },
    {
      "cell_type": "markdown",
      "metadata": {
        "id": "fMQfxRc716bu",
        "colab_type": "text"
      },
      "source": [
        "load the dataset into 2D array(X_train and x_test) representing images\n",
        "and matrix for their prediction classes(y_train, y_test)"
      ]
    },
    {
      "cell_type": "code",
      "metadata": {
        "id": "7eRM0QWN83PV",
        "colab_type": "code",
        "colab": {}
      },
      "source": [
        "(X_train, y_train), (X_test, y_test) = mnist.load_data()"
      ],
      "execution_count": 0,
      "outputs": []
    },
    {
      "cell_type": "markdown",
      "metadata": {
        "id": "di6Si65O2GQt",
        "colab_type": "text"
      },
      "source": [
        "Check the dimension of X_train, it has sixty thousand images of dimension 28 by 28.\n",
        "\n",
        "Import the pyplot module from matplotlib to visualise the 2D array representations as images.\n",
        "\n",
        "Display the output of plotting command below the code block"
      ]
    },
    {
      "cell_type": "code",
      "metadata": {
        "id": "4a4Be72j8-ZC",
        "colab_type": "code",
        "outputId": "215ea3d7-a9c3-4ef5-ec8f-415a4298680d",
        "colab": {
          "base_uri": "https://localhost:8080/",
          "height": 0
        }
      },
      "source": [
        "print (X_train.shape)\n",
        "from matplotlib import pyplot as plt\n",
        "%matplotlib inline\n",
        "plt.imshow(X_train[0])"
      ],
      "execution_count": 4,
      "outputs": [
        {
          "output_type": "stream",
          "text": [
            "(60000, 28, 28)\n"
          ],
          "name": "stdout"
        },
        {
          "output_type": "execute_result",
          "data": {
            "text/plain": [
              "<matplotlib.image.AxesImage at 0x7face6c6b908>"
            ]
          },
          "metadata": {
            "tags": []
          },
          "execution_count": 4
        },
        {
          "output_type": "display_data",
          "data": {
            "image/png": "[encoded data removed]",
            "text/plain": [
              "<Figure size 432x288 with 1 Axes>"
            ]
          },
          "metadata": {
            "tags": []
          }
        }
      ]
    },
    {
      "cell_type": "markdown",
      "metadata": {
        "id": "WBTFhlcj2XhQ",
        "colab_type": "text"
      },
      "source": [
        " Converting the greyscale image dataset to required input shape for coloured images"
      ]
    },
    {
      "cell_type": "code",
      "metadata": {
        "id": "dkmprriw9AnZ",
        "colab_type": "code",
        "colab": {}
      },
      "source": [
        "X_train = X_train.reshape(X_train.shape[0], 28, 28,1)\n",
        "X_test = X_test.reshape(X_test.shape[0], 28, 28,1)"
      ],
      "execution_count": 0,
      "outputs": []
    },
    {
      "cell_type": "markdown",
      "metadata": {
        "id": "lMRZj9Ye2mPE",
        "colab_type": "text"
      },
      "source": [
        "converting the values to float32 and normalising to convert them in floating values"
      ]
    },
    {
      "cell_type": "code",
      "metadata": {
        "id": "X2m4YS4E9CRh",
        "colab_type": "code",
        "colab": {}
      },
      "source": [
        "X_train = X_train.astype('float32')\n",
        "X_test = X_test.astype('float32')\n",
        "X_train /= 255\n",
        "X_test /= 255"
      ],
      "execution_count": 0,
      "outputs": []
    },
    {
      "cell_type": "markdown",
      "metadata": {
        "id": "cq3V-Aly2rj_",
        "colab_type": "text"
      },
      "source": [
        "last 10 values from training output"
      ]
    },
    {
      "cell_type": "code",
      "metadata": {
        "id": "0Mn0vAYD9DvB",
        "colab_type": "code",
        "outputId": "55acef5d-857f-4f00-e07b-28a3c99ad2df",
        "colab": {
          "base_uri": "https://localhost:8080/",
          "height": 0
        }
      },
      "source": [
        "y_train[:10]"
      ],
      "execution_count": 7,
      "outputs": [
        {
          "output_type": "execute_result",
          "data": {
            "text/plain": [
              "array([5, 0, 4, 1, 9, 2, 1, 3, 1, 4], dtype=uint8)"
            ]
          },
          "metadata": {
            "tags": []
          },
          "execution_count": 7
        }
      ]
    },
    {
      "cell_type": "markdown",
      "metadata": {
        "id": "OKp2QCam2uz3",
        "colab_type": "text"
      },
      "source": [
        "Convert 1-dimensional class arrays to 10-dimensional class matrices\n",
        "e.g. converting output 5 to [0,0,0,0,1,0,0,0,0,0]\n",
        "now our network can predict values for each class "
      ]
    },
    {
      "cell_type": "code",
      "metadata": {
        "id": "ZG8JiXR39FHC",
        "colab_type": "code",
        "colab": {}
      },
      "source": [
        "Y_train = np_utils.to_categorical(y_train, 10)\n",
        "Y_test = np_utils.to_categorical(y_test, 10)"
      ],
      "execution_count": 0,
      "outputs": []
    },
    {
      "cell_type": "code",
      "metadata": {
        "id": "fYlFRvKS9HMB",
        "colab_type": "code",
        "outputId": "ff3144d4-837c-49b8-a6a9-5d70d9302fb9",
        "colab": {
          "base_uri": "https://localhost:8080/",
          "height": 0
        }
      },
      "source": [
        "Y_train[:10]\n"
      ],
      "execution_count": 9,
      "outputs": [
        {
          "output_type": "execute_result",
          "data": {
            "text/plain": [
              "array([[0., 0., 0., 0., 0., 1., 0., 0., 0., 0.],\n",
              "       [1., 0., 0., 0., 0., 0., 0., 0., 0., 0.],\n",
              "       [0., 0., 0., 0., 1., 0., 0., 0., 0., 0.],\n",
              "       [0., 1., 0., 0., 0., 0., 0., 0., 0., 0.],\n",
              "       [0., 0., 0., 0., 0., 0., 0., 0., 0., 1.],\n",
              "       [0., 0., 1., 0., 0., 0., 0., 0., 0., 0.],\n",
              "       [0., 1., 0., 0., 0., 0., 0., 0., 0., 0.],\n",
              "       [0., 0., 0., 1., 0., 0., 0., 0., 0., 0.],\n",
              "       [0., 1., 0., 0., 0., 0., 0., 0., 0., 0.],\n",
              "       [0., 0., 0., 0., 1., 0., 0., 0., 0., 0.]], dtype=float32)"
            ]
          },
          "metadata": {
            "tags": []
          },
          "execution_count": 9
        }
      ]
    },
    {
      "cell_type": "markdown",
      "metadata": {
        "id": "JTsYTRyeUwag",
        "colab_type": "text"
      },
      "source": [
        "### Create the model"
      ]
    },
    {
      "cell_type": "code",
      "metadata": {
        "id": "krzCFMM1YC7a",
        "colab_type": "code",
        "outputId": "2f9fefc5-86bf-42ff-9fc2-76cd08dd5fba",
        "colab": {
          "base_uri": "https://localhost:8080/",
          "height": 853
        }
      },
      "source": [
        "from keras.layers.normalization import BatchNormalization\n",
        "\n",
        "\n",
        "from keras.layers import Activation\n",
        "model = Sequential()\n",
        "\n",
        " \n",
        "model.add(Convolution2D(32, 5, 5, activation='relu', input_shape=(28,28,1))) #24\n",
        "model.add(BatchNormalization())\n",
        "model.add(MaxPooling2D(pool_size=(2, 2))) #12\n",
        "model.add(Convolution2D(10, 1, 1, activation='relu'))\n",
        "model.add(BatchNormalization())\n",
        "model.add(Dropout(0.1))\n",
        "\n",
        "model.add(Convolution2D(32, 5, 5, activation='relu')) #8\n",
        "model.add(BatchNormalization())\n",
        "model.add(MaxPooling2D(pool_size=(2, 2))) #4\n",
        "model.add(BatchNormalization())\n",
        "model.add(Convolution2D(20, 1, 1, activation='relu'))\n",
        "model.add(BatchNormalization())\n",
        "model.add(Dropout(0.1))\n",
        "\n",
        "model.add(Convolution2D(10, 4)) #1\n",
        "model.add(BatchNormalization())\n",
        "model.add(Flatten())\n",
        "model.add(Activation('softmax'))\n",
        "\n",
        "model.summary()"
      ],
      "execution_count": 17,
      "outputs": [
        {
          "output_type": "stream",
          "text": [
            "WARNING:tensorflow:From /usr/local/lib/python3.6/dist-packages/keras/backend/tensorflow_backend.py:3445: calling dropout (from tensorflow.python.ops.nn_ops) with keep_prob is deprecated and will be removed in a future version.\n",
            "Instructions for updating:\n",
            "Please use `rate` instead of `keep_prob`. Rate should be set to `rate = 1 - keep_prob`.\n"
          ],
          "name": "stdout"
        },
        {
          "output_type": "stream",
          "text": [
            "/usr/local/lib/python3.6/dist-packages/ipykernel_launcher.py:41: UserWarning: Update your `Conv2D` call to the Keras 2 API: `Conv2D(32, (5, 5), activation=\"relu\", input_shape=(28, 28, 1...)`\n",
            "/usr/local/lib/python3.6/dist-packages/ipykernel_launcher.py:44: UserWarning: Update your `Conv2D` call to the Keras 2 API: `Conv2D(10, (1, 1), activation=\"relu\")`\n",
            "/usr/local/lib/python3.6/dist-packages/ipykernel_launcher.py:48: UserWarning: Update your `Conv2D` call to the Keras 2 API: `Conv2D(32, (5, 5), activation=\"relu\")`\n",
            "/usr/local/lib/python3.6/dist-packages/ipykernel_launcher.py:52: UserWarning: Update your `Conv2D` call to the Keras 2 API: `Conv2D(20, (1, 1), activation=\"relu\")`\n"
          ],
          "name": "stderr"
        },
        {
          "output_type": "stream",
          "text": [
            "_________________________________________________________________\n",
            "Layer (type)                 Output Shape              Param #   \n",
            "=================================================================\n",
            "conv2d_7 (Conv2D)            (None, 24, 24, 32)        832       \n",
            "_________________________________________________________________\n",
            "batch_normalization_7 (Batch (None, 24, 24, 32)        128       \n",
            "_________________________________________________________________\n",
            "max_pooling2d_3 (MaxPooling2 (None, 12, 12, 32)        0         \n",
            "_________________________________________________________________\n",
            "conv2d_8 (Conv2D)            (None, 12, 12, 10)        330       \n",
            "_________________________________________________________________\n",
            "batch_normalization_8 (Batch (None, 12, 12, 10)        40        \n",
            "_________________________________________________________________\n",
            "dropout_1 (Dropout)          (None, 12, 12, 10)        0         \n",
            "_________________________________________________________________\n",
            "conv2d_9 (Conv2D)            (None, 8, 8, 32)          8032      \n",
            "_________________________________________________________________\n",
            "batch_normalization_9 (Batch (None, 8, 8, 32)          128       \n",
            "_________________________________________________________________\n",
            "max_pooling2d_4 (MaxPooling2 (None, 4, 4, 32)          0         \n",
            "_________________________________________________________________\n",
            "batch_normalization_10 (Batc (None, 4, 4, 32)          128       \n",
            "_________________________________________________________________\n",
            "conv2d_10 (Conv2D)           (None, 4, 4, 20)          660       \n",
            "_________________________________________________________________\n",
            "batch_normalization_11 (Batc (None, 4, 4, 20)          80        \n",
            "_________________________________________________________________\n",
            "dropout_2 (Dropout)          (None, 4, 4, 20)          0         \n",
            "_________________________________________________________________\n",
            "conv2d_11 (Conv2D)           (None, 1, 1, 10)          3210      \n",
            "_________________________________________________________________\n",
            "batch_normalization_12 (Batc (None, 1, 1, 10)          40        \n",
            "_________________________________________________________________\n",
            "flatten_2 (Flatten)          (None, 10)                0         \n",
            "_________________________________________________________________\n",
            "activation_2 (Activation)    (None, 10)                0         \n",
            "=================================================================\n",
            "Total params: 13,608\n",
            "Trainable params: 13,336\n",
            "Non-trainable params: 272\n",
            "_________________________________________________________________\n"
          ],
          "name": "stdout"
        }
      ]
    },
    {
      "cell_type": "markdown",
      "metadata": {
        "id": "zN-gTHp8VJWI",
        "colab_type": "text"
      },
      "source": [
        "### Train the model"
      ]
    },
    {
      "cell_type": "markdown",
      "metadata": {
        "id": "HZmIym6KVR-_",
        "colab_type": "text"
      },
      "source": [
        "compile the defined model and set configurations to tell how it should learn"
      ]
    },
    {
      "cell_type": "code",
      "metadata": {
        "id": "Zp6SuGrL9M3h",
        "colab_type": "code",
        "colab": {}
      },
      "source": [
        "model.compile(loss='categorical_crossentropy',\n",
        "             optimizer='adam',\n",
        "             metrics=['accuracy'])"
      ],
      "execution_count": 0,
      "outputs": []
    },
    {
      "cell_type": "markdown",
      "metadata": {
        "id": "Ppk649vlVdJC",
        "colab_type": "text"
      },
      "source": [
        "Fitting the model with our training data to start learning.\n",
        "\n",
        "Look at 32 images at once(batch_size), run 45 times(nb_epoch),  print output(verbose)"
      ]
    },
    {
      "cell_type": "code",
      "metadata": {
        "colab_type": "code",
        "outputId": "a7603258-0d63-4078-f53c-d326bc8cb29a",
        "id": "Xi7FIz_FrZwQ",
        "colab": {
          "base_uri": "https://localhost:8080/",
          "height": 425
        }
      },
      "source": [
        "model.fit(X_train, Y_train, batch_size=32, nb_epoch=10, verbose=1, validation_data=(X_test, Y_test))"
      ],
      "execution_count": 19,
      "outputs": [
        {
          "output_type": "stream",
          "text": [
            "/usr/local/lib/python3.6/dist-packages/ipykernel_launcher.py:1: UserWarning: The `nb_epoch` argument in `fit` has been renamed `epochs`.\n",
            "  \"\"\"Entry point for launching an IPython kernel.\n"
          ],
          "name": "stderr"
        },
        {
          "output_type": "stream",
          "text": [
            "Train on 60000 samples, validate on 10000 samples\n",
            "Epoch 1/10\n",
            "60000/60000 [==============================] - 21s 354us/step - loss: 0.3850 - acc: 0.9338 - val_loss: 0.1072 - val_acc: 0.9826\n",
            "Epoch 2/10\n",
            "60000/60000 [==============================] - 20s 328us/step - loss: 0.1541 - acc: 0.9688 - val_loss: 0.0566 - val_acc: 0.9891\n",
            "Epoch 3/10\n",
            "60000/60000 [==============================] - 20s 327us/step - loss: 0.1060 - acc: 0.9766 - val_loss: 0.0462 - val_acc: 0.9895\n",
            "Epoch 4/10\n",
            "60000/60000 [==============================] - 21s 343us/step - loss: 0.0840 - acc: 0.9804 - val_loss: 0.0361 - val_acc: 0.9910\n",
            "Epoch 5/10\n",
            "60000/60000 [==============================] - 20s 332us/step - loss: 0.0691 - acc: 0.9833 - val_loss: 0.0302 - val_acc: 0.9903\n",
            "Epoch 6/10\n",
            "60000/60000 [==============================] - 20s 328us/step - loss: 0.0590 - acc: 0.9855 - val_loss: 0.0289 - val_acc: 0.9922\n",
            "Epoch 7/10\n",
            "60000/60000 [==============================] - 20s 328us/step - loss: 0.0525 - acc: 0.9867 - val_loss: 0.0337 - val_acc: 0.9905\n",
            "Epoch 8/10\n",
            "60000/60000 [==============================] - 20s 340us/step - loss: 0.0457 - acc: 0.9883 - val_loss: 0.0236 - val_acc: 0.9930\n",
            "Epoch 9/10\n",
            "60000/60000 [==============================] - 20s 333us/step - loss: 0.0440 - acc: 0.9888 - val_loss: 0.0250 - val_acc: 0.9931\n",
            "Epoch 10/10\n",
            "60000/60000 [==============================] - 20s 327us/step - loss: 0.0411 - acc: 0.9891 - val_loss: 0.0250 - val_acc: 0.9922\n"
          ],
          "name": "stdout"
        },
        {
          "output_type": "execute_result",
          "data": {
            "text/plain": [
              "<keras.callbacks.History at 0x7faca1f068d0>"
            ]
          },
          "metadata": {
            "tags": []
          },
          "execution_count": 19
        }
      ]
    },
    {
      "cell_type": "code",
      "metadata": {
        "id": "wlMTu1LL_DLt",
        "colab_type": "code",
        "outputId": "100195db-ebac-4b24-a694-7f7da315129e",
        "colab": {
          "base_uri": "https://localhost:8080/",
          "height": 445
        }
      },
      "source": [
        "model.fit(X_train, Y_train, batch_size=32, nb_epoch=10, verbose=1, validation_data=(X_test, Y_test))"
      ],
      "execution_count": 20,
      "outputs": [
        {
          "output_type": "stream",
          "text": [
            "Train on 60000 samples, validate on 10000 samples\n",
            "Epoch 1/10\n",
            "  576/60000 [..............................] - ETA: 19s - loss: 0.0222 - acc: 0.9965"
          ],
          "name": "stdout"
        },
        {
          "output_type": "stream",
          "text": [
            "/usr/local/lib/python3.6/dist-packages/ipykernel_launcher.py:1: UserWarning: The `nb_epoch` argument in `fit` has been renamed `epochs`.\n",
            "  \"\"\"Entry point for launching an IPython kernel.\n"
          ],
          "name": "stderr"
        },
        {
          "output_type": "stream",
          "text": [
            "60000/60000 [==============================] - 21s 352us/step - loss: 0.0374 - acc: 0.9902 - val_loss: 0.0239 - val_acc: 0.9926\n",
            "Epoch 2/10\n",
            "60000/60000 [==============================] - 21s 347us/step - loss: 0.0355 - acc: 0.9902 - val_loss: 0.0218 - val_acc: 0.9939\n",
            "Epoch 3/10\n",
            "60000/60000 [==============================] - 20s 327us/step - loss: 0.0334 - acc: 0.9908 - val_loss: 0.0206 - val_acc: 0.9940\n",
            "Epoch 4/10\n",
            "60000/60000 [==============================] - 20s 338us/step - loss: 0.0315 - acc: 0.9913 - val_loss: 0.0242 - val_acc: 0.9930\n",
            "Epoch 5/10\n",
            "60000/60000 [==============================] - 20s 328us/step - loss: 0.0313 - acc: 0.9910 - val_loss: 0.0199 - val_acc: 0.9929\n",
            "Epoch 6/10\n",
            "60000/60000 [==============================] - 21s 346us/step - loss: 0.0299 - acc: 0.9916 - val_loss: 0.0233 - val_acc: 0.9928\n",
            "Epoch 7/10\n",
            "60000/60000 [==============================] - 20s 326us/step - loss: 0.0273 - acc: 0.9919 - val_loss: 0.0228 - val_acc: 0.9933\n",
            "Epoch 8/10\n",
            "60000/60000 [==============================] - 20s 339us/step - loss: 0.0266 - acc: 0.9925 - val_loss: 0.0228 - val_acc: 0.9921\n",
            "Epoch 9/10\n",
            "60000/60000 [==============================] - 20s 336us/step - loss: 0.0262 - acc: 0.9922 - val_loss: 0.0199 - val_acc: 0.9934\n",
            "Epoch 10/10\n",
            "60000/60000 [==============================] - 21s 356us/step - loss: 0.0242 - acc: 0.9930 - val_loss: 0.0202 - val_acc: 0.9945\n"
          ],
          "name": "stdout"
        },
        {
          "output_type": "execute_result",
          "data": {
            "text/plain": [
              "<keras.callbacks.History at 0x7faca18c82b0>"
            ]
          },
          "metadata": {
            "tags": []
          },
          "execution_count": 20
        }
      ]
    },
    {
      "cell_type": "markdown",
      "metadata": {
        "id": "ySsHTksUVu3E",
        "colab_type": "text"
      },
      "source": [
        "### Evalutate the model on validation data\n",
        "\n",
        "calculate loss and accuracy"
      ]
    },
    {
      "cell_type": "code",
      "metadata": {
        "id": "mkX8JMv79q9r",
        "colab_type": "code",
        "outputId": "84e77735-3074-4626-92d4-67433fe0202d",
        "colab": {
          "base_uri": "https://localhost:8080/",
          "height": 34
        }
      },
      "source": [
        "score = model.evaluate(X_test, Y_test, verbose=0)\n",
        "print(score)"
      ],
      "execution_count": 21,
      "outputs": [
        {
          "output_type": "stream",
          "text": [
            "[0.02015105550568551, 0.9945]\n"
          ],
          "name": "stdout"
        }
      ]
    },
    {
      "cell_type": "markdown",
      "metadata": {
        "id": "uNv9rj2CV8iA",
        "colab_type": "text"
      },
      "source": [
        "get predictions on the validation data"
      ]
    },
    {
      "cell_type": "code",
      "metadata": {
        "id": "Ym7iCFBm9uBs",
        "colab_type": "code",
        "outputId": "41ab2a98-1ee1-418b-d8b8-5b7d33bc130b",
        "colab": {
          "base_uri": "https://localhost:8080/",
          "height": 340
        }
      },
      "source": [
        "y_pred = model.predict(X_test)\n",
        "print(y_pred[:9])\n",
        "print(y_test[:9])"
      ],
      "execution_count": 22,
      "outputs": [
        {
          "output_type": "stream",
          "text": [
            "[[5.3875578e-07 3.1047371e-06 1.5342609e-07 6.6570396e-06 1.2678759e-06\n",
            "  1.5401116e-07 1.1164503e-06 9.9998510e-01 2.7054298e-07 1.5822867e-06]\n",
            " [4.5606726e-06 4.1768810e-05 9.9990273e-01 2.3756281e-06 6.2876929e-06\n",
            "  2.4098489e-08 2.6690972e-05 2.9272252e-07 6.1199285e-07 1.4618376e-05]\n",
            " [1.8946261e-05 9.9990582e-01 2.3402157e-07 9.9652618e-07 4.4623139e-06\n",
            "  1.3145060e-05 1.9153054e-05 1.2744529e-05 3.8137232e-06 2.0703781e-05]\n",
            " [9.9994123e-01 5.9277077e-06 1.6693498e-06 1.5698893e-06 3.6408576e-08\n",
            "  7.0107092e-07 2.1802129e-05 7.1503641e-06 3.1383672e-06 1.6760296e-05]\n",
            " [1.5242740e-05 6.6317807e-05 9.1649881e-06 1.1851693e-05 9.9982423e-01\n",
            "  1.2998086e-06 3.7624802e-06 8.6311738e-06 3.0930656e-05 2.8596200e-05]\n",
            " [7.2192397e-06 9.9993944e-01 2.2744170e-07 2.2420743e-07 6.5449881e-06\n",
            "  1.4438906e-06 2.1335372e-06 2.4506366e-05 3.2119372e-06 1.4946791e-05]\n",
            " [5.9800010e-07 2.9079703e-05 1.6931375e-06 7.3782263e-07 9.9967754e-01\n",
            "  1.2995287e-06 3.6464207e-05 3.6093010e-07 2.4267235e-04 9.6422991e-06]\n",
            " [3.2063706e-08 2.8015343e-06 4.1142080e-06 1.5498868e-07 7.0326455e-06\n",
            "  9.1217953e-07 1.1113092e-08 3.6791012e-09 4.4318553e-05 9.9994063e-01]\n",
            " [1.4777199e-03 6.6169426e-03 8.2965655e-04 2.7466958e-04 4.9184315e-04\n",
            "  4.4430727e-01 5.4068118e-01 1.5736773e-03 3.6588975e-03 8.8165543e-05]]\n",
            "[7 2 1 0 4 1 4 9 5]\n"
          ],
          "name": "stdout"
        }
      ]
    },
    {
      "cell_type": "markdown",
      "metadata": {
        "id": "o1Byr2-u9KhT",
        "colab_type": "text"
      },
      "source": [
        "### Visualising what filters are trying to extract"
      ]
    },
    {
      "cell_type": "code",
      "metadata": {
        "id": "CT--y98_dr2T",
        "colab_type": "code",
        "colab": {}
      },
      "source": [
        "layer_dict = dict([(layer.name, layer) for layer in model.layers])"
      ],
      "execution_count": 0,
      "outputs": []
    },
    {
      "cell_type": "code",
      "metadata": {
        "id": "2GY4Upv4dsUR",
        "colab_type": "code",
        "outputId": "bb09ee30-f662-496d-9c0e-78a8bfe978ae",
        "colab": {
          "base_uri": "https://localhost:8080/",
          "height": 741
        }
      },
      "source": [
        "import numpy as np\n",
        "from matplotlib import pyplot as plt\n",
        "from keras import backend as K\n",
        "%matplotlib inline\n",
        "# util function to convert a tensor into a valid image\n",
        "def deprocess_image(x):\n",
        "    # normalize tensor: center on 0., ensure std is 0.1\n",
        "    x -= x.mean()\n",
        "    x /= (x.std() + 1e-5)\n",
        "    x *= 0.1\n",
        "\n",
        "    # clip to [0, 1]\n",
        "    x += 0.5\n",
        "    x = np.clip(x, 0, 1)\n",
        "\n",
        "    # convert to RGB array\n",
        "    x *= 255\n",
        "    #x = x.transpose((1, 2, 0))\n",
        "    x = np.clip(x, 0, 255).astype('uint8')\n",
        "    return x\n",
        "\n",
        "def vis_img_in_filter(img = np.array(X_train[2]).reshape((1, 28, 28, 1)).astype(np.float64), \n",
        "                      layer_name = 'conv2d_14'):\n",
        "    layer_output = layer_dict[layer_name].output\n",
        "    img_ascs = list()\n",
        "    for filter_index in range(layer_output.shape[3]):\n",
        "        # build a loss function that maximizes the activation\n",
        "        # of the nth filter of the layer considered\n",
        "        loss = K.mean(layer_output[:, :, :, filter_index])\n",
        "\n",
        "        # compute the gradient of the input picture wrt this loss\n",
        "        grads = K.gradients(loss, model.input)[0]\n",
        "\n",
        "        # normalization trick: we normalize the gradient\n",
        "        grads /= (K.sqrt(K.mean(K.square(grads))) + 1e-5)\n",
        "\n",
        "        # this function returns the loss and grads given the input picture\n",
        "        iterate = K.function([model.input], [loss, grads])\n",
        "\n",
        "        # step size for gradient ascent\n",
        "        step = 5.\n",
        "\n",
        "        img_asc = np.array(img)\n",
        "        # run gradient ascent for 20 steps\n",
        "        for i in range(20):\n",
        "            loss_value, grads_value = iterate([img_asc])\n",
        "            img_asc += grads_value * step\n",
        "\n",
        "        img_asc = img_asc[0]\n",
        "        img_ascs.append(deprocess_image(img_asc).reshape((28, 28)))\n",
        "        \n",
        "    if layer_output.shape[3] >= 35:\n",
        "        plot_x, plot_y = 6, 6\n",
        "    elif layer_output.shape[3] >= 23:\n",
        "        plot_x, plot_y = 4, 6\n",
        "    elif layer_output.shape[3] >= 11:\n",
        "        plot_x, plot_y = 2, 6\n",
        "    else:\n",
        "        plot_x, plot_y = 1, 2\n",
        "    fig, ax = plt.subplots(plot_x, plot_y, figsize = (12, 12))\n",
        "    ax[0, 0].imshow(img.reshape((28, 28)), cmap = 'gray')\n",
        "    ax[0, 0].set_title('Input image')\n",
        "    fig.suptitle('Input image and %s filters' % (layer_name,))\n",
        "    fig.tight_layout(pad = 0.3, rect = [0, 0, 0.9, 0.9])\n",
        "    for (x, y) in [(i, j) for i in range(plot_x) for j in range(plot_y)]:\n",
        "        if x == 0 and y == 0:\n",
        "            continue\n",
        "        ax[x, y].imshow(img_ascs[x * plot_y + y - 1], cmap = 'gray')\n",
        "        ax[x, y].set_title('filter %d' % (x * plot_y + y - 1))\n",
        "\n",
        "vis_img_in_filter(layer_name='conv2d_10')"
      ],
      "execution_count": 26,
      "outputs": [
        {
          "output_type": "display_data",
          "data": {
            "image/png": "[encoded data removed]",
            "text/plain": [
              "<Figure size 864x864 with 12 Axes>"
            ]
          },
          "metadata": {
            "tags": []
          }
        }
      ]
    }
  ]
}