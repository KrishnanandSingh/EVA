{
  "nbformat": 4,
  "nbformat_minor": 0,
  "metadata": {
    "colab": {
      "name": "Second.ipynb",
      "version": "0.3.2",
      "provenance": [],
      "collapsed_sections": [
        "aNyZv-Ec52ot",
        "zByEi95J86RD"
      ],
      "include_colab_link": true
    },
    "kernelspec": {
      "name": "python3",
      "display_name": "Python 3"
    },
    "accelerator": "GPU"
  },
  "cells": [
    {
      "cell_type": "markdown",
      "metadata": {
        "id": "view-in-github",
        "colab_type": "text"
      },
      "source": [
        "<a href=\"https://colab.research.google.com/github/KrishnanandSingh/EVA/blob/master/Project-4/First.ipynb\" target=\"_parent\"><img src=\"https://colab.research.google.com/assets/colab-badge.svg\" alt=\"Open In Colab\"/></a>"
      ]
    },
    {
      "cell_type": "markdown",
      "metadata": {
        "id": "oqF3LNXA6A2E",
        "colab_type": "text"
      },
      "source": [
        "# Description\n",
        "\n",
        "Taking the vanilla network"
      ]
    },
    {
      "cell_type": "markdown",
      "metadata": {
        "id": "aNyZv-Ec52ot",
        "colab_type": "text"
      },
      "source": [
        "### **Import Libraries and modules**"
      ]
    },
    {
      "cell_type": "markdown",
      "metadata": {
        "id": "rULW6zBF12WG",
        "colab_type": "text"
      },
      "source": [
        "Install keras quitely\n",
        "and import it to be able to use it later"
      ]
    },
    {
      "cell_type": "code",
      "metadata": {
        "id": "3m3w1Cw49Zkt",
        "colab_type": "code",
        "colab": {}
      },
      "source": [
        "!pip install -q keras\n",
        "import keras"
      ],
      "execution_count": 0,
      "outputs": []
    },
    {
      "cell_type": "markdown",
      "metadata": {
        "id": "ZE5hIrP71tu6",
        "colab_type": "text"
      },
      "source": [
        "import the numpy library and refer it as np\n",
        "import models and layers"
      ]
    },
    {
      "cell_type": "code",
      "metadata": {
        "id": "Eso6UHE080D4",
        "colab_type": "code",
        "colab": {}
      },
      "source": [
        "import numpy as np\n",
        "\n",
        "from keras.models import Sequential\n",
        "from keras.layers import Dense, Dropout, Activation, Flatten, Add\n",
        "from keras.layers import Convolution2D, MaxPooling2D\n",
        "from keras.utils import np_utils\n",
        "\n",
        "from keras.datasets import mnist"
      ],
      "execution_count": 0,
      "outputs": []
    },
    {
      "cell_type": "markdown",
      "metadata": {
        "id": "zByEi95J86RD",
        "colab_type": "text"
      },
      "source": [
        "### Load pre-shuffled MNIST data into train and test sets"
      ]
    },
    {
      "cell_type": "markdown",
      "metadata": {
        "id": "fMQfxRc716bu",
        "colab_type": "text"
      },
      "source": [
        "load the dataset into 2D array(X_train and x_test) representing images\n",
        "and matrix for their prediction classes(y_train, y_test)"
      ]
    },
    {
      "cell_type": "code",
      "metadata": {
        "id": "7eRM0QWN83PV",
        "colab_type": "code",
        "colab": {}
      },
      "source": [
        "(X_train, y_train), (X_test, y_test) = mnist.load_data()"
      ],
      "execution_count": 0,
      "outputs": []
    },
    {
      "cell_type": "markdown",
      "metadata": {
        "id": "di6Si65O2GQt",
        "colab_type": "text"
      },
      "source": [
        "Check the dimension of X_train, it has sixty thousand images of dimension 28 by 28.\n",
        "\n",
        "Import the pyplot module from matplotlib to visualise the 2D array representations as images.\n",
        "\n",
        "Display the output of plotting command below the code block"
      ]
    },
    {
      "cell_type": "code",
      "metadata": {
        "id": "4a4Be72j8-ZC",
        "colab_type": "code",
        "outputId": "4d0f0483-4ced-4259-b8ea-c32d589905eb",
        "colab": {
          "base_uri": "https://localhost:8080/",
          "height": 0
        }
      },
      "source": [
        "print (X_train.shape)\n",
        "from matplotlib import pyplot as plt\n",
        "%matplotlib inline\n",
        "plt.imshow(X_train[0])"
      ],
      "execution_count": 16,
      "outputs": [
        {
          "output_type": "stream",
          "text": [
            "(60000, 28, 28)\n"
          ],
          "name": "stdout"
        },
        {
          "output_type": "execute_result",
          "data": {
            "text/plain": [
              "<matplotlib.image.AxesImage at 0x7fdad01c6e48>"
            ]
          },
          "metadata": {
            "tags": []
          },
          "execution_count": 16
        },
        {
          "output_type": "display_data",
          "data": {
            "image/png": "[encoded data removed]",
            "text/plain": [
              "<Figure size 432x288 with 1 Axes>"
            ]
          },
          "metadata": {
            "tags": []
          }
        }
      ]
    },
    {
      "cell_type": "markdown",
      "metadata": {
        "id": "WBTFhlcj2XhQ",
        "colab_type": "text"
      },
      "source": [
        " Converting the greyscale image dataset to required input shape for coloured images"
      ]
    },
    {
      "cell_type": "code",
      "metadata": {
        "id": "dkmprriw9AnZ",
        "colab_type": "code",
        "colab": {}
      },
      "source": [
        "X_train = X_train.reshape(X_train.shape[0], 28, 28,1)\n",
        "X_test = X_test.reshape(X_test.shape[0], 28, 28,1)"
      ],
      "execution_count": 0,
      "outputs": []
    },
    {
      "cell_type": "markdown",
      "metadata": {
        "id": "lMRZj9Ye2mPE",
        "colab_type": "text"
      },
      "source": [
        "converting the values to float32 and normalising to convert them in floating values"
      ]
    },
    {
      "cell_type": "code",
      "metadata": {
        "id": "X2m4YS4E9CRh",
        "colab_type": "code",
        "colab": {}
      },
      "source": [
        "X_train = X_train.astype('float32')\n",
        "X_test = X_test.astype('float32')\n",
        "X_train /= 255\n",
        "X_test /= 255"
      ],
      "execution_count": 0,
      "outputs": []
    },
    {
      "cell_type": "markdown",
      "metadata": {
        "id": "cq3V-Aly2rj_",
        "colab_type": "text"
      },
      "source": [
        "last 10 values from training output"
      ]
    },
    {
      "cell_type": "code",
      "metadata": {
        "id": "0Mn0vAYD9DvB",
        "colab_type": "code",
        "outputId": "8086979f-643a-4010-e2a0-ee83887564e0",
        "colab": {
          "base_uri": "https://localhost:8080/",
          "height": 0
        }
      },
      "source": [
        "y_train[:10]"
      ],
      "execution_count": 19,
      "outputs": [
        {
          "output_type": "execute_result",
          "data": {
            "text/plain": [
              "array([5, 0, 4, 1, 9, 2, 1, 3, 1, 4], dtype=uint8)"
            ]
          },
          "metadata": {
            "tags": []
          },
          "execution_count": 19
        }
      ]
    },
    {
      "cell_type": "markdown",
      "metadata": {
        "id": "OKp2QCam2uz3",
        "colab_type": "text"
      },
      "source": [
        "Convert 1-dimensional class arrays to 10-dimensional class matrices\n",
        "e.g. converting output 5 to [0,0,0,0,1,0,0,0,0,0]\n",
        "now our network can predict values for each class "
      ]
    },
    {
      "cell_type": "code",
      "metadata": {
        "id": "ZG8JiXR39FHC",
        "colab_type": "code",
        "colab": {}
      },
      "source": [
        "Y_train = np_utils.to_categorical(y_train, 10)\n",
        "Y_test = np_utils.to_categorical(y_test, 10)"
      ],
      "execution_count": 0,
      "outputs": []
    },
    {
      "cell_type": "code",
      "metadata": {
        "id": "fYlFRvKS9HMB",
        "colab_type": "code",
        "outputId": "77f25501-8a0b-46e1-d569-b6b065bb4c0b",
        "colab": {
          "base_uri": "https://localhost:8080/",
          "height": 0
        }
      },
      "source": [
        "Y_train[:10]\n"
      ],
      "execution_count": 21,
      "outputs": [
        {
          "output_type": "execute_result",
          "data": {
            "text/plain": [
              "array([[0., 0., 0., 0., 0., 1., 0., 0., 0., 0.],\n",
              "       [1., 0., 0., 0., 0., 0., 0., 0., 0., 0.],\n",
              "       [0., 0., 0., 0., 1., 0., 0., 0., 0., 0.],\n",
              "       [0., 1., 0., 0., 0., 0., 0., 0., 0., 0.],\n",
              "       [0., 0., 0., 0., 0., 0., 0., 0., 0., 1.],\n",
              "       [0., 0., 1., 0., 0., 0., 0., 0., 0., 0.],\n",
              "       [0., 1., 0., 0., 0., 0., 0., 0., 0., 0.],\n",
              "       [0., 0., 0., 1., 0., 0., 0., 0., 0., 0.],\n",
              "       [0., 1., 0., 0., 0., 0., 0., 0., 0., 0.],\n",
              "       [0., 0., 0., 0., 1., 0., 0., 0., 0., 0.]], dtype=float32)"
            ]
          },
          "metadata": {
            "tags": []
          },
          "execution_count": 21
        }
      ]
    },
    {
      "cell_type": "markdown",
      "metadata": {
        "id": "JTsYTRyeUwag",
        "colab_type": "text"
      },
      "source": [
        "### Create the model"
      ]
    },
    {
      "cell_type": "code",
      "metadata": {
        "id": "krzCFMM1YC7a",
        "colab_type": "code",
        "outputId": "3209bd4b-62d7-41c0-afb2-7128ed79c322",
        "colab": {
          "base_uri": "https://localhost:8080/",
          "height": 71
        }
      },
      "source": [
        "from keras.layers import Activation\n",
        "model = Sequential()\n",
        "\n",
        " \n",
        "model.add(Convolution2D(32, 3, 3, activation='relu', input_shape=(28,28,1)))\n",
        "model.add(Convolution2D(10, 1, activation='relu'))\n",
        "model.add(Convolution2D(10, 26))\n",
        "model.add(Flatten())\n",
        "model.add(Activation('softmax'))"
      ],
      "execution_count": 22,
      "outputs": [
        {
          "output_type": "stream",
          "text": [
            "/usr/local/lib/python3.6/dist-packages/ipykernel_launcher.py:5: UserWarning: Update your `Conv2D` call to the Keras 2 API: `Conv2D(32, (3, 3), activation=\"relu\", input_shape=(28, 28, 1...)`\n",
            "  \"\"\"\n"
          ],
          "name": "stderr"
        }
      ]
    },
    {
      "cell_type": "code",
      "metadata": {
        "id": "nZFE18xl6UfU",
        "colab_type": "code",
        "colab": {
          "base_uri": "https://localhost:8080/",
          "height": 306
        },
        "outputId": "d919819e-e17b-4277-9e32-1a8fea5d38fa"
      },
      "source": [
        "model.summary()"
      ],
      "execution_count": 29,
      "outputs": [
        {
          "output_type": "stream",
          "text": [
            "_________________________________________________________________\n",
            "Layer (type)                 Output Shape              Param #   \n",
            "=================================================================\n",
            "conv2d_4 (Conv2D)            (None, 26, 26, 32)        320       \n",
            "_________________________________________________________________\n",
            "conv2d_5 (Conv2D)            (None, 26, 26, 10)        330       \n",
            "_________________________________________________________________\n",
            "conv2d_6 (Conv2D)            (None, 1, 1, 10)          67610     \n",
            "_________________________________________________________________\n",
            "flatten_2 (Flatten)          (None, 10)                0         \n",
            "_________________________________________________________________\n",
            "activation_2 (Activation)    (None, 10)                0         \n",
            "=================================================================\n",
            "Total params: 68,260\n",
            "Trainable params: 68,260\n",
            "Non-trainable params: 0\n",
            "_________________________________________________________________\n"
          ],
          "name": "stdout"
        }
      ]
    },
    {
      "cell_type": "markdown",
      "metadata": {
        "id": "zN-gTHp8VJWI",
        "colab_type": "text"
      },
      "source": [
        "### Train the model"
      ]
    },
    {
      "cell_type": "markdown",
      "metadata": {
        "id": "HZmIym6KVR-_",
        "colab_type": "text"
      },
      "source": [
        "compile the defined model and set configurations to tell how it should learn"
      ]
    },
    {
      "cell_type": "code",
      "metadata": {
        "id": "Zp6SuGrL9M3h",
        "colab_type": "code",
        "colab": {}
      },
      "source": [
        "model.compile(loss='categorical_crossentropy',\n",
        "             optimizer='adam',\n",
        "             metrics=['accuracy'])"
      ],
      "execution_count": 0,
      "outputs": []
    },
    {
      "cell_type": "markdown",
      "metadata": {
        "id": "Ppk649vlVdJC",
        "colab_type": "text"
      },
      "source": [
        "Fitting the model with our training data to start learning.\n",
        "\n",
        "Look at 32 images at once(batch_size), run 45 times(nb_epoch),  print output(verbose)"
      ]
    },
    {
      "cell_type": "code",
      "metadata": {
        "colab_type": "code",
        "outputId": "f0a9dc6b-1aaa-45d0-bc85-201847232ab6",
        "id": "Xi7FIz_FrZwQ",
        "colab": {
          "base_uri": "https://localhost:8080/",
          "height": 425
        }
      },
      "source": [
        "model.fit(X_train, Y_train, batch_size=32, nb_epoch=10, verbose=1, validation_data=(X_test, Y_test))"
      ],
      "execution_count": 24,
      "outputs": [
        {
          "output_type": "stream",
          "text": [
            "/usr/local/lib/python3.6/dist-packages/ipykernel_launcher.py:1: UserWarning: The `nb_epoch` argument in `fit` has been renamed `epochs`.\n",
            "  \"\"\"Entry point for launching an IPython kernel.\n"
          ],
          "name": "stderr"
        },
        {
          "output_type": "stream",
          "text": [
            "Train on 60000 samples, validate on 10000 samples\n",
            "Epoch 1/10\n",
            "60000/60000 [==============================] - 8s 128us/step - loss: 0.1854 - acc: 0.9475 - val_loss: 0.0717 - val_acc: 0.9779\n",
            "Epoch 2/10\n",
            "60000/60000 [==============================] - 7s 123us/step - loss: 0.0663 - acc: 0.9798 - val_loss: 0.0681 - val_acc: 0.9782\n",
            "Epoch 3/10\n",
            "60000/60000 [==============================] - 7s 124us/step - loss: 0.0495 - acc: 0.9846 - val_loss: 0.0605 - val_acc: 0.9819\n",
            "Epoch 4/10\n",
            "60000/60000 [==============================] - 7s 124us/step - loss: 0.0399 - acc: 0.9873 - val_loss: 0.0624 - val_acc: 0.9816\n",
            "Epoch 5/10\n",
            "60000/60000 [==============================] - 8s 128us/step - loss: 0.0327 - acc: 0.9895 - val_loss: 0.0634 - val_acc: 0.9812\n",
            "Epoch 6/10\n",
            "60000/60000 [==============================] - 8s 132us/step - loss: 0.0266 - acc: 0.9909 - val_loss: 0.0635 - val_acc: 0.9821\n",
            "Epoch 7/10\n",
            "60000/60000 [==============================] - 7s 122us/step - loss: 0.0209 - acc: 0.9933 - val_loss: 0.0813 - val_acc: 0.9794\n",
            "Epoch 8/10\n",
            "60000/60000 [==============================] - 7s 122us/step - loss: 0.0170 - acc: 0.9944 - val_loss: 0.0747 - val_acc: 0.9818\n",
            "Epoch 9/10\n",
            "60000/60000 [==============================] - 7s 122us/step - loss: 0.0144 - acc: 0.9953 - val_loss: 0.0802 - val_acc: 0.9806\n",
            "Epoch 10/10\n",
            "60000/60000 [==============================] - 7s 122us/step - loss: 0.0111 - acc: 0.9963 - val_loss: 0.0801 - val_acc: 0.9824\n"
          ],
          "name": "stdout"
        },
        {
          "output_type": "execute_result",
          "data": {
            "text/plain": [
              "<keras.callbacks.History at 0x7fdad033c710>"
            ]
          },
          "metadata": {
            "tags": []
          },
          "execution_count": 24
        }
      ]
    },
    {
      "cell_type": "markdown",
      "metadata": {
        "id": "ySsHTksUVu3E",
        "colab_type": "text"
      },
      "source": [
        "### Evalutate the model on validation data\n",
        "\n",
        "calculate loss and accuracy"
      ]
    },
    {
      "cell_type": "code",
      "metadata": {
        "id": "mkX8JMv79q9r",
        "colab_type": "code",
        "outputId": "5b5532fc-66e1-4b1a-dd66-669296b1c7a9",
        "colab": {
          "base_uri": "https://localhost:8080/",
          "height": 34
        }
      },
      "source": [
        "score = model.evaluate(X_test, Y_test, verbose=0)\n",
        "print(score)"
      ],
      "execution_count": 25,
      "outputs": [
        {
          "output_type": "stream",
          "text": [
            "[0.08008617388444145, 0.9824]\n"
          ],
          "name": "stdout"
        }
      ]
    },
    {
      "cell_type": "markdown",
      "metadata": {
        "id": "uNv9rj2CV8iA",
        "colab_type": "text"
      },
      "source": [
        "get predictions on the validation data"
      ]
    },
    {
      "cell_type": "code",
      "metadata": {
        "id": "Ym7iCFBm9uBs",
        "colab_type": "code",
        "outputId": "24eb4221-3c5d-4348-f263-429df3c27474",
        "colab": {
          "base_uri": "https://localhost:8080/",
          "height": 340
        }
      },
      "source": [
        "y_pred = model.predict(X_test)\n",
        "print(y_pred[:9])\n",
        "print(y_test[:9])"
      ],
      "execution_count": 26,
      "outputs": [
        {
          "output_type": "stream",
          "text": [
            "[[5.0229426e-18 1.4610866e-16 2.2421486e-14 2.8512262e-10 5.6471930e-16\n",
            "  5.0014923e-17 7.0040422e-30 1.0000000e+00 5.6698049e-12 4.8759987e-13]\n",
            " [7.7047171e-12 3.5250500e-11 9.9999917e-01 8.1260370e-14 5.5779080e-23\n",
            "  1.4625982e-14 8.6234814e-07 3.6270082e-25 3.5200731e-10 5.0031435e-19]\n",
            " [7.7609308e-10 9.9992836e-01 7.6435214e-07 5.2230347e-12 6.5534201e-05\n",
            "  5.5088090e-09 7.3621869e-09 1.2036857e-06 4.1305830e-06 2.0054463e-11]\n",
            " [1.0000000e+00 1.1568247e-16 6.7607954e-11 6.6544699e-18 1.0667657e-17\n",
            "  7.3295926e-16 4.2615980e-11 7.0168555e-14 2.5481039e-13 2.1570677e-14]\n",
            " [2.8966137e-11 3.2871091e-16 4.9257316e-13 3.6096348e-11 9.9999893e-01\n",
            "  4.2265639e-16 1.3619090e-13 5.6342268e-11 3.7455539e-10 1.0704291e-06]\n",
            " [4.9961936e-12 9.9990249e-01 2.0461079e-09 1.4488537e-12 1.0032794e-05\n",
            "  6.1787516e-13 4.1120635e-11 8.5398948e-05 2.0704097e-06 3.6120690e-11]\n",
            " [1.7600984e-19 1.3334018e-13 6.9566743e-09 3.4359969e-12 9.9996877e-01\n",
            "  2.3765110e-09 1.8792890e-14 1.8825379e-08 3.1018440e-05 2.6697037e-07]\n",
            " [2.3814027e-25 8.2903628e-14 1.9494313e-15 4.0019135e-14 5.7983907e-10\n",
            "  2.7829501e-12 1.6060427e-24 6.4597120e-16 7.5939142e-12 1.0000000e+00]\n",
            " [9.4518615e-11 2.3148771e-23 4.9425140e-17 4.8280416e-12 2.1930435e-13\n",
            "  3.5797292e-01 6.4106256e-01 2.9731482e-20 9.6447481e-04 5.4825410e-14]]\n",
            "[7 2 1 0 4 1 4 9 5]\n"
          ],
          "name": "stdout"
        }
      ]
    },
    {
      "cell_type": "markdown",
      "metadata": {
        "id": "o1Byr2-u9KhT",
        "colab_type": "text"
      },
      "source": [
        "### Visualising what filters are trying to extract"
      ]
    },
    {
      "cell_type": "code",
      "metadata": {
        "id": "CT--y98_dr2T",
        "colab_type": "code",
        "colab": {}
      },
      "source": [
        "layer_dict = dict([(layer.name, layer) for layer in model.layers])"
      ],
      "execution_count": 0,
      "outputs": []
    },
    {
      "cell_type": "code",
      "metadata": {
        "id": "2GY4Upv4dsUR",
        "colab_type": "code",
        "outputId": "f8a9c63e-cc2b-4758-e3f3-e7e29a5fdefc",
        "colab": {
          "base_uri": "https://localhost:8080/",
          "height": 837
        }
      },
      "source": [
        "import numpy as np\n",
        "from matplotlib import pyplot as plt\n",
        "from keras import backend as K\n",
        "%matplotlib inline\n",
        "# util function to convert a tensor into a valid image\n",
        "def deprocess_image(x):\n",
        "    # normalize tensor: center on 0., ensure std is 0.1\n",
        "    x -= x.mean()\n",
        "    x /= (x.std() + 1e-5)\n",
        "    x *= 0.1\n",
        "\n",
        "    # clip to [0, 1]\n",
        "    x += 0.5\n",
        "    x = np.clip(x, 0, 1)\n",
        "\n",
        "    # convert to RGB array\n",
        "    x *= 255\n",
        "    #x = x.transpose((1, 2, 0))\n",
        "    x = np.clip(x, 0, 255).astype('uint8')\n",
        "    return x\n",
        "\n",
        "def vis_img_in_filter(img = np.array(X_train[2]).reshape((1, 28, 28, 1)).astype(np.float64), \n",
        "                      layer_name = 'conv2d_14'):\n",
        "    layer_output = layer_dict[layer_name].output\n",
        "    img_ascs = list()\n",
        "    for filter_index in range(layer_output.shape[3]):\n",
        "        # build a loss function that maximizes the activation\n",
        "        # of the nth filter of the layer considered\n",
        "        loss = K.mean(layer_output[:, :, :, filter_index])\n",
        "\n",
        "        # compute the gradient of the input picture wrt this loss\n",
        "        grads = K.gradients(loss, model.input)[0]\n",
        "\n",
        "        # normalization trick: we normalize the gradient\n",
        "        grads /= (K.sqrt(K.mean(K.square(grads))) + 1e-5)\n",
        "\n",
        "        # this function returns the loss and grads given the input picture\n",
        "        iterate = K.function([model.input], [loss, grads])\n",
        "\n",
        "        # step size for gradient ascent\n",
        "        step = 5.\n",
        "\n",
        "        img_asc = np.array(img)\n",
        "        # run gradient ascent for 20 steps\n",
        "        for i in range(20):\n",
        "            loss_value, grads_value = iterate([img_asc])\n",
        "            img_asc += grads_value * step\n",
        "\n",
        "        img_asc = img_asc[0]\n",
        "        img_ascs.append(deprocess_image(img_asc).reshape((28, 28)))\n",
        "        \n",
        "    if layer_output.shape[3] >= 35:\n",
        "        plot_x, plot_y = 6, 6\n",
        "    elif layer_output.shape[3] >= 23:\n",
        "        plot_x, plot_y = 4, 6\n",
        "    elif layer_output.shape[3] >= 11:\n",
        "        plot_x, plot_y = 2, 6\n",
        "    else:\n",
        "        plot_x, plot_y = 1, 2\n",
        "    fig, ax = plt.subplots(plot_x, plot_y, figsize = (12, 12))\n",
        "    ax[0, 0].imshow(img.reshape((28, 28)), cmap = 'gray')\n",
        "    ax[0, 0].set_title('Input image')\n",
        "    fig.suptitle('Input image and %s filters' % (layer_name,))\n",
        "    fig.tight_layout(pad = 0.3, rect = [0, 0, 0.9, 0.9])\n",
        "    for (x, y) in [(i, j) for i in range(plot_x) for j in range(plot_y)]:\n",
        "        if x == 0 and y == 0:\n",
        "            continue\n",
        "        ax[x, y].imshow(img_ascs[x * plot_y + y - 1], cmap = 'gray')\n",
        "        ax[x, y].set_title('filter %d' % (x * plot_y + y - 1))\n",
        "\n",
        "vis_img_in_filter(layer_name='conv2d_4')"
      ],
      "execution_count": 32,
      "outputs": [
        {
          "output_type": "display_data",
          "data": {
            "image/png": "[encoded data removed]",
            "text/plain": [
              "<Figure size 864x864 with 24 Axes>"
            ]
          },
          "metadata": {
            "tags": []
          }
        }
      ]
    }
  ]
}