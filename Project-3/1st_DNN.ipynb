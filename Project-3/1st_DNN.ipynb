{
  "nbformat": 4,
  "nbformat_minor": 0,
  "metadata": {
    "colab": {
      "name": "1st DNN.ipynb",
      "version": "0.3.2",
      "provenance": [],
      "collapsed_sections": [
        "aNyZv-Ec52ot",
        "zByEi95J86RD",
        "JTsYTRyeUwag",
        "zN-gTHp8VJWI",
        "o1Byr2-u9KhT"
      ],
      "include_colab_link": true
    },
    "kernelspec": {
      "name": "python3",
      "display_name": "Python 3"
    },
    "accelerator": "GPU"
  },
  "cells": [
    {
      "cell_type": "markdown",
      "metadata": {
        "id": "view-in-github",
        "colab_type": "text"
      },
      "source": [
        "<a href=\"https://colab.research.google.com/github/KrishnanandSingh/EVA/blob/master/Project-3/1st_DNN.ipynb\" target=\"_parent\"><img src=\"https://colab.research.google.com/assets/colab-badge.svg\" alt=\"Open In Colab\"/></a>"
      ]
    },
    {
      "cell_type": "markdown",
      "metadata": {
        "id": "aNyZv-Ec52ot",
        "colab_type": "text"
      },
      "source": [
        "### **Import Libraries and modules**"
      ]
    },
    {
      "cell_type": "markdown",
      "metadata": {
        "id": "rULW6zBF12WG",
        "colab_type": "text"
      },
      "source": [
        "Install keras quitely\n",
        "and import it to be able to use it later"
      ]
    },
    {
      "cell_type": "code",
      "metadata": {
        "id": "3m3w1Cw49Zkt",
        "colab_type": "code",
        "outputId": "46e1ffab-927d-4aee-b29e-4dc693a0e18a",
        "colab": {
          "base_uri": "https://localhost:8080/",
          "height": 34
        }
      },
      "source": [
        "!pip install -q keras\n",
        "import keras"
      ],
      "execution_count": 0,
      "outputs": [
        {
          "output_type": "stream",
          "text": [
            "Using TensorFlow backend.\n"
          ],
          "name": "stderr"
        }
      ]
    },
    {
      "cell_type": "markdown",
      "metadata": {
        "id": "ZE5hIrP71tu6",
        "colab_type": "text"
      },
      "source": [
        "import the numpy library and refer it as np\n",
        "import models and layers"
      ]
    },
    {
      "cell_type": "code",
      "metadata": {
        "id": "Eso6UHE080D4",
        "colab_type": "code",
        "colab": {}
      },
      "source": [
        "import numpy as np\n",
        "\n",
        "from keras.models import Sequential\n",
        "from keras.layers import Dense, Dropout, Activation, Flatten, Add\n",
        "from keras.layers import Convolution2D, MaxPooling2D\n",
        "from keras.utils import np_utils\n",
        "\n",
        "from keras.datasets import mnist"
      ],
      "execution_count": 0,
      "outputs": []
    },
    {
      "cell_type": "markdown",
      "metadata": {
        "id": "zByEi95J86RD",
        "colab_type": "text"
      },
      "source": [
        "### Load pre-shuffled MNIST data into train and test sets"
      ]
    },
    {
      "cell_type": "markdown",
      "metadata": {
        "id": "fMQfxRc716bu",
        "colab_type": "text"
      },
      "source": [
        "load the dataset into 2D array(X_train and x_test) representing images\n",
        "and matrix for their prediction classes(y_train, y_test)"
      ]
    },
    {
      "cell_type": "code",
      "metadata": {
        "id": "7eRM0QWN83PV",
        "colab_type": "code",
        "outputId": "3552c612-35f9-4792-cc14-fd0b0eb7fdb6",
        "colab": {
          "base_uri": "https://localhost:8080/",
          "height": 51
        }
      },
      "source": [
        "(X_train, y_train), (X_test, y_test) = mnist.load_data()"
      ],
      "execution_count": 0,
      "outputs": [
        {
          "output_type": "stream",
          "text": [
            "Downloading data from https://s3.amazonaws.com/img-datasets/mnist.npz\n",
            "11493376/11490434 [==============================] - 1s 0us/step\n"
          ],
          "name": "stdout"
        }
      ]
    },
    {
      "cell_type": "markdown",
      "metadata": {
        "id": "di6Si65O2GQt",
        "colab_type": "text"
      },
      "source": [
        "Check the dimension of X_train, it has sixty thousand images of dimension 28 by 28.\n",
        "\n",
        "Import the pyplot module from matplotlib to visualise the 2D array representations as images.\n",
        "\n",
        "Display the output of plotting command below the code block"
      ]
    },
    {
      "cell_type": "code",
      "metadata": {
        "id": "4a4Be72j8-ZC",
        "colab_type": "code",
        "outputId": "7baaba29-9345-4fb4-b729-79bee1edfeeb",
        "colab": {
          "base_uri": "https://localhost:8080/",
          "height": 303
        }
      },
      "source": [
        "print (X_train.shape)\n",
        "from matplotlib import pyplot as plt\n",
        "%matplotlib inline\n",
        "plt.imshow(X_train[0])"
      ],
      "execution_count": 0,
      "outputs": [
        {
          "output_type": "stream",
          "text": [
            "(60000, 28, 28)\n"
          ],
          "name": "stdout"
        },
        {
          "output_type": "execute_result",
          "data": {
            "text/plain": [
              "<matplotlib.image.AxesImage at 0x7f8eb3deed30>"
            ]
          },
          "metadata": {
            "tags": []
          },
          "execution_count": 4
        },
        {
          "output_type": "display_data",
          "data": {
            "image/png": "[encoded data removed]",
            "text/plain": [
              "<Figure size 432x288 with 1 Axes>"
            ]
          },
          "metadata": {
            "tags": []
          }
        }
      ]
    },
    {
      "cell_type": "markdown",
      "metadata": {
        "id": "WBTFhlcj2XhQ",
        "colab_type": "text"
      },
      "source": [
        " Converting the greyscale image dataset to required input shape for coloured images"
      ]
    },
    {
      "cell_type": "code",
      "metadata": {
        "id": "dkmprriw9AnZ",
        "colab_type": "code",
        "colab": {}
      },
      "source": [
        "X_train = X_train.reshape(X_train.shape[0], 28, 28,1)\n",
        "X_test = X_test.reshape(X_test.shape[0], 28, 28,1)"
      ],
      "execution_count": 0,
      "outputs": []
    },
    {
      "cell_type": "markdown",
      "metadata": {
        "id": "lMRZj9Ye2mPE",
        "colab_type": "text"
      },
      "source": [
        "converting the values to float32 and normalising to convert them in floating values"
      ]
    },
    {
      "cell_type": "code",
      "metadata": {
        "id": "X2m4YS4E9CRh",
        "colab_type": "code",
        "colab": {}
      },
      "source": [
        "X_train = X_train.astype('float32')\n",
        "X_test = X_test.astype('float32')\n",
        "X_train /= 255\n",
        "X_test /= 255"
      ],
      "execution_count": 0,
      "outputs": []
    },
    {
      "cell_type": "markdown",
      "metadata": {
        "id": "cq3V-Aly2rj_",
        "colab_type": "text"
      },
      "source": [
        "last 10 values from training output"
      ]
    },
    {
      "cell_type": "code",
      "metadata": {
        "id": "0Mn0vAYD9DvB",
        "colab_type": "code",
        "outputId": "ca5617de-af05-440f-ccfa-e1d2f0ad1b18",
        "colab": {
          "base_uri": "https://localhost:8080/",
          "height": 34
        }
      },
      "source": [
        "y_train[:10]"
      ],
      "execution_count": 0,
      "outputs": [
        {
          "output_type": "execute_result",
          "data": {
            "text/plain": [
              "array([5, 0, 4, 1, 9, 2, 1, 3, 1, 4], dtype=uint8)"
            ]
          },
          "metadata": {
            "tags": []
          },
          "execution_count": 7
        }
      ]
    },
    {
      "cell_type": "markdown",
      "metadata": {
        "id": "OKp2QCam2uz3",
        "colab_type": "text"
      },
      "source": [
        "Convert 1-dimensional class arrays to 10-dimensional class matrices\n",
        "e.g. converting output 5 to [0,0,0,0,1,0,0,0,0,0]\n",
        "now our network can predict values for each class "
      ]
    },
    {
      "cell_type": "code",
      "metadata": {
        "id": "ZG8JiXR39FHC",
        "colab_type": "code",
        "colab": {}
      },
      "source": [
        "Y_train = np_utils.to_categorical(y_train, 10)\n",
        "Y_test = np_utils.to_categorical(y_test, 10)"
      ],
      "execution_count": 0,
      "outputs": []
    },
    {
      "cell_type": "code",
      "metadata": {
        "id": "fYlFRvKS9HMB",
        "colab_type": "code",
        "outputId": "5009ba7a-6dce-486a-b923-0c4a8bfbfeb5",
        "colab": {
          "base_uri": "https://localhost:8080/",
          "height": 187
        }
      },
      "source": [
        "Y_train[:10]\n"
      ],
      "execution_count": 0,
      "outputs": [
        {
          "output_type": "execute_result",
          "data": {
            "text/plain": [
              "array([[0., 0., 0., 0., 0., 1., 0., 0., 0., 0.],\n",
              "       [1., 0., 0., 0., 0., 0., 0., 0., 0., 0.],\n",
              "       [0., 0., 0., 0., 1., 0., 0., 0., 0., 0.],\n",
              "       [0., 1., 0., 0., 0., 0., 0., 0., 0., 0.],\n",
              "       [0., 0., 0., 0., 0., 0., 0., 0., 0., 1.],\n",
              "       [0., 0., 1., 0., 0., 0., 0., 0., 0., 0.],\n",
              "       [0., 1., 0., 0., 0., 0., 0., 0., 0., 0.],\n",
              "       [0., 0., 0., 1., 0., 0., 0., 0., 0., 0.],\n",
              "       [0., 1., 0., 0., 0., 0., 0., 0., 0., 0.],\n",
              "       [0., 0., 0., 0., 1., 0., 0., 0., 0., 0.]], dtype=float32)"
            ]
          },
          "metadata": {
            "tags": []
          },
          "execution_count": 9
        }
      ]
    },
    {
      "cell_type": "markdown",
      "metadata": {
        "id": "JTsYTRyeUwag",
        "colab_type": "text"
      },
      "source": [
        "### Create the model"
      ]
    },
    {
      "cell_type": "code",
      "metadata": {
        "id": "krzCFMM1YC7a",
        "colab_type": "code",
        "outputId": "99d2932f-19ce-4f6f-8f4d-bce449e84dc5",
        "colab": {
          "base_uri": "https://localhost:8080/",
          "height": 1193
        }
      },
      "source": [
        "from keras.layers import Activation, MaxPooling2D, Dense, Dropout\n",
        "from keras.layers.normalization import BatchNormalization\n",
        "\n",
        "model = Sequential() \n",
        "\n",
        "model.add(Convolution2D(24, 3, 3, activation='relu', input_shape=(28,28,1)))\n",
        "model.add(Convolution2D(20, 3, 3, activation='relu'))\n",
        "model.add(Dropout(0.1))\n",
        "model.add(Convolution2D(16, 3, 3, activation='relu'))\n",
        "model.add(Dropout(0.2))\n",
        "\n",
        "model.add(Convolution2D(10, 1, 1))\n",
        "model.add(BatchNormalization())\n",
        "model.add(Activation('relu'))\n",
        "\n",
        "model.add(MaxPooling2D(pool_size=(2, 2)))\n",
        "\n",
        "model.add(Convolution2D(16, 3, 3, activation='relu'))\n",
        "model.add(Dropout(0.1))\n",
        "model.add(Convolution2D(20, 3, 3, activation='relu'))\n",
        "model.add(Dropout(0.1))\n",
        "model.add(Convolution2D(24, 3, 3, activation='relu'))\n",
        "model.add(Dropout(0.2))\n",
        "\n",
        "model.add(Convolution2D(10, 1, 1))\n",
        "model.add(BatchNormalization())\n",
        "model.add(Activation('relu'))\n",
        "\n",
        "model.add(Convolution2D(18, 3, 3, activation='relu', name=\"3x3_named\"))\n",
        "model.add(Dropout(0.1))\n",
        "model.add(Convolution2D(10, 3))\n",
        "\n",
        "model.add(Flatten())\n",
        "model.add(BatchNormalization())\n",
        "model.add(Activation('softmax'))\n",
        "\n",
        "model.summary()"
      ],
      "execution_count": 0,
      "outputs": [
        {
          "output_type": "stream",
          "text": [
            "/usr/local/lib/python3.6/dist-packages/ipykernel_launcher.py:6: UserWarning: Update your `Conv2D` call to the Keras 2 API: `Conv2D(24, (3, 3), activation=\"relu\", input_shape=(28, 28, 1...)`\n",
            "  \n",
            "/usr/local/lib/python3.6/dist-packages/ipykernel_launcher.py:7: UserWarning: Update your `Conv2D` call to the Keras 2 API: `Conv2D(20, (3, 3), activation=\"relu\")`\n",
            "  import sys\n",
            "/usr/local/lib/python3.6/dist-packages/ipykernel_launcher.py:9: UserWarning: Update your `Conv2D` call to the Keras 2 API: `Conv2D(16, (3, 3), activation=\"relu\")`\n",
            "  if __name__ == '__main__':\n",
            "/usr/local/lib/python3.6/dist-packages/ipykernel_launcher.py:12: UserWarning: Update your `Conv2D` call to the Keras 2 API: `Conv2D(10, (1, 1))`\n",
            "  if sys.path[0] == '':\n",
            "/usr/local/lib/python3.6/dist-packages/ipykernel_launcher.py:18: UserWarning: Update your `Conv2D` call to the Keras 2 API: `Conv2D(16, (3, 3), activation=\"relu\")`\n",
            "/usr/local/lib/python3.6/dist-packages/ipykernel_launcher.py:20: UserWarning: Update your `Conv2D` call to the Keras 2 API: `Conv2D(20, (3, 3), activation=\"relu\")`\n",
            "/usr/local/lib/python3.6/dist-packages/ipykernel_launcher.py:22: UserWarning: Update your `Conv2D` call to the Keras 2 API: `Conv2D(24, (3, 3), activation=\"relu\")`\n",
            "/usr/local/lib/python3.6/dist-packages/ipykernel_launcher.py:25: UserWarning: Update your `Conv2D` call to the Keras 2 API: `Conv2D(10, (1, 1))`\n",
            "/usr/local/lib/python3.6/dist-packages/ipykernel_launcher.py:29: UserWarning: Update your `Conv2D` call to the Keras 2 API: `Conv2D(18, (3, 3), activation=\"relu\", name=\"3x3_named\")`\n"
          ],
          "name": "stderr"
        },
        {
          "output_type": "stream",
          "text": [
            "_________________________________________________________________\n",
            "Layer (type)                 Output Shape              Param #   \n",
            "=================================================================\n",
            "conv2d_86 (Conv2D)           (None, 26, 26, 24)        240       \n",
            "_________________________________________________________________\n",
            "conv2d_87 (Conv2D)           (None, 24, 24, 20)        4340      \n",
            "_________________________________________________________________\n",
            "dropout_36 (Dropout)         (None, 24, 24, 20)        0         \n",
            "_________________________________________________________________\n",
            "conv2d_88 (Conv2D)           (None, 22, 22, 16)        2896      \n",
            "_________________________________________________________________\n",
            "dropout_37 (Dropout)         (None, 22, 22, 16)        0         \n",
            "_________________________________________________________________\n",
            "conv2d_89 (Conv2D)           (None, 22, 22, 10)        170       \n",
            "_________________________________________________________________\n",
            "batch_normalization_86 (Batc (None, 22, 22, 10)        40        \n",
            "_________________________________________________________________\n",
            "activation_87 (Activation)   (None, 22, 22, 10)        0         \n",
            "_________________________________________________________________\n",
            "max_pooling2d_11 (MaxPooling (None, 11, 11, 10)        0         \n",
            "_________________________________________________________________\n",
            "conv2d_90 (Conv2D)           (None, 9, 9, 16)          1456      \n",
            "_________________________________________________________________\n",
            "dropout_38 (Dropout)         (None, 9, 9, 16)          0         \n",
            "_________________________________________________________________\n",
            "conv2d_91 (Conv2D)           (None, 7, 7, 20)          2900      \n",
            "_________________________________________________________________\n",
            "dropout_39 (Dropout)         (None, 7, 7, 20)          0         \n",
            "_________________________________________________________________\n",
            "conv2d_92 (Conv2D)           (None, 5, 5, 24)          4344      \n",
            "_________________________________________________________________\n",
            "dropout_40 (Dropout)         (None, 5, 5, 24)          0         \n",
            "_________________________________________________________________\n",
            "conv2d_93 (Conv2D)           (None, 5, 5, 10)          250       \n",
            "_________________________________________________________________\n",
            "batch_normalization_87 (Batc (None, 5, 5, 10)          40        \n",
            "_________________________________________________________________\n",
            "activation_88 (Activation)   (None, 5, 5, 10)          0         \n",
            "_________________________________________________________________\n",
            "3x3_named (Conv2D)           (None, 3, 3, 18)          1638      \n",
            "_________________________________________________________________\n",
            "dropout_41 (Dropout)         (None, 3, 3, 18)          0         \n",
            "_________________________________________________________________\n",
            "conv2d_94 (Conv2D)           (None, 1, 1, 10)          1630      \n",
            "_________________________________________________________________\n",
            "flatten_11 (Flatten)         (None, 10)                0         \n",
            "_________________________________________________________________\n",
            "batch_normalization_88 (Batc (None, 10)                40        \n",
            "_________________________________________________________________\n",
            "activation_89 (Activation)   (None, 10)                0         \n",
            "=================================================================\n",
            "Total params: 19,984\n",
            "Trainable params: 19,924\n",
            "Non-trainable params: 60\n",
            "_________________________________________________________________\n"
          ],
          "name": "stdout"
        }
      ]
    },
    {
      "cell_type": "markdown",
      "metadata": {
        "id": "zN-gTHp8VJWI",
        "colab_type": "text"
      },
      "source": [
        "### Train the model"
      ]
    },
    {
      "cell_type": "markdown",
      "metadata": {
        "id": "HZmIym6KVR-_",
        "colab_type": "text"
      },
      "source": [
        "compile the defined model and set configurations to tell how it should learn"
      ]
    },
    {
      "cell_type": "code",
      "metadata": {
        "id": "Zp6SuGrL9M3h",
        "colab_type": "code",
        "colab": {}
      },
      "source": [
        "model.compile(loss='categorical_crossentropy',\n",
        "             optimizer='adam',\n",
        "             metrics=['accuracy'])"
      ],
      "execution_count": 0,
      "outputs": []
    },
    {
      "cell_type": "markdown",
      "metadata": {
        "id": "Ppk649vlVdJC",
        "colab_type": "text"
      },
      "source": [
        "Fitting the model with our training data to start learning.\n",
        "\n",
        "Look at 32 images at once(batch_size), run 45 times(nb_epoch),  print output(verbose)"
      ]
    },
    {
      "cell_type": "code",
      "metadata": {
        "colab_type": "code",
        "outputId": "337eb3b6-89b0-4566-94a4-85bb3d266218",
        "id": "Xi7FIz_FrZwQ",
        "colab": {
          "base_uri": "https://localhost:8080/",
          "height": 1598
        }
      },
      "source": [
        "model.fit(X_train, Y_train, batch_size=128, nb_epoch=45, verbose=1)"
      ],
      "execution_count": 0,
      "outputs": [
        {
          "output_type": "stream",
          "text": [
            "/usr/local/lib/python3.6/dist-packages/ipykernel_launcher.py:1: UserWarning: The `nb_epoch` argument in `fit` has been renamed `epochs`.\n",
            "  \"\"\"Entry point for launching an IPython kernel.\n"
          ],
          "name": "stderr"
        },
        {
          "output_type": "stream",
          "text": [
            "Epoch 1/45\n",
            "60000/60000 [==============================] - 11s 185us/step - loss: 0.8200 - acc: 0.7987\n",
            "Epoch 2/45\n",
            "60000/60000 [==============================] - 6s 106us/step - loss: 0.2623 - acc: 0.9590\n",
            "Epoch 3/45\n",
            "60000/60000 [==============================] - 6s 106us/step - loss: 0.1639 - acc: 0.9719\n",
            "Epoch 4/45\n",
            "60000/60000 [==============================] - 6s 106us/step - loss: 0.1214 - acc: 0.9765\n",
            "Epoch 5/45\n",
            "60000/60000 [==============================] - 6s 106us/step - loss: 0.0950 - acc: 0.9804\n",
            "Epoch 6/45\n",
            "60000/60000 [==============================] - 6s 106us/step - loss: 0.0808 - acc: 0.9826\n",
            "Epoch 7/45\n",
            "60000/60000 [==============================] - 6s 106us/step - loss: 0.0720 - acc: 0.9831\n",
            "Epoch 8/45\n",
            "60000/60000 [==============================] - 6s 106us/step - loss: 0.0642 - acc: 0.9842\n",
            "Epoch 9/45\n",
            "60000/60000 [==============================] - 6s 106us/step - loss: 0.0579 - acc: 0.9854\n",
            "Epoch 10/45\n",
            "60000/60000 [==============================] - 6s 106us/step - loss: 0.0534 - acc: 0.9861\n",
            "Epoch 11/45\n",
            "60000/60000 [==============================] - 6s 106us/step - loss: 0.0479 - acc: 0.9874\n",
            "Epoch 12/45\n",
            "60000/60000 [==============================] - 7s 111us/step - loss: 0.0469 - acc: 0.9874\n",
            "Epoch 13/45\n",
            "60000/60000 [==============================] - 7s 117us/step - loss: 0.0443 - acc: 0.9879\n",
            "Epoch 14/45\n",
            "60000/60000 [==============================] - 6s 106us/step - loss: 0.0431 - acc: 0.9883\n",
            "Epoch 15/45\n",
            "60000/60000 [==============================] - 6s 106us/step - loss: 0.0419 - acc: 0.9883\n",
            "Epoch 16/45\n",
            "60000/60000 [==============================] - 6s 106us/step - loss: 0.0379 - acc: 0.9897\n",
            "Epoch 17/45\n",
            "60000/60000 [==============================] - 6s 106us/step - loss: 0.0384 - acc: 0.9893\n",
            "Epoch 18/45\n",
            "60000/60000 [==============================] - 6s 106us/step - loss: 0.0364 - acc: 0.9898\n",
            "Epoch 19/45\n",
            "60000/60000 [==============================] - 6s 106us/step - loss: 0.0359 - acc: 0.9894\n",
            "Epoch 20/45\n",
            "60000/60000 [==============================] - 6s 106us/step - loss: 0.0350 - acc: 0.9901\n",
            "Epoch 21/45\n",
            "60000/60000 [==============================] - 6s 106us/step - loss: 0.0335 - acc: 0.9907\n",
            "Epoch 22/45\n",
            "60000/60000 [==============================] - 6s 106us/step - loss: 0.0334 - acc: 0.9903\n",
            "Epoch 23/45\n",
            "60000/60000 [==============================] - 6s 106us/step - loss: 0.0307 - acc: 0.9914\n",
            "Epoch 24/45\n",
            "60000/60000 [==============================] - 6s 106us/step - loss: 0.0327 - acc: 0.9904\n",
            "Epoch 25/45\n",
            "60000/60000 [==============================] - 7s 117us/step - loss: 0.0306 - acc: 0.9912\n",
            "Epoch 26/45\n",
            "60000/60000 [==============================] - 7s 111us/step - loss: 0.0299 - acc: 0.9910\n",
            "Epoch 27/45\n",
            "60000/60000 [==============================] - 6s 106us/step - loss: 0.0288 - acc: 0.9914\n",
            "Epoch 28/45\n",
            "60000/60000 [==============================] - 7s 119us/step - loss: 0.0270 - acc: 0.9926\n",
            "Epoch 29/45\n",
            "60000/60000 [==============================] - 7s 114us/step - loss: 0.0267 - acc: 0.9921\n",
            "Epoch 30/45\n",
            "60000/60000 [==============================] - 6s 107us/step - loss: 0.0274 - acc: 0.9922\n",
            "Epoch 31/45\n",
            "60000/60000 [==============================] - 6s 106us/step - loss: 0.0273 - acc: 0.9919\n",
            "Epoch 32/45\n",
            "60000/60000 [==============================] - 6s 106us/step - loss: 0.0260 - acc: 0.9926\n",
            "Epoch 33/45\n",
            "60000/60000 [==============================] - 7s 112us/step - loss: 0.0261 - acc: 0.9926\n",
            "Epoch 34/45\n",
            "60000/60000 [==============================] - 7s 110us/step - loss: 0.0236 - acc: 0.9930\n",
            "Epoch 35/45\n",
            "60000/60000 [==============================] - 6s 106us/step - loss: 0.0247 - acc: 0.9927\n",
            "Epoch 36/45\n",
            "60000/60000 [==============================] - 6s 106us/step - loss: 0.0235 - acc: 0.9931\n",
            "Epoch 37/45\n",
            "60000/60000 [==============================] - 7s 116us/step - loss: 0.0244 - acc: 0.9924\n",
            "Epoch 38/45\n",
            "60000/60000 [==============================] - 7s 114us/step - loss: 0.0238 - acc: 0.9931\n",
            "Epoch 39/45\n",
            "60000/60000 [==============================] - 6s 106us/step - loss: 0.0225 - acc: 0.9932\n",
            "Epoch 40/45\n",
            "60000/60000 [==============================] - 6s 107us/step - loss: 0.0233 - acc: 0.9930\n",
            "Epoch 41/45\n",
            "60000/60000 [==============================] - 6s 106us/step - loss: 0.0231 - acc: 0.9934\n",
            "Epoch 42/45\n",
            "60000/60000 [==============================] - 6s 106us/step - loss: 0.0210 - acc: 0.9938\n",
            "Epoch 43/45\n",
            "60000/60000 [==============================] - 7s 114us/step - loss: 0.0211 - acc: 0.9938\n",
            "Epoch 44/45\n",
            "60000/60000 [==============================] - 6s 106us/step - loss: 0.0228 - acc: 0.9930\n",
            "Epoch 45/45\n",
            "60000/60000 [==============================] - 6s 106us/step - loss: 0.0206 - acc: 0.9939\n"
          ],
          "name": "stdout"
        },
        {
          "output_type": "execute_result",
          "data": {
            "text/plain": [
              "<keras.callbacks.History at 0x7f2df0d40208>"
            ]
          },
          "metadata": {
            "tags": []
          },
          "execution_count": 73
        }
      ]
    },
    {
      "cell_type": "markdown",
      "metadata": {
        "id": "ySsHTksUVu3E",
        "colab_type": "text"
      },
      "source": [
        "### Evalutate the model on validation data\n",
        "\n",
        "calculate loss and accuracy"
      ]
    },
    {
      "cell_type": "code",
      "metadata": {
        "id": "mkX8JMv79q9r",
        "colab_type": "code",
        "outputId": "b340423f-2d93-41fc-ac12-46a51a217821",
        "colab": {
          "base_uri": "https://localhost:8080/",
          "height": 34
        }
      },
      "source": [
        "score = model.evaluate(X_test, Y_test, verbose=0)\n",
        "print(score)"
      ],
      "execution_count": 0,
      "outputs": [
        {
          "output_type": "stream",
          "text": [
            "[0.01914804748123861, 0.994]\n"
          ],
          "name": "stdout"
        }
      ]
    },
    {
      "cell_type": "markdown",
      "metadata": {
        "id": "uNv9rj2CV8iA",
        "colab_type": "text"
      },
      "source": [
        "get predictions on the validation data"
      ]
    },
    {
      "cell_type": "code",
      "metadata": {
        "id": "Ym7iCFBm9uBs",
        "colab_type": "code",
        "outputId": "9f9595de-be88-4625-a449-c838ec5876fc",
        "colab": {
          "base_uri": "https://localhost:8080/",
          "height": 493
        }
      },
      "source": [
        "y_pred = model.predict(X_test)\n",
        "print(y_pred[:9])\n",
        "print(y_test[:9])"
      ],
      "execution_count": 0,
      "outputs": [
        {
          "output_type": "stream",
          "text": [
            "[[1.97269721e-08 5.07210007e-06 5.49768229e-05 3.81036734e-05\n",
            "  3.58922811e-08 4.86935896e-08 3.44559450e-13 9.99848008e-01\n",
            "  2.43695183e-07 5.34482278e-05]\n",
            " [2.30680530e-06 3.57619458e-04 9.99586046e-01 2.53774870e-05\n",
            "  5.01826116e-06 1.37402048e-06 9.41234430e-06 7.28417717e-07\n",
            "  1.20410759e-05 2.01101558e-09]\n",
            " [1.19482081e-07 9.99652267e-01 1.04226156e-05 2.24095265e-06\n",
            "  2.11091203e-04 5.79236348e-06 2.92716913e-06 1.07987704e-04\n",
            "  5.06567858e-06 2.07929543e-06]\n",
            " [9.98061359e-01 1.25265285e-06 2.02336705e-05 7.27377801e-06\n",
            "  8.78763046e-07 1.02404534e-04 1.42501574e-03 3.08443049e-07\n",
            "  1.14719362e-04 2.66498391e-04]\n",
            " [4.18522632e-07 9.02443276e-08 1.81100660e-07 6.69981987e-11\n",
            "  9.99835968e-01 2.59601443e-08 1.64786052e-05 1.85523932e-05\n",
            "  6.85975238e-06 1.21422723e-04]\n",
            " [6.46311875e-08 9.99754488e-01 6.51535720e-06 7.53093275e-07\n",
            "  1.42785429e-04 1.80227482e-06 6.96043912e-07 8.89764851e-05\n",
            "  2.22557992e-06 1.54388601e-06]\n",
            " [1.38774183e-08 1.08657136e-04 2.68123586e-06 3.81984968e-08\n",
            "  9.97355580e-01 1.21190351e-06 9.62101225e-08 9.45043808e-04\n",
            "  2.17489986e-04 1.36926700e-03]\n",
            " [3.81982500e-06 1.80490304e-06 1.08918314e-07 2.01107105e-05\n",
            "  2.70496495e-03 1.50092645e-04 5.26553208e-07 2.00987750e-04\n",
            "  4.49908141e-04 9.96467710e-01]\n",
            " [9.69026078e-05 3.18149978e-05 9.30629156e-08 8.71084808e-07\n",
            "  2.85175560e-07 9.77072597e-01 5.03214309e-03 8.92889148e-07\n",
            "  1.75907016e-02 1.73778972e-04]]\n",
            "[7 2 1 0 4 1 4 9 5]\n"
          ],
          "name": "stdout"
        }
      ]
    },
    {
      "cell_type": "markdown",
      "metadata": {
        "id": "o1Byr2-u9KhT",
        "colab_type": "text"
      },
      "source": [
        "### Visualising what filters are trying to extract"
      ]
    },
    {
      "cell_type": "code",
      "metadata": {
        "id": "CT--y98_dr2T",
        "colab_type": "code",
        "colab": {}
      },
      "source": [
        "layer_dict = dict([(layer.name, layer) for layer in model.layers])"
      ],
      "execution_count": 0,
      "outputs": []
    },
    {
      "cell_type": "code",
      "metadata": {
        "id": "2GY4Upv4dsUR",
        "colab_type": "code",
        "outputId": "b2bac3a5-30e9-4fde-d9c8-4bdb3232817c",
        "colab": {
          "base_uri": "https://localhost:8080/",
          "height": 741
        }
      },
      "source": [
        "import numpy as np\n",
        "from matplotlib import pyplot as plt\n",
        "from keras import backend as K\n",
        "%matplotlib inline\n",
        "# util function to convert a tensor into a valid image\n",
        "def deprocess_image(x):\n",
        "    # normalize tensor: center on 0., ensure std is 0.1\n",
        "    x -= x.mean()\n",
        "    x /= (x.std() + 1e-5)\n",
        "    x *= 0.1\n",
        "\n",
        "    # clip to [0, 1]\n",
        "    x += 0.5\n",
        "    x = np.clip(x, 0, 1)\n",
        "\n",
        "    # convert to RGB array\n",
        "    x *= 255\n",
        "    #x = x.transpose((1, 2, 0))\n",
        "    x = np.clip(x, 0, 255).astype('uint8')\n",
        "    return x\n",
        "\n",
        "def vis_img_in_filter(img = np.array(X_train[2]).reshape((1, 28, 28, 1)).astype(np.float64), \n",
        "                      layer_name = 'conv2d_14'):\n",
        "    layer_output = layer_dict[layer_name].output\n",
        "    img_ascs = list()\n",
        "    for filter_index in range(layer_output.shape[3]):\n",
        "        # build a loss function that maximizes the activation\n",
        "        # of the nth filter of the layer considered\n",
        "        loss = K.mean(layer_output[:, :, :, filter_index])\n",
        "\n",
        "        # compute the gradient of the input picture wrt this loss\n",
        "        grads = K.gradients(loss, model.input)[0]\n",
        "\n",
        "        # normalization trick: we normalize the gradient\n",
        "        grads /= (K.sqrt(K.mean(K.square(grads))) + 1e-5)\n",
        "\n",
        "        # this function returns the loss and grads given the input picture\n",
        "        iterate = K.function([model.input], [loss, grads])\n",
        "\n",
        "        # step size for gradient ascent\n",
        "        step = 5.\n",
        "\n",
        "        img_asc = np.array(img)\n",
        "        # run gradient ascent for 20 steps\n",
        "        for i in range(20):\n",
        "            loss_value, grads_value = iterate([img_asc])\n",
        "            img_asc += grads_value * step\n",
        "\n",
        "        img_asc = img_asc[0]\n",
        "        img_ascs.append(deprocess_image(img_asc).reshape((28, 28)))\n",
        "        \n",
        "    if layer_output.shape[3] >= 35:\n",
        "        plot_x, plot_y = 6, 6\n",
        "    elif layer_output.shape[3] >= 23:\n",
        "        plot_x, plot_y = 4, 6\n",
        "    elif layer_output.shape[3] >= 11:\n",
        "        plot_x, plot_y = 2, 6\n",
        "    else:\n",
        "        plot_x, plot_y = 1, 2\n",
        "    fig, ax = plt.subplots(plot_x, plot_y, figsize = (12, 12))\n",
        "    ax[0, 0].imshow(img.reshape((28, 28)), cmap = 'gray')\n",
        "    ax[0, 0].set_title('Input image')\n",
        "    fig.suptitle('Input image and %s filters' % (layer_name,))\n",
        "    fig.tight_layout(pad = 0.3, rect = [0, 0, 0.9, 0.9])\n",
        "    for (x, y) in [(i, j) for i in range(plot_x) for j in range(plot_y)]:\n",
        "        if x == 0 and y == 0:\n",
        "            continue\n",
        "        ax[x, y].imshow(img_ascs[x * plot_y + y - 1], cmap = 'gray')\n",
        "        ax[x, y].set_title('filter %d' % (x * plot_y + y - 1))\n",
        "\n",
        "vis_img_in_filter(layer_name='3x3_named')"
      ],
      "execution_count": 0,
      "outputs": [
        {
          "output_type": "display_data",
          "data": {
            "image/png": "[encoded data removed]",
            "text/plain": [
              "<Figure size 864x864 with 12 Axes>"
            ]
          },
          "metadata": {
            "tags": []
          }
        }
      ]
    }
  ]
}