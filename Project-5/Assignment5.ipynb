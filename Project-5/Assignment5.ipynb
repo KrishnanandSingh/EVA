{
  "nbformat": 4,
  "nbformat_minor": 0,
  "metadata": {
    "colab": {
      "name": "Assignment5.ipynb",
      "version": "0.3.2",
      "provenance": [],
      "collapsed_sections": [
        "RuxqJ70AzpNJ"
      ],
      "include_colab_link": true
    },
    "kernelspec": {
      "name": "python3",
      "display_name": "Python 3"
    },
    "accelerator": "GPU"
  },
  "cells": [
    {
      "cell_type": "markdown",
      "metadata": {
        "id": "view-in-github",
        "colab_type": "text"
      },
      "source": [
        "<a href=\"https://colab.research.google.com/github/KrishnanandSingh/EVA/blob/master/Project-5/Assignment5.ipynb\" target=\"_parent\"><img src=\"https://colab.research.google.com/assets/colab-badge.svg\" alt=\"Open In Colab\"/></a>"
      ]
    },
    {
      "cell_type": "markdown",
      "metadata": {
        "id": "Rl5zgXIbAmqe",
        "colab_type": "text"
      },
      "source": [
        "# Assignment\n",
        "\n",
        "1. Change the code 8 or your own 4th Code from Assignment 4 to include: \n",
        "  - image normalization\n",
        "  - L2 regularization\n",
        "  - ReLU after BN\n",
        "\n",
        "2. Run your new code for 40 epochs and save the model with highest validation accuracy\n",
        "3. Find out 25 misclassified images from the validation dataset and create an image gallery"
      ]
    },
    {
      "cell_type": "markdown",
      "metadata": {
        "id": "aNyZv-Ec52ot",
        "colab_type": "text"
      },
      "source": [
        "### **Import Libraries and modules**"
      ]
    },
    {
      "cell_type": "markdown",
      "metadata": {
        "id": "rULW6zBF12WG",
        "colab_type": "text"
      },
      "source": [
        "Install keras quitely\n",
        "and import it to be able to use it later"
      ]
    },
    {
      "cell_type": "code",
      "metadata": {
        "id": "3m3w1Cw49Zkt",
        "colab_type": "code",
        "outputId": "a5d1159d-98ba-439d-80b9-96d780c55cc5",
        "colab": {
          "base_uri": "https://localhost:8080/",
          "height": 34
        }
      },
      "source": [
        "!pip install -q keras\n",
        "import keras"
      ],
      "execution_count": 1,
      "outputs": [
        {
          "output_type": "stream",
          "text": [
            "Using TensorFlow backend.\n"
          ],
          "name": "stderr"
        }
      ]
    },
    {
      "cell_type": "markdown",
      "metadata": {
        "id": "ZE5hIrP71tu6",
        "colab_type": "text"
      },
      "source": [
        "import the numpy library and refer it as np\n",
        "import models and layers"
      ]
    },
    {
      "cell_type": "code",
      "metadata": {
        "id": "Eso6UHE080D4",
        "colab_type": "code",
        "colab": {}
      },
      "source": [
        "import numpy as np\n",
        "\n",
        "from keras.models import Sequential\n",
        "from keras.layers import Dense, Dropout, Activation, Flatten, Add\n",
        "from keras.layers import Convolution2D, MaxPooling2D\n",
        "from keras.utils import np_utils\n",
        "\n",
        "from keras.datasets import mnist"
      ],
      "execution_count": 0,
      "outputs": []
    },
    {
      "cell_type": "markdown",
      "metadata": {
        "id": "zByEi95J86RD",
        "colab_type": "text"
      },
      "source": [
        "### Load pre-shuffled MNIST data into train and test sets"
      ]
    },
    {
      "cell_type": "markdown",
      "metadata": {
        "id": "fMQfxRc716bu",
        "colab_type": "text"
      },
      "source": [
        "load the dataset into 2D array(X_train and x_test) representing images\n",
        "and matrix for their prediction classes(y_train, y_test)"
      ]
    },
    {
      "cell_type": "code",
      "metadata": {
        "id": "7eRM0QWN83PV",
        "colab_type": "code",
        "colab": {}
      },
      "source": [
        "(X_train, y_train), (X_test, y_test) = mnist.load_data()"
      ],
      "execution_count": 0,
      "outputs": []
    },
    {
      "cell_type": "markdown",
      "metadata": {
        "id": "di6Si65O2GQt",
        "colab_type": "text"
      },
      "source": [
        "Check the dimension of X_train, it has sixty thousand images of dimension 28 by 28.\n",
        "\n",
        "Import the pyplot module from matplotlib to visualise the 2D array representations as images.\n",
        "\n",
        "Display the output of plotting command below the code block"
      ]
    },
    {
      "cell_type": "code",
      "metadata": {
        "id": "4a4Be72j8-ZC",
        "colab_type": "code",
        "outputId": "61cb3651-2830-4ba3-a343-6947f3fd27a0",
        "colab": {
          "base_uri": "https://localhost:8080/",
          "height": 303
        }
      },
      "source": [
        "print (X_train.shape)\n",
        "from matplotlib import pyplot as plt\n",
        "%matplotlib inline\n",
        "plt.imshow(X_train[0])"
      ],
      "execution_count": 4,
      "outputs": [
        {
          "output_type": "stream",
          "text": [
            "(60000, 28, 28)\n"
          ],
          "name": "stdout"
        },
        {
          "output_type": "execute_result",
          "data": {
            "text/plain": [
              "<matplotlib.image.AxesImage at 0x7f58b52292e8>"
            ]
          },
          "metadata": {
            "tags": []
          },
          "execution_count": 4
        },
        {
          "output_type": "display_data",
          "data": {
            "image/png": "[encoded data removed]",
            "text/plain": [
              "<Figure size 432x288 with 1 Axes>"
            ]
          },
          "metadata": {
            "tags": []
          }
        }
      ]
    },
    {
      "cell_type": "markdown",
      "metadata": {
        "id": "WBTFhlcj2XhQ",
        "colab_type": "text"
      },
      "source": [
        " Converting the greyscale image dataset to required input shape for coloured images"
      ]
    },
    {
      "cell_type": "code",
      "metadata": {
        "id": "dkmprriw9AnZ",
        "colab_type": "code",
        "colab": {}
      },
      "source": [
        "X_train = X_train.reshape(X_train.shape[0], 28, 28,1)\n",
        "X_test = X_test.reshape(X_test.shape[0], 28, 28,1)"
      ],
      "execution_count": 0,
      "outputs": []
    },
    {
      "cell_type": "markdown",
      "metadata": {
        "id": "lMRZj9Ye2mPE",
        "colab_type": "text"
      },
      "source": [
        "converting the values to float32 and normalising to convert them in floating values"
      ]
    },
    {
      "cell_type": "code",
      "metadata": {
        "id": "X2m4YS4E9CRh",
        "colab_type": "code",
        "colab": {}
      },
      "source": [
        "X_train = X_train.astype('float32')\n",
        "X_test = X_test.astype('float32')\n",
        "X_train /= 255\n",
        "X_test /= 255"
      ],
      "execution_count": 0,
      "outputs": []
    },
    {
      "cell_type": "markdown",
      "metadata": {
        "id": "cq3V-Aly2rj_",
        "colab_type": "text"
      },
      "source": [
        "last 10 values from training output"
      ]
    },
    {
      "cell_type": "code",
      "metadata": {
        "id": "0Mn0vAYD9DvB",
        "colab_type": "code",
        "outputId": "894a102f-f4af-4e97-f568-e2347d43b3e3",
        "colab": {
          "base_uri": "https://localhost:8080/",
          "height": 34
        }
      },
      "source": [
        "y_train[:10]"
      ],
      "execution_count": 7,
      "outputs": [
        {
          "output_type": "execute_result",
          "data": {
            "text/plain": [
              "array([5, 0, 4, 1, 9, 2, 1, 3, 1, 4], dtype=uint8)"
            ]
          },
          "metadata": {
            "tags": []
          },
          "execution_count": 7
        }
      ]
    },
    {
      "cell_type": "markdown",
      "metadata": {
        "id": "OKp2QCam2uz3",
        "colab_type": "text"
      },
      "source": [
        "Convert 1-dimensional class arrays to 10-dimensional class matrices\n",
        "e.g. converting output 5 to [0,0,0,0,1,0,0,0,0,0]\n",
        "now our network can predict values for each class "
      ]
    },
    {
      "cell_type": "code",
      "metadata": {
        "id": "ZG8JiXR39FHC",
        "colab_type": "code",
        "colab": {}
      },
      "source": [
        "Y_train = np_utils.to_categorical(y_train, 10)\n",
        "Y_test = np_utils.to_categorical(y_test, 10)"
      ],
      "execution_count": 0,
      "outputs": []
    },
    {
      "cell_type": "code",
      "metadata": {
        "id": "fYlFRvKS9HMB",
        "colab_type": "code",
        "outputId": "d07ffa42-c739-4d35-caf5-14c7b40d93d6",
        "colab": {
          "base_uri": "https://localhost:8080/",
          "height": 187
        }
      },
      "source": [
        "Y_train[:10]"
      ],
      "execution_count": 9,
      "outputs": [
        {
          "output_type": "execute_result",
          "data": {
            "text/plain": [
              "array([[0., 0., 0., 0., 0., 1., 0., 0., 0., 0.],\n",
              "       [1., 0., 0., 0., 0., 0., 0., 0., 0., 0.],\n",
              "       [0., 0., 0., 0., 1., 0., 0., 0., 0., 0.],\n",
              "       [0., 1., 0., 0., 0., 0., 0., 0., 0., 0.],\n",
              "       [0., 0., 0., 0., 0., 0., 0., 0., 0., 1.],\n",
              "       [0., 0., 1., 0., 0., 0., 0., 0., 0., 0.],\n",
              "       [0., 1., 0., 0., 0., 0., 0., 0., 0., 0.],\n",
              "       [0., 0., 0., 1., 0., 0., 0., 0., 0., 0.],\n",
              "       [0., 1., 0., 0., 0., 0., 0., 0., 0., 0.],\n",
              "       [0., 0., 0., 0., 1., 0., 0., 0., 0., 0.]], dtype=float32)"
            ]
          },
          "metadata": {
            "tags": []
          },
          "execution_count": 9
        }
      ]
    },
    {
      "cell_type": "markdown",
      "metadata": {
        "id": "JTsYTRyeUwag",
        "colab_type": "text"
      },
      "source": [
        "### Create the model"
      ]
    },
    {
      "cell_type": "code",
      "metadata": {
        "id": "uFQBejNe6qcd",
        "colab_type": "code",
        "colab": {}
      },
      "source": [
        "# Hyper parameters\n",
        "\n",
        "batch_size = 128\n",
        "\n",
        "lrate = 0.003\n",
        "\n",
        "l2_value = 0.01\n",
        "\n",
        "dropout = 0.0"
      ],
      "execution_count": 0,
      "outputs": []
    },
    {
      "cell_type": "code",
      "metadata": {
        "id": "QfQMpMfBsVVb",
        "colab_type": "code",
        "colab": {
          "base_uri": "https://localhost:8080/",
          "height": 34
        },
        "outputId": "0ab2e229-f42d-4d78-a6d3-f5ed0558a576"
      },
      "source": [
        "from keras.preprocessing.image import ImageDataGenerator\n",
        "\n",
        "# create generator that centers pixel values\n",
        "datagen = ImageDataGenerator(featurewise_center=True, featurewise_std_normalization=True)\n",
        "\n",
        "# calculate the mean on the training dataset\n",
        "datagen.fit(X_train)\n",
        "print('Data Generator mean=%.3f, std=%.3f' % (datagen.mean, datagen.std))\n",
        "\n",
        "# demonstrate effect on a single batch of samples\n",
        "train_iterator = datagen.flow(X_train, Y_train, batch_size=batch_size, shuffle=True)\n",
        "\n",
        "test_iterator = datagen.flow(X_test, Y_test, batch_size=batch_size)\n",
        "\n",
        "# # get a batch\n",
        "# batchX, batchy = train_iterator.next()\n",
        "\n",
        "# # pixel stats in the batch\n",
        "# print(batchX.shape, batchX.mean(), batchX.std())\n",
        "\n",
        "# # demonstrate effect on entire training dataset\n",
        "# iterator = datagen.flow(X_train, Y_train, batch_size=len(X_train), shuffle=False)\n",
        "\n",
        "# # get a batch\n",
        "# batchX, batchy = iterator.next()\n",
        "# # pixel stats in the batch\n",
        "# print(batchX.shape, batchX.mean(), batchX.std())\n"
      ],
      "execution_count": 11,
      "outputs": [
        {
          "output_type": "stream",
          "text": [
            "Data Generator mean=0.131, std=0.308\n"
          ],
          "name": "stdout"
        }
      ]
    },
    {
      "cell_type": "code",
      "metadata": {
        "id": "krzCFMM1YC7a",
        "colab_type": "code",
        "outputId": "9076f766-c528-4cb3-d639-93cfbd67ae9a",
        "colab": {
          "base_uri": "https://localhost:8080/",
          "height": 1057
        }
      },
      "source": [
        "from keras.layers.normalization import BatchNormalization\n",
        "\n",
        "\n",
        "from keras.layers import Activation\n",
        "from keras import regularizers\n",
        "\n",
        "model = Sequential()\n",
        "\n",
        " \n",
        "model.add(Convolution2D(32, 5, 5, kernel_regularizer=regularizers.l2(l2_value), input_shape=(28,28,1))) #24\n",
        "model.add(BatchNormalization())\n",
        "model.add(Activation('relu'))\n",
        "\n",
        "model.add(MaxPooling2D(pool_size=(2, 2))) #12\n",
        "\n",
        "model.add(Convolution2D(10, 1, 1, kernel_regularizer=regularizers.l2(l2_value)))\n",
        "model.add(BatchNormalization())\n",
        "model.add(Activation('relu'))\n",
        "\n",
        "model.add(Dropout(dropout))\n",
        "\n",
        "\n",
        "model.add(Convolution2D(32, 5, 5, kernel_regularizer=regularizers.l2(l2_value))) #8\n",
        "model.add(BatchNormalization())\n",
        "model.add(Activation('relu'))\n",
        "\n",
        "model.add(MaxPooling2D(pool_size=(2, 2))) #4\n",
        "model.add(BatchNormalization())\n",
        "\n",
        "model.add(Convolution2D(20, 1, 1, kernel_regularizer=regularizers.l2(l2_value)))\n",
        "model.add(BatchNormalization())\n",
        "model.add(Activation('relu'))\n",
        "\n",
        "model.add(Dropout(dropout))\n",
        "\n",
        "\n",
        "model.add(Convolution2D(10, 4, kernel_regularizer=regularizers.l2(l2_value)))#1\n",
        "model.add(BatchNormalization())\n",
        "\n",
        "model.add(Activation('relu'))\n",
        "model.add(Flatten())\n",
        "model.add(Activation('softmax'))\n",
        "\n",
        "model.summary()"
      ],
      "execution_count": 12,
      "outputs": [
        {
          "output_type": "stream",
          "text": [
            "WARNING:tensorflow:From /usr/local/lib/python3.6/dist-packages/tensorflow/python/framework/op_def_library.py:263: colocate_with (from tensorflow.python.framework.ops) is deprecated and will be removed in a future version.\n",
            "Instructions for updating:\n",
            "Colocations handled automatically by placer.\n"
          ],
          "name": "stdout"
        },
        {
          "output_type": "stream",
          "text": [
            "/usr/local/lib/python3.6/dist-packages/ipykernel_launcher.py:10: UserWarning: Update your `Conv2D` call to the Keras 2 API: `Conv2D(32, (5, 5), kernel_regularizer=<keras.reg..., input_shape=(28, 28, 1...)`\n",
            "  # Remove the CWD from sys.path while we load stuff.\n",
            "/usr/local/lib/python3.6/dist-packages/ipykernel_launcher.py:16: UserWarning: Update your `Conv2D` call to the Keras 2 API: `Conv2D(10, (1, 1), kernel_regularizer=<keras.reg...)`\n",
            "  app.launch_new_instance()\n",
            "/usr/local/lib/python3.6/dist-packages/ipykernel_launcher.py:23: UserWarning: Update your `Conv2D` call to the Keras 2 API: `Conv2D(32, (5, 5), kernel_regularizer=<keras.reg...)`\n",
            "/usr/local/lib/python3.6/dist-packages/ipykernel_launcher.py:30: UserWarning: Update your `Conv2D` call to the Keras 2 API: `Conv2D(20, (1, 1), kernel_regularizer=<keras.reg...)`\n"
          ],
          "name": "stderr"
        },
        {
          "output_type": "stream",
          "text": [
            "_________________________________________________________________\n",
            "Layer (type)                 Output Shape              Param #   \n",
            "=================================================================\n",
            "conv2d_1 (Conv2D)            (None, 24, 24, 32)        832       \n",
            "_________________________________________________________________\n",
            "batch_normalization_1 (Batch (None, 24, 24, 32)        128       \n",
            "_________________________________________________________________\n",
            "activation_1 (Activation)    (None, 24, 24, 32)        0         \n",
            "_________________________________________________________________\n",
            "max_pooling2d_1 (MaxPooling2 (None, 12, 12, 32)        0         \n",
            "_________________________________________________________________\n",
            "conv2d_2 (Conv2D)            (None, 12, 12, 10)        330       \n",
            "_________________________________________________________________\n",
            "batch_normalization_2 (Batch (None, 12, 12, 10)        40        \n",
            "_________________________________________________________________\n",
            "activation_2 (Activation)    (None, 12, 12, 10)        0         \n",
            "_________________________________________________________________\n",
            "dropout_1 (Dropout)          (None, 12, 12, 10)        0         \n",
            "_________________________________________________________________\n",
            "conv2d_3 (Conv2D)            (None, 8, 8, 32)          8032      \n",
            "_________________________________________________________________\n",
            "batch_normalization_3 (Batch (None, 8, 8, 32)          128       \n",
            "_________________________________________________________________\n",
            "activation_3 (Activation)    (None, 8, 8, 32)          0         \n",
            "_________________________________________________________________\n",
            "max_pooling2d_2 (MaxPooling2 (None, 4, 4, 32)          0         \n",
            "_________________________________________________________________\n",
            "batch_normalization_4 (Batch (None, 4, 4, 32)          128       \n",
            "_________________________________________________________________\n",
            "conv2d_4 (Conv2D)            (None, 4, 4, 20)          660       \n",
            "_________________________________________________________________\n",
            "batch_normalization_5 (Batch (None, 4, 4, 20)          80        \n",
            "_________________________________________________________________\n",
            "activation_4 (Activation)    (None, 4, 4, 20)          0         \n",
            "_________________________________________________________________\n",
            "dropout_2 (Dropout)          (None, 4, 4, 20)          0         \n",
            "_________________________________________________________________\n",
            "conv2d_5 (Conv2D)            (None, 1, 1, 10)          3210      \n",
            "_________________________________________________________________\n",
            "batch_normalization_6 (Batch (None, 1, 1, 10)          40        \n",
            "_________________________________________________________________\n",
            "activation_5 (Activation)    (None, 1, 1, 10)          0         \n",
            "_________________________________________________________________\n",
            "flatten_1 (Flatten)          (None, 10)                0         \n",
            "_________________________________________________________________\n",
            "activation_6 (Activation)    (None, 10)                0         \n",
            "=================================================================\n",
            "Total params: 13,608\n",
            "Trainable params: 13,336\n",
            "Non-trainable params: 272\n",
            "_________________________________________________________________\n"
          ],
          "name": "stdout"
        }
      ]
    },
    {
      "cell_type": "markdown",
      "metadata": {
        "id": "zN-gTHp8VJWI",
        "colab_type": "text"
      },
      "source": [
        "### Train the model"
      ]
    },
    {
      "cell_type": "code",
      "metadata": {
        "colab_type": "code",
        "id": "Xi7FIz_FrZwQ",
        "colab": {}
      },
      "source": [
        "from keras.optimizers import Adam\n",
        "\n",
        "from tensorflow.keras.callbacks import ModelCheckpoint, LearningRateScheduler\n",
        "from keras.callbacks import LearningRateScheduler\n",
        "\n",
        "checkpoint_model='assignment5.hdf5'\n",
        "checkpoint = ModelCheckpoint(checkpoint_model,\n",
        "                             monitor='val_acc',\n",
        "                             verbose=1,\n",
        "                             save_weights_only=False,\n",
        "                             save_best_only=True,\n",
        "                             mode='max')\n",
        "\n",
        "def lrscheduler(epoch):\n",
        "  return round(lrate * 1/(1 + 0.319 * epoch), 10)\n",
        "\n",
        "\n",
        "model.compile(loss='categorical_crossentropy',\n",
        "             optimizer=Adam(lr=lrate),\n",
        "             metrics=['accuracy'])\n"
      ],
      "execution_count": 0,
      "outputs": []
    },
    {
      "cell_type": "markdown",
      "metadata": {
        "id": "Ppk649vlVdJC",
        "colab_type": "text"
      },
      "source": [
        "Fitting the model with our training data to start learning.\n",
        "\n",
        "Look at 32 images at once(batch_size), run 45 times(nb_epoch),  print output(verbose)"
      ]
    },
    {
      "cell_type": "code",
      "metadata": {
        "id": "mFL2IT4Dungt",
        "colab_type": "code",
        "colab": {
          "base_uri": "https://localhost:8080/",
          "height": 2808
        },
        "outputId": "fc38adc1-b25e-4fcf-f1a1-c075733a3467"
      },
      "source": [
        "callbacklist = [checkpoint, LearningRateScheduler(lrscheduler)]\n",
        "\n",
        "history = model.fit_generator(train_iterator,\n",
        "                    steps_per_epoch=len(train_iterator),\n",
        "                    epochs=40,\n",
        "                    verbose=1,\n",
        "                    validation_steps=len(test_iterator),\n",
        "                    validation_data=test_iterator,\n",
        "                    callbacks=callbacklist)"
      ],
      "execution_count": 14,
      "outputs": [
        {
          "output_type": "stream",
          "text": [
            "WARNING:tensorflow:From /usr/local/lib/python3.6/dist-packages/tensorflow/python/ops/math_ops.py:3066: to_int32 (from tensorflow.python.ops.math_ops) is deprecated and will be removed in a future version.\n",
            "Instructions for updating:\n",
            "Use tf.cast instead.\n",
            "Epoch 1/40\n",
            "469/469 [==============================] - 9s 19ms/step - loss: 0.5176 - acc: 0.9615 - val_loss: 0.6018 - val_acc: 0.9029\n",
            "\n",
            "Epoch 00001: val_acc improved from -inf to 0.90290, saving model to assignment5.hdf5\n",
            "Epoch 2/40\n",
            "469/469 [==============================] - 6s 13ms/step - loss: 0.1724 - acc: 0.9821 - val_loss: 0.1541 - val_acc: 0.9821\n",
            "\n",
            "Epoch 00002: val_acc improved from 0.90290 to 0.98210, saving model to assignment5.hdf5\n",
            "Epoch 3/40\n",
            "469/469 [==============================] - 6s 13ms/step - loss: 0.1340 - acc: 0.9840 - val_loss: 0.1518 - val_acc: 0.9746\n",
            "\n",
            "Epoch 00003: val_acc did not improve from 0.98210\n",
            "Epoch 4/40\n",
            "469/469 [==============================] - 6s 13ms/step - loss: 0.1181 - acc: 0.9846 - val_loss: 0.1708 - val_acc: 0.9661\n",
            "\n",
            "Epoch 00004: val_acc did not improve from 0.98210\n",
            "Epoch 5/40\n",
            "469/469 [==============================] - 6s 13ms/step - loss: 0.1063 - acc: 0.9860 - val_loss: 0.1146 - val_acc: 0.9830\n",
            "\n",
            "Epoch 00005: val_acc improved from 0.98210 to 0.98300, saving model to assignment5.hdf5\n",
            "Epoch 6/40\n",
            "469/469 [==============================] - 6s 13ms/step - loss: 0.0957 - acc: 0.9874 - val_loss: 0.0881 - val_acc: 0.9889\n",
            "\n",
            "Epoch 00006: val_acc improved from 0.98300 to 0.98890, saving model to assignment5.hdf5\n",
            "Epoch 7/40\n",
            "469/469 [==============================] - 6s 13ms/step - loss: 0.0876 - acc: 0.9878 - val_loss: 0.1144 - val_acc: 0.9776\n",
            "\n",
            "Epoch 00007: val_acc did not improve from 0.98890\n",
            "Epoch 8/40\n",
            "469/469 [==============================] - 6s 13ms/step - loss: 0.0825 - acc: 0.9887 - val_loss: 0.1058 - val_acc: 0.9807\n",
            "\n",
            "Epoch 00008: val_acc did not improve from 0.98890\n",
            "Epoch 9/40\n",
            "469/469 [==============================] - 6s 13ms/step - loss: 0.0782 - acc: 0.9886 - val_loss: 0.0986 - val_acc: 0.9836\n",
            "\n",
            "Epoch 00009: val_acc did not improve from 0.98890\n",
            "Epoch 10/40\n",
            "469/469 [==============================] - 6s 13ms/step - loss: 0.0725 - acc: 0.9897 - val_loss: 0.0741 - val_acc: 0.9892\n",
            "\n",
            "Epoch 00010: val_acc improved from 0.98890 to 0.98920, saving model to assignment5.hdf5\n",
            "Epoch 11/40\n",
            "469/469 [==============================] - 7s 15ms/step - loss: 0.0691 - acc: 0.9899 - val_loss: 0.0719 - val_acc: 0.9901\n",
            "\n",
            "Epoch 00011: val_acc improved from 0.98920 to 0.99010, saving model to assignment5.hdf5\n",
            "Epoch 12/40\n",
            "469/469 [==============================] - 6s 13ms/step - loss: 0.0643 - acc: 0.9903 - val_loss: 0.0615 - val_acc: 0.9911\n",
            "\n",
            "Epoch 00012: val_acc improved from 0.99010 to 0.99110, saving model to assignment5.hdf5\n",
            "Epoch 13/40\n",
            "469/469 [==============================] - 6s 13ms/step - loss: 0.0615 - acc: 0.9909 - val_loss: 0.0691 - val_acc: 0.9877\n",
            "\n",
            "Epoch 00013: val_acc did not improve from 0.99110\n",
            "Epoch 14/40\n",
            "469/469 [==============================] - 6s 13ms/step - loss: 0.0610 - acc: 0.9904 - val_loss: 0.0566 - val_acc: 0.9924\n",
            "\n",
            "Epoch 00014: val_acc improved from 0.99110 to 0.99240, saving model to assignment5.hdf5\n",
            "Epoch 15/40\n",
            "469/469 [==============================] - 6s 13ms/step - loss: 0.0545 - acc: 0.9921 - val_loss: 0.0825 - val_acc: 0.9838\n",
            "\n",
            "Epoch 00015: val_acc did not improve from 0.99240\n",
            "Epoch 16/40\n",
            "469/469 [==============================] - 6s 13ms/step - loss: 0.0543 - acc: 0.9919 - val_loss: 0.0516 - val_acc: 0.9924\n",
            "\n",
            "Epoch 00016: val_acc did not improve from 0.99240\n",
            "Epoch 17/40\n",
            "469/469 [==============================] - 6s 13ms/step - loss: 0.0519 - acc: 0.9927 - val_loss: 0.0497 - val_acc: 0.9922\n",
            "\n",
            "Epoch 00017: val_acc did not improve from 0.99240\n",
            "Epoch 18/40\n",
            "469/469 [==============================] - 6s 13ms/step - loss: 0.0517 - acc: 0.9920 - val_loss: 0.0513 - val_acc: 0.9923\n",
            "\n",
            "Epoch 00018: val_acc did not improve from 0.99240\n",
            "Epoch 19/40\n",
            "469/469 [==============================] - 6s 13ms/step - loss: 0.0481 - acc: 0.9931 - val_loss: 0.0505 - val_acc: 0.9916\n",
            "\n",
            "Epoch 00019: val_acc did not improve from 0.99240\n",
            "Epoch 20/40\n",
            "469/469 [==============================] - 6s 13ms/step - loss: 0.0479 - acc: 0.9928 - val_loss: 0.0540 - val_acc: 0.9911\n",
            "\n",
            "Epoch 00020: val_acc did not improve from 0.99240\n",
            "Epoch 21/40\n",
            "469/469 [==============================] - 6s 13ms/step - loss: 0.0458 - acc: 0.9930 - val_loss: 0.0475 - val_acc: 0.9915\n",
            "\n",
            "Epoch 00021: val_acc did not improve from 0.99240\n",
            "Epoch 22/40\n",
            "469/469 [==============================] - 6s 13ms/step - loss: 0.0441 - acc: 0.9937 - val_loss: 0.0448 - val_acc: 0.9925\n",
            "\n",
            "Epoch 00022: val_acc improved from 0.99240 to 0.99250, saving model to assignment5.hdf5\n",
            "Epoch 23/40\n",
            "469/469 [==============================] - 6s 13ms/step - loss: 0.0421 - acc: 0.9940 - val_loss: 0.0471 - val_acc: 0.9923\n",
            "\n",
            "Epoch 00023: val_acc did not improve from 0.99250\n",
            "Epoch 24/40\n",
            "469/469 [==============================] - 7s 14ms/step - loss: 0.0418 - acc: 0.9938 - val_loss: 0.0449 - val_acc: 0.9925\n",
            "\n",
            "Epoch 00024: val_acc did not improve from 0.99250\n",
            "Epoch 25/40\n",
            "469/469 [==============================] - 6s 13ms/step - loss: 0.0387 - acc: 0.9948 - val_loss: 0.0423 - val_acc: 0.9924\n",
            "\n",
            "Epoch 00025: val_acc did not improve from 0.99250\n",
            "Epoch 26/40\n",
            "469/469 [==============================] - 6s 13ms/step - loss: 0.0389 - acc: 0.9944 - val_loss: 0.0421 - val_acc: 0.9928\n",
            "\n",
            "Epoch 00026: val_acc improved from 0.99250 to 0.99280, saving model to assignment5.hdf5\n",
            "Epoch 27/40\n",
            "469/469 [==============================] - 6s 13ms/step - loss: 0.0376 - acc: 0.9947 - val_loss: 0.0496 - val_acc: 0.9907\n",
            "\n",
            "Epoch 00027: val_acc did not improve from 0.99280\n",
            "Epoch 28/40\n",
            "469/469 [==============================] - 6s 13ms/step - loss: 0.0380 - acc: 0.9945 - val_loss: 0.0443 - val_acc: 0.9922\n",
            "\n",
            "Epoch 00028: val_acc did not improve from 0.99280\n",
            "Epoch 29/40\n",
            "469/469 [==============================] - 6s 13ms/step - loss: 0.0349 - acc: 0.9950 - val_loss: 0.0412 - val_acc: 0.9929\n",
            "\n",
            "Epoch 00029: val_acc improved from 0.99280 to 0.99290, saving model to assignment5.hdf5\n",
            "Epoch 30/40\n",
            "469/469 [==============================] - 6s 13ms/step - loss: 0.0331 - acc: 0.9957 - val_loss: 0.0394 - val_acc: 0.9928\n",
            "\n",
            "Epoch 00030: val_acc did not improve from 0.99290\n",
            "Epoch 31/40\n",
            "469/469 [==============================] - 6s 13ms/step - loss: 0.0335 - acc: 0.9953 - val_loss: 0.0450 - val_acc: 0.9913\n",
            "\n",
            "Epoch 00031: val_acc did not improve from 0.99290\n",
            "Epoch 32/40\n",
            "469/469 [==============================] - 6s 13ms/step - loss: 0.0320 - acc: 0.9960 - val_loss: 0.0382 - val_acc: 0.9939\n",
            "\n",
            "Epoch 00032: val_acc improved from 0.99290 to 0.99390, saving model to assignment5.hdf5\n",
            "Epoch 33/40\n",
            "469/469 [==============================] - 6s 13ms/step - loss: 0.0315 - acc: 0.9956 - val_loss: 0.0439 - val_acc: 0.9916\n",
            "\n",
            "Epoch 00033: val_acc did not improve from 0.99390\n",
            "Epoch 34/40\n",
            "469/469 [==============================] - 6s 13ms/step - loss: 0.0313 - acc: 0.9958 - val_loss: 0.0359 - val_acc: 0.9929\n",
            "\n",
            "Epoch 00034: val_acc did not improve from 0.99390\n",
            "Epoch 35/40\n",
            "469/469 [==============================] - 7s 14ms/step - loss: 0.0306 - acc: 0.9957 - val_loss: 0.0396 - val_acc: 0.9927\n",
            "\n",
            "Epoch 00035: val_acc did not improve from 0.99390\n",
            "Epoch 36/40\n",
            "469/469 [==============================] - 7s 15ms/step - loss: 0.0295 - acc: 0.9960 - val_loss: 0.0432 - val_acc: 0.9896\n",
            "\n",
            "Epoch 00036: val_acc did not improve from 0.99390\n",
            "Epoch 37/40\n",
            "469/469 [==============================] - 7s 14ms/step - loss: 0.0285 - acc: 0.9964 - val_loss: 0.0436 - val_acc: 0.9913\n",
            "\n",
            "Epoch 00037: val_acc did not improve from 0.99390\n",
            "Epoch 38/40\n",
            "469/469 [==============================] - 6s 13ms/step - loss: 0.0286 - acc: 0.9964 - val_loss: 0.0406 - val_acc: 0.9922\n",
            "\n",
            "Epoch 00038: val_acc did not improve from 0.99390\n",
            "Epoch 39/40\n",
            "469/469 [==============================] - 6s 13ms/step - loss: 0.0285 - acc: 0.9964 - val_loss: 0.0430 - val_acc: 0.9919\n",
            "\n",
            "Epoch 00039: val_acc did not improve from 0.99390\n",
            "Epoch 40/40\n",
            "469/469 [==============================] - 6s 13ms/step - loss: 0.0274 - acc: 0.9967 - val_loss: 0.0388 - val_acc: 0.9921\n",
            "\n",
            "Epoch 00040: val_acc did not improve from 0.99390\n"
          ],
          "name": "stdout"
        }
      ]
    },
    {
      "cell_type": "markdown",
      "metadata": {
        "id": "ySsHTksUVu3E",
        "colab_type": "text"
      },
      "source": [
        "### Evalutate the model on validation data\n",
        "\n",
        "calculate loss and accuracy"
      ]
    },
    {
      "cell_type": "code",
      "metadata": {
        "id": "mkX8JMv79q9r",
        "colab_type": "code",
        "outputId": "2d0e666a-d793-40ae-fb5d-1ea2183e6f96",
        "colab": {
          "base_uri": "https://localhost:8080/",
          "height": 51
        }
      },
      "source": [
        "score = model.evaluate_generator(test_iterator, steps=len(test_iterator), verbose=1)\n",
        "print(score)"
      ],
      "execution_count": 15,
      "outputs": [
        {
          "output_type": "stream",
          "text": [
            "79/79 [==============================] - 0s 5ms/step\n",
            "[0.038652160254120826, 0.9924]\n"
          ],
          "name": "stdout"
        }
      ]
    },
    {
      "cell_type": "markdown",
      "metadata": {
        "id": "RuxqJ70AzpNJ",
        "colab_type": "text"
      },
      "source": [
        "### Display learning curve"
      ]
    },
    {
      "cell_type": "code",
      "metadata": {
        "id": "JSmwO1t0p-nE",
        "colab_type": "code",
        "colab": {}
      },
      "source": [
        "import matplotlib.pyplot as plt\n",
        "def display_training_curves(training, validation, title, subplot):\n",
        "  if subplot%10==1: # set up the subplots on the first call\n",
        "    plt.subplots(figsize=(10,10), facecolor='#F0F0F0')\n",
        "    plt.tight_layout()\n",
        "  ax = plt.subplot(subplot)\n",
        "  ax.set_facecolor('#F8F8F8')\n",
        "  ax.plot(training)\n",
        "  ax.plot(validation)\n",
        "  ax.set_title('model '+ title)\n",
        "  ax.set_ylabel(title)\n",
        "  ax.set_xlabel('epoch')\n",
        "  ax.legend(['train', 'valid.'])"
      ],
      "execution_count": 0,
      "outputs": []
    },
    {
      "cell_type": "code",
      "metadata": {
        "id": "T1RSX7M_p3Ii",
        "colab_type": "code",
        "colab": {
          "base_uri": "https://localhost:8080/",
          "height": 0
        },
        "outputId": "d2ece47d-b94d-4f06-b024-192f36c6e941"
      },
      "source": [
        "display_training_curves(history.history['acc'], history.history['val_acc'], 'accuracy', 211)\n",
        "display_training_curves(history.history['loss'], history.history['val_loss'], 'loss', 212)"
      ],
      "execution_count": 17,
      "outputs": [
        {
          "output_type": "display_data",
          "data": {
            "image/png": "[encoded data removed]",
            "text/plain": [
              "<Figure size 720x720 with 2 Axes>"
            ]
          },
          "metadata": {
            "tags": []
          }
        }
      ]
    },
    {
      "cell_type": "markdown",
      "metadata": {
        "id": "o1Byr2-u9KhT",
        "colab_type": "text"
      },
      "source": [
        "### Visualising what filters are trying to extract"
      ]
    },
    {
      "cell_type": "code",
      "metadata": {
        "id": "CT--y98_dr2T",
        "colab_type": "code",
        "colab": {}
      },
      "source": [
        "layer_dict = dict([(layer.name, layer) for layer in model.layers])"
      ],
      "execution_count": 0,
      "outputs": []
    },
    {
      "cell_type": "code",
      "metadata": {
        "id": "2GY4Upv4dsUR",
        "colab_type": "code",
        "outputId": "8164c639-703f-446b-ecc5-b17e1862063b",
        "colab": {
          "base_uri": "https://localhost:8080/",
          "height": 741
        }
      },
      "source": [
        "import numpy as np\n",
        "from matplotlib import pyplot as plt\n",
        "from keras import backend as K\n",
        "%matplotlib inline\n",
        "# util function to convert a tensor into a valid image\n",
        "def deprocess_image(x):\n",
        "    # normalize tensor: center on 0., ensure std is 0.1\n",
        "    x -= x.mean()\n",
        "    x /= (x.std() + 1e-5)\n",
        "    x *= 0.1\n",
        "\n",
        "    # clip to [0, 1]\n",
        "    x += 0.5\n",
        "    x = np.clip(x, 0, 1)\n",
        "\n",
        "    # convert to RGB array\n",
        "    x *= 255\n",
        "    #x = x.transpose((1, 2, 0))\n",
        "    x = np.clip(x, 0, 255).astype('uint8')\n",
        "    return x\n",
        "\n",
        "def vis_img_in_filter(img = np.array(X_train[2]).reshape((1, 28, 28, 1)).astype(np.float64), \n",
        "                      layer_name = 'conv2d_14'):\n",
        "    layer_output = layer_dict[layer_name].output\n",
        "    img_ascs = list()\n",
        "    for filter_index in range(layer_output.shape[3]):\n",
        "        # build a loss function that maximizes the activation\n",
        "        # of the nth filter of the layer considered\n",
        "        loss = K.mean(layer_output[:, :, :, filter_index])\n",
        "\n",
        "        # compute the gradient of the input picture wrt this loss\n",
        "        grads = K.gradients(loss, model.input)[0]\n",
        "\n",
        "        # normalization trick: we normalize the gradient\n",
        "        grads /= (K.sqrt(K.mean(K.square(grads))) + 1e-5)\n",
        "\n",
        "        # this function returns the loss and grads given the input picture\n",
        "        iterate = K.function([model.input], [loss, grads])\n",
        "\n",
        "        # step size for gradient ascent\n",
        "        step = 5.\n",
        "\n",
        "        img_asc = np.array(img)\n",
        "        # run gradient ascent for 20 steps\n",
        "        for i in range(20):\n",
        "            loss_value, grads_value = iterate([img_asc])\n",
        "            img_asc += grads_value * step\n",
        "\n",
        "        img_asc = img_asc[0]\n",
        "        img_ascs.append(deprocess_image(img_asc).reshape((28, 28)))\n",
        "        \n",
        "    if layer_output.shape[3] >= 35:\n",
        "        plot_x, plot_y = 6, 6\n",
        "    elif layer_output.shape[3] >= 23:\n",
        "        plot_x, plot_y = 4, 6\n",
        "    elif layer_output.shape[3] >= 11:\n",
        "        plot_x, plot_y = 2, 6\n",
        "    else:\n",
        "        plot_x, plot_y = 1, 2\n",
        "    fig, ax = plt.subplots(plot_x, plot_y, figsize = (12, 12))\n",
        "    ax[0, 0].imshow(img.reshape((28, 28)), cmap = 'gray')\n",
        "    ax[0, 0].set_title('Input image')\n",
        "    fig.suptitle('Input image and %s filters' % (layer_name,))\n",
        "    fig.tight_layout(pad = 0.3, rect = [0, 0, 0.9, 0.9])\n",
        "    for (x, y) in [(i, j) for i in range(plot_x) for j in range(plot_y)]:\n",
        "        if x == 0 and y == 0:\n",
        "            continue\n",
        "        ax[x, y].imshow(img_ascs[x * plot_y + y - 1], cmap = 'gray')\n",
        "        ax[x, y].set_title('filter %d' % (x * plot_y + y - 1))\n",
        "\n",
        "vis_img_in_filter(layer_name='conv2d_4')"
      ],
      "execution_count": 20,
      "outputs": [
        {
          "output_type": "display_data",
          "data": {
            "image/png": "[encoded data removed]",
            "text/plain": [
              "<Figure size 864x864 with 12 Axes>"
            ]
          },
          "metadata": {
            "tags": []
          }
        }
      ]
    },
    {
      "cell_type": "markdown",
      "metadata": {
        "id": "LjEtGDtljExy",
        "colab_type": "text"
      },
      "source": [
        "### Loading model from checkpoint\n",
        "\n",
        "Example for self reference"
      ]
    },
    {
      "cell_type": "code",
      "metadata": {
        "id": "l_QVbO26_tFG",
        "colab_type": "code",
        "colab": {}
      },
      "source": [
        "!cp assignment5.hdf5 assignment5_993.hdf5 \n",
        "from google.colab import files\n",
        "files.download('assignment5_993.hdf5') "
      ],
      "execution_count": 0,
      "outputs": []
    },
    {
      "cell_type": "code",
      "metadata": {
        "id": "mPD3m_3MgRad",
        "colab_type": "code",
        "colab": {}
      },
      "source": [
        "from google.colab import files\n",
        "files.upload()\n",
        "!cp assignment5_993.hdf5 assignment5.hdf5"
      ],
      "execution_count": 0,
      "outputs": []
    },
    {
      "cell_type": "code",
      "metadata": {
        "id": "JQ8lEemKA5de",
        "colab_type": "code",
        "colab": {}
      },
      "source": [
        "!ls"
      ],
      "execution_count": 0,
      "outputs": []
    },
    {
      "cell_type": "code",
      "metadata": {
        "id": "GaFEATd6hKEH",
        "colab_type": "code",
        "colab": {}
      },
      "source": [
        "from keras.models import load_model\n",
        "model = load_model('assignment5.hdf5')"
      ],
      "execution_count": 0,
      "outputs": []
    },
    {
      "cell_type": "markdown",
      "metadata": {
        "id": "vhwRRrWd_tqk",
        "colab_type": "text"
      },
      "source": [
        "### Finding misclassified images"
      ]
    },
    {
      "cell_type": "markdown",
      "metadata": {
        "id": "uNv9rj2CV8iA",
        "colab_type": "text"
      },
      "source": [
        "Since we trained the data using image normalisation, we have to test the data after image normalisation i.e. using the generator for test data. I tried using `model.predict` but was unable to get the correct expected classes for the values prediceted. So followed the basics and wrote the following code to get predicted and expected values, and also test_data in the same order."
      ]
    },
    {
      "cell_type": "code",
      "metadata": {
        "id": "tBaU8Noh9hmv",
        "colab_type": "code",
        "colab": {
          "base_uri": "https://localhost:8080/",
          "height": 136
        },
        "outputId": "032ee331-9083-44a4-df8b-4f7c1f99c2a8"
      },
      "source": [
        "predicted_list = []\n",
        "expected_list = []\n",
        "test_data_list = []\n",
        "\n",
        "batch_number = 0\n",
        "while batch_number < len(test_iterator):\n",
        "  batch_number += 1\n",
        "  test_data, expected_prediction  = test_iterator.next()\n",
        "  # shape is (128, 28, 28, 1), (128, 10)\n",
        "  prediction = model.predict(test_data)\n",
        "  predicted = np.argmax(prediction, axis=-1)\n",
        "  expected = np.argmax(expected_prediction, axis=-1)\n",
        "  predicted_list.extend(predicted)\n",
        "  expected_list.extend(expected)\n",
        "  test_data_list.extend(test_data)\n",
        "\n",
        "result = np.absolute(np.array(expected_list)-np.array(predicted_list))\n",
        "incorrect_indices = np.nonzero(result)\n",
        "print(incorrect_indices)"
      ],
      "execution_count": 21,
      "outputs": [
        {
          "output_type": "stream",
          "text": [
            "(array([ 145,  190,  379,  396,  446,  756,  854, 1102, 1116, 1233, 1335,\n",
            "       1448, 1650, 1782, 1883, 1927, 2059, 2324, 2332, 2381, 2635, 2816,\n",
            "       2985, 3031, 3071, 3132, 3315, 3376, 3525, 3588, 3816, 4080, 4182,\n",
            "       4277, 4683, 4770, 5561, 5687, 5892, 5940, 6160, 6211, 6263, 6274,\n",
            "       6288, 6340, 6377, 6447, 6643, 6647, 6799, 7307, 7440, 7467, 7621,\n",
            "       7721, 7734, 7817, 7996, 8079, 8094, 8199, 8209, 8301, 8304, 8364,\n",
            "       8501, 8537, 8808, 8825, 8947, 9301, 9400, 9524]),)\n"
          ],
          "name": "stdout"
        }
      ]
    },
    {
      "cell_type": "code",
      "metadata": {
        "id": "rkNwxVQPOuvK",
        "colab_type": "code",
        "colab": {
          "base_uri": "https://localhost:8080/",
          "height": 1617
        },
        "outputId": "c67ab0de-ade5-4efd-b53d-4dfeefee1e23"
      },
      "source": [
        "for i, incorrect in enumerate(incorrect_indices[0][:25]):\n",
        "  plt.subplot(6,6,i+6)\n",
        "\n",
        "  plt.imshow(test_data_list[incorrect].reshape(28,28), cmap='gray', interpolation='none')\n",
        "  plt.title( \"Predicted {}, Truth: {}\".format(predicted_list[incorrect], expected_list[incorrect]))\n",
        "  plt.xticks([])\n",
        "  plt.yticks([])\n",
        "\n",
        "  plt.show()"
      ],
      "execution_count": 24,
      "outputs": [
        {
          "output_type": "display_data",
          "data": {
            "image/png": "[encoded data removed]",
            "text/plain": [
              "<Figure size 432x288 with 1 Axes>"
            ]
          },
          "metadata": {
            "tags": []
          }
        },
        {
          "output_type": "display_data",
          "data": {
            "image/png": "[encoded data removed]",
            "text/plain": [
              "<Figure size 432x288 with 1 Axes>"
            ]
          },
          "metadata": {
            "tags": []
          }
        },
        {
          "output_type": "display_data",
          "data": {
            "image/png": "[encoded data removed]",
            "text/plain": [
              "<Figure size 432x288 with 1 Axes>"
            ]
          },
          "metadata": {
            "tags": []
          }
        },
        {
          "output_type": "display_data",
          "data": {
            "image/png": "[encoded data removed]",
            "text/plain": [
              "<Figure size 432x288 with 1 Axes>"
            ]
          },
          "metadata": {
            "tags": []
          }
        },
        {
          "output_type": "display_data",
          "data": {
            "image/png": "[encoded data removed]",
            "text/plain": [
              "<Figure size 432x288 with 1 Axes>"
            ]
          },
          "metadata": {
            "tags": []
          }
        },
        {
          "output_type": "display_data",
          "data": {
            "image/png": "[encoded data removed]",
            "text/plain": [
              "<Figure size 432x288 with 1 Axes>"
            ]
          },
          "metadata": {
            "tags": []
          }
        },
        {
          "output_type": "display_data",
          "data": {
            "image/png": "[encoded data removed]",
            "text/plain": [
              "<Figure size 432x288 with 1 Axes>"
            ]
          },
          "metadata": {
            "tags": []
          }
        },
        {
          "output_type": "display_data",
          "data": {
            "image/png": "[encoded data removed]",
            "text/plain": [
              "<Figure size 432x288 with 1 Axes>"
            ]
          },
          "metadata": {
            "tags": []
          }
        },
        {
          "output_type": "display_data",
          "data": {
            "image/png": "[encoded data removed]",
            "text/plain": [
              "<Figure size 432x288 with 1 Axes>"
            ]
          },
          "metadata": {
            "tags": []
          }
        },
        {
          "output_type": "display_data",
          "data": {
            "image/png": "[encoded data removed]",
            "text/plain": [
              "<Figure size 432x288 with 1 Axes>"
            ]
          },
          "metadata": {
            "tags": []
          }
        },
        {
          "output_type": "display_data",
          "data": {
            "image/png": "[encoded data removed]",
            "text/plain": [
              "<Figure size 432x288 with 1 Axes>"
            ]
          },
          "metadata": {
            "tags": []
          }
        },
        {
          "output_type": "display_data",
          "data": {
            "image/png": "[encoded data removed]",
            "text/plain": [
              "<Figure size 432x288 with 1 Axes>"
            ]
          },
          "metadata": {
            "tags": []
          }
        },
        {
          "output_type": "display_data",
          "data": {
            "image/png": "[encoded data removed]",
            "text/plain": [
              "<Figure size 432x288 with 1 Axes>"
            ]
          },
          "metadata": {
            "tags": []
          }
        },
        {
          "output_type": "display_data",
          "data": {
            "image/png": "[encoded data removed]",
            "text/plain": [
              "<Figure size 432x288 with 1 Axes>"
            ]
          },
          "metadata": {
            "tags": []
          }
        },
        {
          "output_type": "display_data",
          "data": {
            "image/png": "[encoded data removed]",
            "text/plain": [
              "<Figure size 432x288 with 1 Axes>"
            ]
          },
          "metadata": {
            "tags": []
          }
        },
        {
          "output_type": "display_data",
          "data": {
            "image/png": "[encoded data removed]",
            "text/plain": [
              "<Figure size 432x288 with 1 Axes>"
            ]
          },
          "metadata": {
            "tags": []
          }
        },
        {
          "output_type": "display_data",
          "data": {
            "image/png": "[encoded data removed]",
            "text/plain": [
              "<Figure size 432x288 with 1 Axes>"
            ]
          },
          "metadata": {
            "tags": []
          }
        },
        {
          "output_type": "display_data",
          "data": {
            "image/png": "[encoded data removed]",
            "text/plain": [
              "<Figure size 432x288 with 1 Axes>"
            ]
          },
          "metadata": {
            "tags": []
          }
        },
        {
          "output_type": "display_data",
          "data": {
            "image/png": "[encoded data removed]",
            "text/plain": [
              "<Figure size 432x288 with 1 Axes>"
            ]
          },
          "metadata": {
            "tags": []
          }
        },
        {
          "output_type": "display_data",
          "data": {
            "image/png": "[encoded data removed]",
            "text/plain": [
              "<Figure size 432x288 with 1 Axes>"
            ]
          },
          "metadata": {
            "tags": []
          }
        },
        {
          "output_type": "display_data",
          "data": {
            "image/png": "[encoded data removed]",
            "text/plain": [
              "<Figure size 432x288 with 1 Axes>"
            ]
          },
          "metadata": {
            "tags": []
          }
        },
        {
          "output_type": "display_data",
          "data": {
            "image/png": "[encoded data removed]",
            "text/plain": [
              "<Figure size 432x288 with 1 Axes>"
            ]
          },
          "metadata": {
            "tags": []
          }
        },
        {
          "output_type": "display_data",
          "data": {
            "image/png": "[encoded data removed]",
            "text/plain": [
              "<Figure size 432x288 with 1 Axes>"
            ]
          },
          "metadata": {
            "tags": []
          }
        },
        {
          "output_type": "display_data",
          "data": {
            "image/png": "[encoded data removed]",
            "text/plain": [
              "<Figure size 432x288 with 1 Axes>"
            ]
          },
          "metadata": {
            "tags": []
          }
        },
        {
          "output_type": "display_data",
          "data": {
            "image/png": "[encoded data removed]",
            "text/plain": [
              "<Figure size 432x288 with 1 Axes>"
            ]
          },
          "metadata": {
            "tags": []
          }
        }
      ]
    }
  ]
}