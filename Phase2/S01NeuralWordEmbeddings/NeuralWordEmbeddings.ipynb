{
  "nbformat": 4,
  "nbformat_minor": 0,
  "metadata": {
    "colab": {
      "name": "NeuralWordEmbeddings.ipynb",
      "provenance": [],
      "collapsed_sections": [
        "E_RPg4z-kxCm",
        "BHhGEB6dmUep"
      ],
      "authorship_tag": "ABX9TyNTec1RupmhXAPMU5BMHnUz",
      "include_colab_link": true
    },
    "kernelspec": {
      "name": "python3",
      "display_name": "Python 3"
    }
  },
  "cells": [
    {
      "cell_type": "markdown",
      "metadata": {
        "id": "view-in-github",
        "colab_type": "text"
      },
      "source": [
        "<a href=\"https://colab.research.google.com/github/KrishnanandSingh/EVA/blob/master/Phase2/S01NeuralWordEmbeddings/NeuralWordEmbeddings.ipynb\" target=\"_parent\"><img src=\"https://colab.research.google.com/assets/colab-badge.svg\" alt=\"Open In Colab\"/></a>"
      ]
    },
    {
      "cell_type": "markdown",
      "metadata": {
        "id": "9e9wbPhyjDTl",
        "colab_type": "text"
      },
      "source": [
        "# Tutorial for text processing\n",
        "Derived from the book [Deep Learning by Python by Francois Chollet](http://faculty.neu.edu.cn/yury/AAI/Textbook/Deep%20Learning%20with%20Python.pdf)\n",
        "\n",
        "We will learn how to\n",
        "- Turn raw text into something a neural network can process\n",
        "- Use the Embedding layer in a Keras model to learn task-specific token embeddings\n",
        "- Use pretrained word embeddings to get an extra boost on small natural-\n",
        "language-processing problems"
      ]
    },
    {
      "cell_type": "markdown",
      "metadata": {
        "id": "E_RPg4z-kxCm",
        "colab_type": "text"
      },
      "source": [
        "### One hot encoding\n",
        "\n",
        "Neural networks work with numbers so to process our text data we need to convert our it into numbers somehow. One way is to associate a number for each character other is to do the same for words."
      ]
    },
    {
      "cell_type": "code",
      "metadata": {
        "id": "cZlfUYEHiC_t",
        "colab_type": "code",
        "colab": {}
      },
      "source": [
        "# character-level one hot encoding\n",
        "import numpy as np\n",
        "import string\n",
        "\n",
        "samples = ['The cat sat on the mat.', 'The dog ate my homeworks.']\n",
        "\n",
        "# get all ascii characters\n",
        "characters = string.printable\n",
        "\n",
        "# assign each character an index starting with 1\n",
        "token_index = dict(zip(characters, range(1, len(characters) + 1)))\n",
        "\n",
        "# specify max value for character length which will be apt for you dataset\n",
        "max_sentence_length = 50\n",
        "\n",
        "# vectorize the samples\n",
        "results = np.zeros(shape=(len(samples), max_sentence_length, max(token_index.values()) + 1))\n",
        "for i, sample in enumerate(samples):\n",
        "    for j, character in enumerate(sample):\n",
        "        index = token_index.get(character)\n",
        "        results[i, j, index] = 1\n"
      ],
      "execution_count": 0,
      "outputs": []
    },
    {
      "cell_type": "code",
      "metadata": {
        "id": "nQ1iR8l6h2_s",
        "colab_type": "code",
        "colab": {}
      },
      "source": [
        "# Word level one hot encoding\n",
        "\n",
        "import numpy as np\n",
        "\n",
        "# create list of samples from your dataset\n",
        "# a sample can be a sentence or even a paragraph.\n",
        "samples = ['The cat sat on the mat.', 'The dog ate my homeworks.']\n",
        "\n",
        "# dict to maintain index of each word\n",
        "token_index = {}\n",
        "\n",
        "# for every word in the sample assign an index\n",
        "# don't assign index 0 to word. why?\n",
        "for sample in samples:\n",
        "    for word in sample.split():\n",
        "        if word not in token_index:\n",
        "            token_index[word] = len(token_index) + 1\n",
        "\n",
        "# We cannot process infinitely long sentences, there must be some limit to it.\n",
        "# specify some value that would be enough for most of the samples in your dataset.\n",
        "max_sentence_length = 10\n",
        "\n",
        "# vectorize the samples\n",
        "results = np.zeros(shape=(len(samples), max_sentence_length, max(token_index.values()) + 1))\n",
        "\n",
        "for i, sample in enumerate(samples):\n",
        "    # ignore sample after max_sentence_length\n",
        "    for j, word in enumerate(sample.split()[:max_sentence_length]):\n",
        "        index = token_index.get(word)\n",
        "        results[i, j, index] = 1"
      ],
      "execution_count": 0,
      "outputs": []
    },
    {
      "cell_type": "markdown",
      "metadata": {
        "id": "BHhGEB6dmUep",
        "colab_type": "text"
      },
      "source": [
        "### Using Keras for one hot encoding\n",
        "\n",
        "Let's explore built in function of Keras to do word-level one hot encoding"
      ]
    },
    {
      "cell_type": "code",
      "metadata": {
        "id": "SGPxIS_iiHXh",
        "colab_type": "code",
        "colab": {
          "base_uri": "https://localhost:8080/",
          "height": 103
        },
        "outputId": "08b0d696-4786-422a-93ab-0b4a61cb5107"
      },
      "source": [
        "from keras.preprocessing.text import Tokenizer\n",
        "\n",
        "samples = ['The cat sat on the mat.', 'The dog ate my homeworks.']\n",
        "\n",
        "# create a tokenizer that can hold only 1000 most common words\n",
        "# tokenizer is similar to the token_indexer we created in the \"Word level one hot encoding\" example\n",
        "tokenizer = Tokenizer(num_words=1000)\n",
        "\n",
        "# go through my dataset, find top 1000 most common words,\n",
        "# and create indexes for them\n",
        "tokenizer.fit_on_texts(samples)\n",
        "\n",
        "# convert each sample into array of indexes\n",
        "# this is something that can be processed\n",
        "sequences = tokenizer.texts_to_sequences(samples)\n",
        "\n",
        "# convert list of texts to numpy matrix, other vecotrization methods are also supported\n",
        "# value for existing words in a sample is 1. all other positions are 0\n",
        "# shape is len(samples), 1000\n",
        "one_hot_results = tokenizer.texts_to_matrix(samples, mode='binary')\n",
        "\n",
        "# tokenizer stores the index dict in this variable\n",
        "# this can be used to map indexes back to the words later\n",
        "word_index = tokenizer.word_index\n",
        "print('Found {num} unique tokens.'.format(num = len(word_index)))\n"
      ],
      "execution_count": 3,
      "outputs": [
        {
          "output_type": "stream",
          "text": [
            "Using TensorFlow backend.\n"
          ],
          "name": "stderr"
        },
        {
          "output_type": "display_data",
          "data": {
            "text/html": [
              "<p style=\"color: red;\">\n",
              "The default version of TensorFlow in Colab will soon switch to TensorFlow 2.x.<br>\n",
              "We recommend you <a href=\"https://www.tensorflow.org/guide/migrate\" target=\"_blank\">upgrade</a> now \n",
              "or ensure your notebook will continue to use TensorFlow 1.x via the <code>%tensorflow_version 1.x</code> magic:\n",
              "<a href=\"https://colab.research.google.com/notebooks/tensorflow_version.ipynb\" target=\"_blank\">more info</a>.</p>\n"
            ],
            "text/plain": [
              "<IPython.core.display.HTML object>"
            ]
          },
          "metadata": {
            "tags": []
          }
        },
        {
          "output_type": "stream",
          "text": [
            "Found 9 unique tokens.\n"
          ],
          "name": "stdout"
        }
      ]
    },
    {
      "cell_type": "markdown",
      "metadata": {
        "id": "3UG4wDaDqrHQ",
        "colab_type": "text"
      },
      "source": [
        "The drawback of previous examples is we have to maintain a dict for indexes of each word and this can grow huge when we have large number of unique words in our dataset. So, we can turn our words into vectors with simple hashing trick and store this key with the index."
      ]
    },
    {
      "cell_type": "code",
      "metadata": {
        "id": "sM_TWWKSiKjG",
        "colab_type": "code",
        "colab": {}
      },
      "source": [
        "# word level one hot encoding with hashing trick\n",
        "\n",
        "samples = ['The cat sat on the mat.', 'The dog ate my homeworks.']\n",
        "\n",
        "# stores words as vectors of size 1000\n",
        "dimensionality = 1000\n",
        "max_sentence_length = 10\n",
        "\n",
        "results = np.zeros((len(samples), max_sentence_length, dimensionality))\n",
        "for i, sample in enumerate(samples):\n",
        "    for j, word in list(enumerate(sample.split()))[:max_sentence_length]:\n",
        "        # hash value is very big integer (~19 digits)\n",
        "        hash_val = hash(word)\n",
        "        positive_hash_val = abs(hash_val)\n",
        "        # generate value for index\n",
        "        index = positive_hash_val % dimensionality\n",
        "        results[i, j, index] = 1.\n",
        "\n",
        "# since the index is just a remainder, it can only be as large as the dimensionality\n",
        "# choose it to be large enough to produce different values for different words\n",
        "# must not be similar to the number of words we have"
      ],
      "execution_count": 0,
      "outputs": []
    },
    {
      "cell_type": "markdown",
      "metadata": {
        "id": "zPMauTibtCXL",
        "colab_type": "text"
      },
      "source": [
        "### Introduction to Word-Embeddings\n",
        "\n",
        "Problem with above approaches of one hot encoding is that the vectors obtained are very sparse and are high dimensional. For example each sample would be converted to an array with as many elements as the unique words in our dataset (or max words length specified) and would consist of mostly zeros.\n",
        "\n",
        "Word embeddings are low dimensional floating point vectors. They are learned from data. Each word is represented with some vector in such a way that they obtain some structure e.g. \"exact\" and \"accurate\" lie near to each other in the geometric space."
      ]
    },
    {
      "cell_type": "code",
      "metadata": {
        "id": "-NN0mHahiPk6",
        "colab_type": "code",
        "colab": {
          "base_uri": "https://localhost:8080/",
          "height": 75
        },
        "outputId": "f2533b0d-bbac-4417-ce87-d5f8689cf514"
      },
      "source": [
        "# To learn the embeddings from our dataset Keras comes up preloaded with a special layer\n",
        "\n",
        "# Instantiating an embedding layer\n",
        "from keras.layers import Embedding\n",
        "\n",
        "# create embedding layer for at most 1000 possible tokens,\n",
        "# and each token to be represented by vectors of size 64\n",
        "embedding_layer = Embedding(1000, 64)\n",
        "# Instead of words Embedding takes integer arrays (sequences)\n",
        "# each integer is looked up for it's vector representation of 64 size"
      ],
      "execution_count": 5,
      "outputs": [
        {
          "output_type": "stream",
          "text": [
            "WARNING:tensorflow:From /usr/local/lib/python3.6/dist-packages/keras/backend/tensorflow_backend.py:66: The name tf.get_default_graph is deprecated. Please use tf.compat.v1.get_default_graph instead.\n",
            "\n"
          ],
          "name": "stdout"
        }
      ]
    },
    {
      "cell_type": "code",
      "metadata": {
        "id": "_HjdTpqdiVG3",
        "colab_type": "code",
        "colab": {
          "base_uri": "https://localhost:8080/",
          "height": 93
        },
        "outputId": "7ab6901b-93e8-47dd-b393-4620ee594ae2"
      },
      "source": [
        "# Loading the IMDB data for use with an Embedding layer\n",
        "from keras.datasets import imdb\n",
        "from keras import preprocessing\n",
        "\n",
        "max_tokens = 1000\n",
        "max_sentence_length = 20\n",
        "\n",
        "# downloads 25000 reviews for training and 25000 for testing\n",
        "# ensure that word index does not exceed 1000\n",
        "# as we have limited it to have only 1000 most frequently used words\n",
        "# each word is represented as integer from the index dict\n",
        "(x_train, y_train), (x_test, y_test) = imdb.load_data(num_words=max_tokens)\n",
        "\n",
        "# this is how each review can be decoded back\n",
        "word_index = imdb.get_word_index()\n",
        "reverse_word_index = dict([(value, key) for (key, value) in word_index.items()])\n",
        "decoded_review = ' '.join([reverse_word_index.get(i - 3, '?') for i in x_train[0]])\n",
        "# indices are offset by 3 as 0, 1 and 2 are reserved indices for \"padding\", \"start of sequence\" and \"unknown\"\n",
        "\n",
        "# pad with 0 to ensure that each sequence has same legth\n",
        "# if maxlen is not provided it pads each sequence to the length of largest sequence in input array\n",
        "x_train = preprocessing.sequence.pad_sequences(x_train, maxlen=max_sentence_length)\n",
        "x_test = preprocessing.sequence.pad_sequences(x_test, maxlen=max_sentence_length)"
      ],
      "execution_count": 6,
      "outputs": [
        {
          "output_type": "stream",
          "text": [
            "Downloading data from https://s3.amazonaws.com/text-datasets/imdb.npz\n",
            "17465344/17464789 [==============================] - 3s 0us/step\n",
            "Downloading data from https://s3.amazonaws.com/text-datasets/imdb_word_index.json\n",
            "1646592/1641221 [==============================] - 1s 1us/step\n"
          ],
          "name": "stdout"
        }
      ]
    },
    {
      "cell_type": "code",
      "metadata": {
        "id": "oAwZCr7IiZFk",
        "colab_type": "code",
        "colab": {
          "base_uri": "https://localhost:8080/",
          "height": 1000
        },
        "outputId": "49685321-0f92-4d2a-e8e8-257752e9ac6f"
      },
      "source": [
        "# Using an Embedding layer and classifier on the IMDB data\n",
        "from keras.models import Sequential\n",
        "from keras.layers import Flatten, Dense\n",
        "from keras.layers import Embedding\n",
        "from keras.datasets import imdb\n",
        "from keras import preprocessing\n",
        "\n",
        "max_tokens, dimensionality = 1000, 8\n",
        "max_sentence_length = 20\n",
        "\n",
        "model = Sequential()\n",
        "embedding_layer = Embedding(max_tokens, dimensionality, input_length=max_sentence_length)\n",
        "# max_tokens will be upper cap on keys in word_index\n",
        "# after this layer output shape would be num of samples x max_sentence_length x dimensionality\n",
        "model.add(embedding_layer)\n",
        "# convert this 2D data to 1D\n",
        "model.add(Flatten())\n",
        "# add classifier\n",
        "model.add(Dense(1, activation='sigmoid'))\n",
        "\n",
        "model.compile(optimizer='adam', loss='binary_crossentropy', metrics=['acc'])\n",
        "model.summary()\n",
        "\n",
        "# Input pipeline\n",
        "(x_train, y_train), (x_test, y_test) = imdb.load_data(num_words=max_tokens)\n",
        "x_train = preprocessing.sequence.pad_sequences(x_train, maxlen=max_sentence_length)\n",
        "x_test = preprocessing.sequence.pad_sequences(x_test, maxlen=max_sentence_length)\n",
        "\n",
        "# train for 10 epochs, reserve 20% train data for validation, don't train on it\n",
        "history = model.fit(x_train, y_train,\n",
        "                    epochs=10,\n",
        "                    batch_size=32,\n",
        "                    validation_split=0.2)\n",
        "\n",
        "# test score\n",
        "model.evaluate(x_test, y_test)"
      ],
      "execution_count": 7,
      "outputs": [
        {
          "output_type": "stream",
          "text": [
            "WARNING:tensorflow:From /usr/local/lib/python3.6/dist-packages/keras/backend/tensorflow_backend.py:541: The name tf.placeholder is deprecated. Please use tf.compat.v1.placeholder instead.\n",
            "\n",
            "WARNING:tensorflow:From /usr/local/lib/python3.6/dist-packages/keras/backend/tensorflow_backend.py:4432: The name tf.random_uniform is deprecated. Please use tf.random.uniform instead.\n",
            "\n",
            "WARNING:tensorflow:From /usr/local/lib/python3.6/dist-packages/keras/optimizers.py:793: The name tf.train.Optimizer is deprecated. Please use tf.compat.v1.train.Optimizer instead.\n",
            "\n",
            "WARNING:tensorflow:From /usr/local/lib/python3.6/dist-packages/keras/backend/tensorflow_backend.py:3657: The name tf.log is deprecated. Please use tf.math.log instead.\n",
            "\n",
            "WARNING:tensorflow:From /usr/local/lib/python3.6/dist-packages/tensorflow_core/python/ops/nn_impl.py:183: where (from tensorflow.python.ops.array_ops) is deprecated and will be removed in a future version.\n",
            "Instructions for updating:\n",
            "Use tf.where in 2.0, which has the same broadcast rule as np.where\n",
            "Model: \"sequential_1\"\n",
            "_________________________________________________________________\n",
            "Layer (type)                 Output Shape              Param #   \n",
            "=================================================================\n",
            "embedding_2 (Embedding)      (None, 20, 8)             8000      \n",
            "_________________________________________________________________\n",
            "flatten_1 (Flatten)          (None, 160)               0         \n",
            "_________________________________________________________________\n",
            "dense_1 (Dense)              (None, 1)                 161       \n",
            "=================================================================\n",
            "Total params: 8,161\n",
            "Trainable params: 8,161\n",
            "Non-trainable params: 0\n",
            "_________________________________________________________________\n",
            "WARNING:tensorflow:From /usr/local/lib/python3.6/dist-packages/keras/backend/tensorflow_backend.py:1033: The name tf.assign_add is deprecated. Please use tf.compat.v1.assign_add instead.\n",
            "\n",
            "WARNING:tensorflow:From /usr/local/lib/python3.6/dist-packages/keras/backend/tensorflow_backend.py:1020: The name tf.assign is deprecated. Please use tf.compat.v1.assign instead.\n",
            "\n",
            "WARNING:tensorflow:From /usr/local/lib/python3.6/dist-packages/keras/backend/tensorflow_backend.py:3005: The name tf.Session is deprecated. Please use tf.compat.v1.Session instead.\n",
            "\n",
            "Train on 20000 samples, validate on 5000 samples\n",
            "Epoch 1/10\n",
            "WARNING:tensorflow:From /usr/local/lib/python3.6/dist-packages/keras/backend/tensorflow_backend.py:190: The name tf.get_default_session is deprecated. Please use tf.compat.v1.get_default_session instead.\n",
            "\n",
            "WARNING:tensorflow:From /usr/local/lib/python3.6/dist-packages/keras/backend/tensorflow_backend.py:197: The name tf.ConfigProto is deprecated. Please use tf.compat.v1.ConfigProto instead.\n",
            "\n",
            "WARNING:tensorflow:From /usr/local/lib/python3.6/dist-packages/keras/backend/tensorflow_backend.py:207: The name tf.global_variables is deprecated. Please use tf.compat.v1.global_variables instead.\n",
            "\n",
            "WARNING:tensorflow:From /usr/local/lib/python3.6/dist-packages/keras/backend/tensorflow_backend.py:216: The name tf.is_variable_initialized is deprecated. Please use tf.compat.v1.is_variable_initialized instead.\n",
            "\n",
            "WARNING:tensorflow:From /usr/local/lib/python3.6/dist-packages/keras/backend/tensorflow_backend.py:223: The name tf.variables_initializer is deprecated. Please use tf.compat.v1.variables_initializer instead.\n",
            "\n",
            "20000/20000 [==============================] - 1s 70us/step - loss: 0.6629 - acc: 0.6282 - val_loss: 0.5991 - val_acc: 0.6968\n",
            "Epoch 2/10\n",
            "20000/20000 [==============================] - 1s 44us/step - loss: 0.5375 - acc: 0.7399 - val_loss: 0.5349 - val_acc: 0.7252\n",
            "Epoch 3/10\n",
            "20000/20000 [==============================] - 1s 45us/step - loss: 0.4896 - acc: 0.7617 - val_loss: 0.5275 - val_acc: 0.7300\n",
            "Epoch 4/10\n",
            "20000/20000 [==============================] - 1s 48us/step - loss: 0.4685 - acc: 0.7747 - val_loss: 0.5284 - val_acc: 0.7302\n",
            "Epoch 5/10\n",
            "20000/20000 [==============================] - 1s 48us/step - loss: 0.4531 - acc: 0.7831 - val_loss: 0.5308 - val_acc: 0.7282\n",
            "Epoch 6/10\n",
            "20000/20000 [==============================] - 1s 49us/step - loss: 0.4397 - acc: 0.7931 - val_loss: 0.5373 - val_acc: 0.7224\n",
            "Epoch 7/10\n",
            "20000/20000 [==============================] - 1s 46us/step - loss: 0.4273 - acc: 0.8001 - val_loss: 0.5459 - val_acc: 0.7224\n",
            "Epoch 8/10\n",
            "20000/20000 [==============================] - 1s 46us/step - loss: 0.4162 - acc: 0.8060 - val_loss: 0.5509 - val_acc: 0.7194\n",
            "Epoch 9/10\n",
            "20000/20000 [==============================] - 1s 44us/step - loss: 0.4053 - acc: 0.8146 - val_loss: 0.5599 - val_acc: 0.7158\n",
            "Epoch 10/10\n",
            "20000/20000 [==============================] - 1s 46us/step - loss: 0.3953 - acc: 0.8216 - val_loss: 0.5692 - val_acc: 0.7134\n",
            "25000/25000 [==============================] - 0s 18us/step\n"
          ],
          "name": "stdout"
        },
        {
          "output_type": "execute_result",
          "data": {
            "text/plain": [
              "[0.5666633911323548, 0.71568]"
            ]
          },
          "metadata": {
            "tags": []
          },
          "execution_count": 7
        }
      ]
    },
    {
      "cell_type": "markdown",
      "metadata": {
        "id": "Vm_WwnSi0e_Z",
        "colab_type": "text"
      },
      "source": [
        "## Prepare data from scratch, tokenize and use a pre trained word embedding to train model\n",
        "\n",
        "To learn how to prepare data from scratch, let's download raw imdb data and preprocess it. \n",
        "\n",
        "Download and extract the zip. Extracted folder has following structure.\n",
        "\n",
        "```txt\n",
        "aclImdb\n",
        "  - test\n",
        "    - neg\n",
        "        0-3.txt\n",
        "        .\n",
        "    - pos\n",
        "        1-10.txt\n",
        "        .\n",
        "  - train\n",
        "    - neg\n",
        "        0-3.txt\n",
        "        .\n",
        "    - pos\n",
        "        1-10.txt\n",
        "        .\n",
        "```\n",
        "\n",
        "Each .txt file contains either positive or negative review based on it's location."
      ]
    },
    {
      "cell_type": "code",
      "metadata": {
        "id": "z7F8Ve-N1DNa",
        "colab_type": "code",
        "colab": {}
      },
      "source": [
        "!wget -q http://s3.amazonaws.com/text-datasets/aclImdb.zip\n",
        "!unzip -q aclImdb.zip"
      ],
      "execution_count": 0,
      "outputs": []
    },
    {
      "cell_type": "code",
      "metadata": {
        "id": "W9WR20F4ihWJ",
        "colab_type": "code",
        "colab": {}
      },
      "source": [
        "import os\n",
        "\n",
        "cwd = os.getcwd()\n",
        "imdb_dir = os.path.join(cwd, 'aclImdb')\n",
        "train_dir = os.path.join(imdb_dir, 'train')\n",
        "test_dir = os.path.join(imdb_dir, 'test')\n",
        "\n",
        "labels = []\n",
        "texts = []\n",
        "\n",
        "for label_type in ['neg', 'pos']:\n",
        "    dir_name = os.path.join(train_dir, label_type)\n",
        "    for fname in os.listdir(dir_name):\n",
        "        if fname[-4:] == '.txt':\n",
        "            file_path = os.path.join(dir_name, fname)\n",
        "            with open(file_path) as review_file:\n",
        "                texts.append(review_file.read())\n",
        "            if label_type == 'neg':\n",
        "                labels.append(0)\n",
        "            else:\n",
        "                labels.append(1)\n",
        "\n",
        "test_labels = []\n",
        "test_texts = []\n",
        "for label_type in ['neg', 'pos']:\n",
        "    dir_name = os.path.join(test_dir, label_type)\n",
        "    for fname in sorted(os.listdir(dir_name)):\n",
        "        if fname[-4:] == '.txt':\n",
        "            file_path = os.path.join(dir_name, fname)\n",
        "            with open(file_path) as review_file:\n",
        "                test_texts.append(review_file.read())\n",
        "            if label_type == 'neg':\n",
        "                test_labels.append(0)\n",
        "            else:\n",
        "                test_labels.append(1)\n",
        "\n",
        "# All the reviews are stored in texts array and their sentiments in labels array"
      ],
      "execution_count": 0,
      "outputs": []
    },
    {
      "cell_type": "code",
      "metadata": {
        "id": "hyYGEaCn3rhz",
        "colab_type": "code",
        "colab": {
          "base_uri": "https://localhost:8080/",
          "height": 74
        },
        "outputId": "f1f4b7ce-81bf-46d7-f1f4-59d03e68a6d1"
      },
      "source": [
        "from keras.preprocessing.text import Tokenizer\n",
        "from keras.preprocessing.sequence import pad_sequences\n",
        "import numpy as np\n",
        "\n",
        "maxlen = 100\n",
        "training_samples = 200\n",
        "validation_samples = 10000\n",
        "max_words = 10000\n",
        "\n",
        "tokenizer = Tokenizer(num_words=max_words)\n",
        "tokenizer.fit_on_texts(texts)\n",
        "word_index = tokenizer.word_index\n",
        "print('Found %s unique tokens.' % len(word_index))\n",
        "\n",
        "sequences = tokenizer.texts_to_sequences(texts)\n",
        "data = pad_sequences(sequences, maxlen=maxlen)\n",
        "labels = np.asarray(labels)\n",
        "print('Shape of data tensor:', data.shape)\n",
        "print('Shape of label tensor:', labels.shape)\n",
        "\n",
        "# shuffle data\n",
        "indices = np.arange(data.shape[0])\n",
        "np.random.shuffle(indices)\n",
        "data = data[indices]\n",
        "labels = labels[indices]\n",
        "\n",
        "# split into train and validation data\n",
        "x_train = data[:training_samples]\n",
        "y_train = labels[:training_samples]\n",
        "x_val = data[training_samples: training_samples + validation_samples]\n",
        "y_val = labels[training_samples: training_samples + validation_samples]\n",
        "\n",
        "# prepare test data\n",
        "test_sequences = tokenizer.texts_to_sequences(test_texts)\n",
        "x_test = pad_sequences(sequences, maxlen=maxlen)\n",
        "y_test = np.asarray(test_labels)"
      ],
      "execution_count": 17,
      "outputs": [
        {
          "output_type": "stream",
          "text": [
            "Found 88582 unique tokens.\n",
            "Shape of data tensor: (25000, 100)\n",
            "Shape of label tensor: (25000,)\n"
          ],
          "name": "stdout"
        }
      ]
    },
    {
      "cell_type": "markdown",
      "metadata": {
        "id": "-CT7LEco6IyY",
        "colab_type": "text"
      },
      "source": [
        "We got our data ready. Now let's download a pretrained word-embedding. We use pretrained embeddings when our train data is sparse. When we have ample train data, learning our own embedding outperforms pre-trained ones.\n",
        "\n",
        "We'll use Glove6B word-embedding available from https://nlp.stanford.edu/projects/glove/. It's trained on wikipedia 2014 and contains 6B tokens. We'll download it, parse it and prepare it to be used in model's Embedding layer.\n"
      ]
    },
    {
      "cell_type": "code",
      "metadata": {
        "id": "iesPnuqW8846",
        "colab_type": "code",
        "colab": {}
      },
      "source": [
        "# download glove embedding\n",
        "!wget -q http://nlp.stanford.edu/data/glove.6B.zip\n",
        "!unzip -q glove.6B.zip"
      ],
      "execution_count": 0,
      "outputs": []
    },
    {
      "cell_type": "code",
      "metadata": {
        "id": "NwUQu6rHiikY",
        "colab_type": "code",
        "colab": {
          "base_uri": "https://localhost:8080/",
          "height": 36
        },
        "outputId": "52b5cad5-92fb-47a1-ac28-7102b176df0d"
      },
      "source": [
        "# Parsing the GloVe word-embeddings file\n",
        "import os\n",
        "\n",
        "cwd = os.getcwd()\n",
        "embeddings_index = {}\n",
        "# Each line in the extracted file starts with a word and has float values delimited by space\n",
        "with open(os.path.join(cwd, 'glove.6B.100d.txt')) as f:\n",
        "    for line in f:\n",
        "        values = line.split()\n",
        "        word = values[0]\n",
        "        coefs = np.asarray(values[1:], dtype='float32')\n",
        "        embeddings_index[word] = coefs\n",
        "\n",
        "print('Found %s word vectors.' % len(embeddings_index))\n",
        "\n",
        "# Preparing the GloVe word-embeddings matrix\n",
        "embedding_dim = 100\n",
        "embedding_matrix = np.zeros((max_words, embedding_dim))\n",
        "\n",
        "# for each index in our word_index (created by tokenizer) associate the word's embedding vector\n",
        "for word, i in word_index.items():\n",
        "    if i < max_words:\n",
        "        embedding_vector = embeddings_index.get(word)\n",
        "        if embedding_vector is not None:\n",
        "            embedding_matrix[i] = embedding_vector\n"
      ],
      "execution_count": 19,
      "outputs": [
        {
          "output_type": "stream",
          "text": [
            "Found 400000 word vectors.\n"
          ],
          "name": "stdout"
        }
      ]
    },
    {
      "cell_type": "code",
      "metadata": {
        "id": "90LJWf60inj8",
        "colab_type": "code",
        "colab": {
          "base_uri": "https://localhost:8080/",
          "height": 321
        },
        "outputId": "8d3678b9-bbaa-4bdf-e41e-e7d7c3c4b889"
      },
      "source": [
        "# Model definition\n",
        "from keras.models import Sequential\n",
        "from keras.layers import Embedding, Flatten, Dense\n",
        "model = Sequential()\n",
        "model.add(Embedding(max_words, embedding_dim, input_length=maxlen))\n",
        "model.add(Flatten())\n",
        "model.add(Dense(32, activation='relu'))\n",
        "model.add(Dense(1, activation='sigmoid'))\n",
        "model.summary()"
      ],
      "execution_count": 20,
      "outputs": [
        {
          "output_type": "stream",
          "text": [
            "Model: \"sequential_2\"\n",
            "_________________________________________________________________\n",
            "Layer (type)                 Output Shape              Param #   \n",
            "=================================================================\n",
            "embedding_3 (Embedding)      (None, 100, 100)          1000000   \n",
            "_________________________________________________________________\n",
            "flatten_2 (Flatten)          (None, 10000)             0         \n",
            "_________________________________________________________________\n",
            "dense_2 (Dense)              (None, 32)                320032    \n",
            "_________________________________________________________________\n",
            "dense_3 (Dense)              (None, 1)                 33        \n",
            "=================================================================\n",
            "Total params: 1,320,065\n",
            "Trainable params: 1,320,065\n",
            "Non-trainable params: 0\n",
            "_________________________________________________________________\n"
          ],
          "name": "stdout"
        }
      ]
    },
    {
      "cell_type": "code",
      "metadata": {
        "id": "t7iGr2r_-VA-",
        "colab_type": "code",
        "colab": {}
      },
      "source": [
        "# Loading pretrained word embeddings into the Embedding layer\n",
        "model.layers[0].set_weights([embedding_matrix])\n",
        "# Do not train this layer\n",
        "model.layers[0].trainable = False"
      ],
      "execution_count": 0,
      "outputs": []
    },
    {
      "cell_type": "code",
      "metadata": {
        "id": "goQoVduu-XJT",
        "colab_type": "code",
        "colab": {
          "base_uri": "https://localhost:8080/",
          "height": 416
        },
        "outputId": "330c2382-fe84-4cd9-d9a4-f201b6353392"
      },
      "source": [
        "# Training and evaluation\n",
        "model.compile(optimizer='rmsprop',\n",
        "              loss='binary_crossentropy',\n",
        "              metrics=['acc'])\n",
        "history = model.fit(x_train, y_train,\n",
        "                    epochs=10,\n",
        "                    batch_size=32,\n",
        "                    validation_data=(x_val, y_val))\n",
        "model.save_weights('pre_trained_glove_model.h5')"
      ],
      "execution_count": 22,
      "outputs": [
        {
          "output_type": "stream",
          "text": [
            "Train on 200 samples, validate on 10000 samples\n",
            "Epoch 1/10\n",
            "200/200 [==============================] - 1s 4ms/step - loss: 1.7532 - acc: 0.5000 - val_loss: 0.6903 - val_acc: 0.5417\n",
            "Epoch 2/10\n",
            "200/200 [==============================] - 1s 3ms/step - loss: 0.5447 - acc: 0.7150 - val_loss: 0.7670 - val_acc: 0.5118\n",
            "Epoch 3/10\n",
            "200/200 [==============================] - 1s 3ms/step - loss: 0.4297 - acc: 0.8200 - val_loss: 0.8329 - val_acc: 0.5050\n",
            "Epoch 4/10\n",
            "200/200 [==============================] - 1s 3ms/step - loss: 0.3814 - acc: 0.8400 - val_loss: 0.7322 - val_acc: 0.5299\n",
            "Epoch 5/10\n",
            "200/200 [==============================] - 1s 3ms/step - loss: 0.2975 - acc: 0.9700 - val_loss: 0.7230 - val_acc: 0.5443\n",
            "Epoch 6/10\n",
            "200/200 [==============================] - 1s 3ms/step - loss: 0.2342 - acc: 0.9350 - val_loss: 0.8561 - val_acc: 0.5229\n",
            "Epoch 7/10\n",
            "200/200 [==============================] - 1s 3ms/step - loss: 0.1483 - acc: 0.9650 - val_loss: 0.7534 - val_acc: 0.5535\n",
            "Epoch 8/10\n",
            "200/200 [==============================] - 1s 3ms/step - loss: 0.0867 - acc: 0.9950 - val_loss: 0.8035 - val_acc: 0.5529\n",
            "Epoch 9/10\n",
            "200/200 [==============================] - 1s 3ms/step - loss: 0.0656 - acc: 1.0000 - val_loss: 1.4892 - val_acc: 0.5009\n",
            "Epoch 10/10\n",
            "200/200 [==============================] - 1s 3ms/step - loss: 0.3226 - acc: 0.8100 - val_loss: 0.7361 - val_acc: 0.5698\n"
          ],
          "name": "stdout"
        }
      ]
    },
    {
      "cell_type": "code",
      "metadata": {
        "id": "oyjSIbkpFYXa",
        "colab_type": "code",
        "colab": {}
      },
      "source": [
        "# Plotting the results\n",
        "import matplotlib.pyplot as plt\n",
        "\n",
        "def plot_accuracy_and_loss_graph(history):\n",
        "  acc = history.history['acc']\n",
        "  val_acc = history.history['val_acc']\n",
        "  loss = history.history['loss']\n",
        "  val_loss = history.history['val_loss']\n",
        "  epochs = range(1, len(acc) + 1)\n",
        "  plt.plot(epochs, acc, 'bo', label='Training acc')\n",
        "  plt.plot(epochs, val_acc, 'b', label='Validation acc')\n",
        "  plt.title('Training and validation accuracy')\n",
        "  plt.legend()\n",
        "  plt.figure()\n",
        "  plt.plot(epochs, loss, 'bo', label='Training loss')\n",
        "  plt.plot(epochs, val_loss, 'b', label='Validation loss')\n",
        "  plt.title('Training and validation loss')\n",
        "  plt.legend()\n",
        "  plt.show()"
      ],
      "execution_count": 0,
      "outputs": []
    },
    {
      "cell_type": "code",
      "metadata": {
        "id": "shzVYIJRiqgu",
        "colab_type": "code",
        "colab": {
          "base_uri": "https://localhost:8080/",
          "height": 545
        },
        "outputId": "7b2b1364-bfc0-44f4-eb16-398271dfef82"
      },
      "source": [
        "plot_accuracy_and_loss_graph(history)"
      ],
      "execution_count": 23,
      "outputs": [
        {
          "output_type": "display_data",
          "data": {
            "image/png": "[encoded data removed]",
            "text/plain": [
              "<Figure size 432x288 with 1 Axes>"
            ]
          },
          "metadata": {
            "tags": []
          }
        },
        {
          "output_type": "display_data",
          "data": {
            "image/png": "[encoded data removed]",
            "text/plain": [
              "<Figure size 432x288 with 1 Axes>"
            ]
          },
          "metadata": {
            "tags": []
          }
        }
      ]
    },
    {
      "cell_type": "markdown",
      "metadata": {
        "id": "JLsCNjS5Bpn9",
        "colab_type": "text"
      },
      "source": [
        "Training the same model without pretrained word embeddings"
      ]
    },
    {
      "cell_type": "code",
      "metadata": {
        "id": "KsKJFBthiv85",
        "colab_type": "code",
        "colab": {
          "base_uri": "https://localhost:8080/",
          "height": 720
        },
        "outputId": "737c938e-f2bf-410e-f7ff-e77cf1bbee52"
      },
      "source": [
        "from keras.models import Sequential\n",
        "from keras.layers import Embedding, Flatten, Dense\n",
        "model = Sequential()\n",
        "model.add(Embedding(max_words, embedding_dim, input_length=maxlen))\n",
        "model.add(Flatten())\n",
        "model.add(Dense(32, activation='relu'))\n",
        "model.add(Dense(1, activation='sigmoid'))\n",
        "model.summary()\n",
        "model.compile(optimizer='rmsprop',\n",
        "loss='binary_crossentropy',\n",
        "metrics=['acc'])\n",
        "history = model.fit(x_train, y_train,\n",
        "                    epochs=10,\n",
        "                    batch_size=32,\n",
        "                    validation_data=(x_val, y_val))"
      ],
      "execution_count": 28,
      "outputs": [
        {
          "output_type": "stream",
          "text": [
            "Model: \"sequential_3\"\n",
            "_________________________________________________________________\n",
            "Layer (type)                 Output Shape              Param #   \n",
            "=================================================================\n",
            "embedding_4 (Embedding)      (None, 100, 100)          1000000   \n",
            "_________________________________________________________________\n",
            "flatten_3 (Flatten)          (None, 10000)             0         \n",
            "_________________________________________________________________\n",
            "dense_4 (Dense)              (None, 32)                320032    \n",
            "_________________________________________________________________\n",
            "dense_5 (Dense)              (None, 1)                 33        \n",
            "=================================================================\n",
            "Total params: 1,320,065\n",
            "Trainable params: 1,320,065\n",
            "Non-trainable params: 0\n",
            "_________________________________________________________________\n",
            "Train on 200 samples, validate on 10000 samples\n",
            "Epoch 1/10\n",
            "200/200 [==============================] - 1s 5ms/step - loss: 0.6958 - acc: 0.4600 - val_loss: 0.6917 - val_acc: 0.5223\n",
            "Epoch 2/10\n",
            "200/200 [==============================] - 1s 3ms/step - loss: 0.5363 - acc: 0.9850 - val_loss: 0.6921 - val_acc: 0.5192\n",
            "Epoch 3/10\n",
            "200/200 [==============================] - 1s 3ms/step - loss: 0.3240 - acc: 1.0000 - val_loss: 0.7001 - val_acc: 0.5202\n",
            "Epoch 4/10\n",
            "200/200 [==============================] - 1s 3ms/step - loss: 0.1498 - acc: 1.0000 - val_loss: 0.7046 - val_acc: 0.5192\n",
            "Epoch 5/10\n",
            "200/200 [==============================] - 1s 3ms/step - loss: 0.0716 - acc: 1.0000 - val_loss: 0.7080 - val_acc: 0.5260\n",
            "Epoch 6/10\n",
            "200/200 [==============================] - 1s 3ms/step - loss: 0.0371 - acc: 1.0000 - val_loss: 0.7051 - val_acc: 0.5273\n",
            "Epoch 7/10\n",
            "200/200 [==============================] - 1s 3ms/step - loss: 0.0200 - acc: 1.0000 - val_loss: 0.7107 - val_acc: 0.5281\n",
            "Epoch 8/10\n",
            "200/200 [==============================] - 1s 3ms/step - loss: 0.0116 - acc: 1.0000 - val_loss: 0.7130 - val_acc: 0.5331\n",
            "Epoch 9/10\n",
            "200/200 [==============================] - 1s 3ms/step - loss: 0.0069 - acc: 1.0000 - val_loss: 0.7173 - val_acc: 0.5356\n",
            "Epoch 10/10\n",
            "200/200 [==============================] - 1s 3ms/step - loss: 0.0041 - acc: 1.0000 - val_loss: 0.7231 - val_acc: 0.5355\n"
          ],
          "name": "stdout"
        }
      ]
    },
    {
      "cell_type": "code",
      "metadata": {
        "id": "K6lr71_lFNjL",
        "colab_type": "code",
        "colab": {
          "base_uri": "https://localhost:8080/",
          "height": 545
        },
        "outputId": "8efeced6-8417-43a5-fbea-0eece9d02547"
      },
      "source": [
        "plot_accuracy_and_loss_graph(history)"
      ],
      "execution_count": 31,
      "outputs": [
        {
          "output_type": "display_data",
          "data": {
            "image/png": "[encoded data removed]",
            "text/plain": [
              "<Figure size 432x288 with 1 Axes>"
            ]
          },
          "metadata": {
            "tags": []
          }
        },
        {
          "output_type": "display_data",
          "data": {
            "image/png": "[encoded data removed]",
            "text/plain": [
              "<Figure size 432x288 with 1 Axes>"
            ]
          },
          "metadata": {
            "tags": []
          }
        }
      ]
    },
    {
      "cell_type": "markdown",
      "metadata": {
        "id": "71K-rpPuDmWt",
        "colab_type": "text"
      },
      "source": [
        "Loading and evaluating the first model"
      ]
    },
    {
      "cell_type": "code",
      "metadata": {
        "id": "lV8LzV6yi1aR",
        "colab_type": "code",
        "colab": {
          "base_uri": "https://localhost:8080/",
          "height": 55
        },
        "outputId": "d221e2aa-278c-4af3-9d82-4b0131a07687"
      },
      "source": [
        "model.load_weights('pre_trained_glove_model.h5')\n",
        "model.evaluate(x_test, y_test)"
      ],
      "execution_count": 27,
      "outputs": [
        {
          "output_type": "stream",
          "text": [
            "25000/25000 [==============================] - 1s 49us/step\n"
          ],
          "name": "stdout"
        },
        {
          "output_type": "execute_result",
          "data": {
            "text/plain": [
              "[0.7342179582595825, 0.57068]"
            ]
          },
          "metadata": {
            "tags": []
          },
          "execution_count": 27
        }
      ]
    },
    {
      "cell_type": "markdown",
      "metadata": {
        "id": "hqSIMHbRFsTg",
        "colab_type": "text"
      },
      "source": [
        "We see that training with jointly learned embeddings performed poorly than the pre trained embeddings. Let's try training again with more train data."
      ]
    },
    {
      "cell_type": "code",
      "metadata": {
        "id": "TmxW9LyNGfkn",
        "colab_type": "code",
        "colab": {}
      },
      "source": [
        "training_samples = 8000\n",
        "validation_samples = 10000\n",
        "\n",
        "# split into train and validation data\n",
        "x_train = data[:training_samples]\n",
        "y_train = labels[:training_samples]\n",
        "x_val = data[training_samples: training_samples + validation_samples]\n",
        "y_val = labels[training_samples: training_samples + validation_samples]"
      ],
      "execution_count": 0,
      "outputs": []
    },
    {
      "cell_type": "code",
      "metadata": {
        "id": "CzW_mqinGXir",
        "colab_type": "code",
        "colab": {
          "base_uri": "https://localhost:8080/",
          "height": 720
        },
        "outputId": "41f4be4b-a09f-4573-ce72-4477b22c3d7c"
      },
      "source": [
        "from keras.models import Sequential\n",
        "from keras.layers import Embedding, Flatten, Dense\n",
        "model = Sequential()\n",
        "model.add(Embedding(max_words, embedding_dim, input_length=maxlen))\n",
        "model.add(Flatten())\n",
        "model.add(Dense(32, activation='relu'))\n",
        "model.add(Dense(1, activation='sigmoid'))\n",
        "model.summary()\n",
        "model.compile(optimizer='rmsprop',\n",
        "              loss='binary_crossentropy',\n",
        "              metrics=['acc'])\n",
        "history = model.fit(x_train, y_train,\n",
        "                    epochs=10,\n",
        "                    batch_size=32,\n",
        "                    validation_data=(x_val, y_val))"
      ],
      "execution_count": 33,
      "outputs": [
        {
          "output_type": "stream",
          "text": [
            "Model: \"sequential_4\"\n",
            "_________________________________________________________________\n",
            "Layer (type)                 Output Shape              Param #   \n",
            "=================================================================\n",
            "embedding_5 (Embedding)      (None, 100, 100)          1000000   \n",
            "_________________________________________________________________\n",
            "flatten_4 (Flatten)          (None, 10000)             0         \n",
            "_________________________________________________________________\n",
            "dense_6 (Dense)              (None, 32)                320032    \n",
            "_________________________________________________________________\n",
            "dense_7 (Dense)              (None, 1)                 33        \n",
            "=================================================================\n",
            "Total params: 1,320,065\n",
            "Trainable params: 1,320,065\n",
            "Non-trainable params: 0\n",
            "_________________________________________________________________\n",
            "Train on 8000 samples, validate on 10000 samples\n",
            "Epoch 1/10\n",
            "8000/8000 [==============================] - 6s 709us/step - loss: 0.5515 - acc: 0.7049 - val_loss: 0.3875 - val_acc: 0.8259\n",
            "Epoch 2/10\n",
            "8000/8000 [==============================] - 5s 675us/step - loss: 0.1475 - acc: 0.9495 - val_loss: 0.4229 - val_acc: 0.8215\n",
            "Epoch 3/10\n",
            "8000/8000 [==============================] - 5s 656us/step - loss: 0.0108 - acc: 0.9976 - val_loss: 0.5565 - val_acc: 0.8250\n",
            "Epoch 4/10\n",
            "8000/8000 [==============================] - 5s 659us/step - loss: 4.7546e-04 - acc: 0.9999 - val_loss: 0.7391 - val_acc: 0.8203\n",
            "Epoch 5/10\n",
            "8000/8000 [==============================] - 5s 656us/step - loss: 1.1187e-05 - acc: 1.0000 - val_loss: 0.8531 - val_acc: 0.8190\n",
            "Epoch 6/10\n",
            "8000/8000 [==============================] - 5s 660us/step - loss: 3.3199e-07 - acc: 1.0000 - val_loss: 0.9263 - val_acc: 0.8223\n",
            "Epoch 7/10\n",
            "8000/8000 [==============================] - 5s 660us/step - loss: 2.0664e-07 - acc: 1.0000 - val_loss: 0.9601 - val_acc: 0.8218\n",
            "Epoch 8/10\n",
            "8000/8000 [==============================] - 5s 660us/step - loss: 1.1374e-07 - acc: 1.0000 - val_loss: 0.9841 - val_acc: 0.8203\n",
            "Epoch 9/10\n",
            "8000/8000 [==============================] - 5s 656us/step - loss: 1.1049e-07 - acc: 1.0000 - val_loss: 0.9898 - val_acc: 0.8213\n",
            "Epoch 10/10\n",
            "8000/8000 [==============================] - 5s 660us/step - loss: 1.1013e-07 - acc: 1.0000 - val_loss: 0.9949 - val_acc: 0.8211\n"
          ],
          "name": "stdout"
        }
      ]
    },
    {
      "cell_type": "code",
      "metadata": {
        "id": "xpYUKbjDHUhH",
        "colab_type": "code",
        "colab": {
          "base_uri": "https://localhost:8080/",
          "height": 55
        },
        "outputId": "789778ae-e016-430a-d915-41b78d7449df"
      },
      "source": [
        "model.evaluate(x_test, y_test)"
      ],
      "execution_count": 34,
      "outputs": [
        {
          "output_type": "stream",
          "text": [
            "25000/25000 [==============================] - 1s 51us/step\n"
          ],
          "name": "stdout"
        },
        {
          "output_type": "execute_result",
          "data": {
            "text/plain": [
              "[0.6841680439170823, 0.87584]"
            ]
          },
          "metadata": {
            "tags": []
          },
          "execution_count": 34
        }
      ]
    },
    {
      "cell_type": "code",
      "metadata": {
        "id": "NLG4HjxUHZYf",
        "colab_type": "code",
        "colab": {
          "base_uri": "https://localhost:8080/",
          "height": 545
        },
        "outputId": "92002afb-4439-486a-9988-b9db5027257d"
      },
      "source": [
        "plot_accuracy_and_loss_graph(history)"
      ],
      "execution_count": 35,
      "outputs": [
        {
          "output_type": "display_data",
          "data": {
            "image/png": "[encoded data removed]",
            "text/plain": [
              "<Figure size 432x288 with 1 Axes>"
            ]
          },
          "metadata": {
            "tags": []
          }
        },
        {
          "output_type": "display_data",
          "data": {
            "image/png": "[encoded data removed]",
            "text/plain": [
              "<Figure size 432x288 with 1 Axes>"
            ]
          },
          "metadata": {
            "tags": []
          }
        }
      ]
    },
    {
      "cell_type": "markdown",
      "metadata": {
        "id": "wAPHQ0Z0H8GN",
        "colab_type": "text"
      },
      "source": [
        "## Assignment \n",
        "\n",
        "Train the GLOVE based model with 8000 samples instead of 200."
      ]
    },
    {
      "cell_type": "code",
      "metadata": {
        "id": "RqLnevv6ImVu",
        "colab_type": "code",
        "colab": {}
      },
      "source": [
        "training_samples = 8000\n",
        "validation_samples = 10000\n",
        "\n",
        "# split into train and validation data\n",
        "x_train = data[:training_samples]\n",
        "y_train = labels[:training_samples]\n",
        "x_val = data[training_samples: training_samples + validation_samples]\n",
        "y_val = labels[training_samples: training_samples + validation_samples]"
      ],
      "execution_count": 0,
      "outputs": []
    },
    {
      "cell_type": "code",
      "metadata": {
        "id": "odoXTXaeIZco",
        "colab_type": "code",
        "colab": {
          "base_uri": "https://localhost:8080/",
          "height": 321
        },
        "outputId": "e6ff57b0-c6b4-4d4f-9154-3d7744918991"
      },
      "source": [
        "from keras.models import Sequential\n",
        "from keras.layers import Embedding, Flatten, Dense\n",
        "model = Sequential(name='Glove model with 8k train')\n",
        "model.add(Embedding(max_words, embedding_dim, input_length=maxlen))\n",
        "model.add(Flatten())\n",
        "model.add(Dense(32, activation='relu'))\n",
        "model.add(Dense(1, activation='sigmoid'))\n",
        "model.summary()"
      ],
      "execution_count": 39,
      "outputs": [
        {
          "output_type": "stream",
          "text": [
            "Model: \"Glove model with 8k train\"\n",
            "_________________________________________________________________\n",
            "Layer (type)                 Output Shape              Param #   \n",
            "=================================================================\n",
            "embedding_7 (Embedding)      (None, 100, 100)          1000000   \n",
            "_________________________________________________________________\n",
            "flatten_6 (Flatten)          (None, 10000)             0         \n",
            "_________________________________________________________________\n",
            "dense_10 (Dense)             (None, 32)                320032    \n",
            "_________________________________________________________________\n",
            "dense_11 (Dense)             (None, 1)                 33        \n",
            "=================================================================\n",
            "Total params: 1,320,065\n",
            "Trainable params: 1,320,065\n",
            "Non-trainable params: 0\n",
            "_________________________________________________________________\n"
          ],
          "name": "stdout"
        }
      ]
    },
    {
      "cell_type": "code",
      "metadata": {
        "id": "DonK7B_WIIGK",
        "colab_type": "code",
        "colab": {}
      },
      "source": [
        "# Loading pretrained word embeddings into the Embedding layer\n",
        "model.layers[0].set_weights([embedding_matrix])\n",
        "# Do not train this layer\n",
        "model.layers[0].trainable = False"
      ],
      "execution_count": 0,
      "outputs": []
    },
    {
      "cell_type": "code",
      "metadata": {
        "id": "uD979RQ2Ib44",
        "colab_type": "code",
        "colab": {
          "base_uri": "https://localhost:8080/",
          "height": 416
        },
        "outputId": "60b5be5c-0c38-4579-ad73-d387fb6caf83"
      },
      "source": [
        "model.compile(optimizer='rmsprop',\n",
        "              loss='binary_crossentropy',\n",
        "              metrics=['acc'])\n",
        "history = model.fit(x_train, y_train,\n",
        "                    epochs=10,\n",
        "                    batch_size=32,\n",
        "                    validation_data=(x_val, y_val))"
      ],
      "execution_count": 41,
      "outputs": [
        {
          "output_type": "stream",
          "text": [
            "Train on 8000 samples, validate on 10000 samples\n",
            "Epoch 1/10\n",
            "8000/8000 [==============================] - 3s 313us/step - loss: 0.7113 - acc: 0.5106 - val_loss: 0.6933 - val_acc: 0.4934\n",
            "Epoch 2/10\n",
            "8000/8000 [==============================] - 2s 265us/step - loss: 0.6724 - acc: 0.5971 - val_loss: 1.0769 - val_acc: 0.5167\n",
            "Epoch 3/10\n",
            "8000/8000 [==============================] - 2s 266us/step - loss: 0.5672 - acc: 0.7086 - val_loss: 0.5744 - val_acc: 0.7014\n",
            "Epoch 4/10\n",
            "8000/8000 [==============================] - 2s 261us/step - loss: 0.4729 - acc: 0.7757 - val_loss: 0.5754 - val_acc: 0.7000\n",
            "Epoch 5/10\n",
            "8000/8000 [==============================] - 2s 264us/step - loss: 0.4149 - acc: 0.8151 - val_loss: 0.5881 - val_acc: 0.7097\n",
            "Epoch 6/10\n",
            "8000/8000 [==============================] - 2s 258us/step - loss: 0.3564 - acc: 0.8410 - val_loss: 0.6162 - val_acc: 0.6977\n",
            "Epoch 7/10\n",
            "8000/8000 [==============================] - 2s 263us/step - loss: 0.3065 - acc: 0.8714 - val_loss: 0.6544 - val_acc: 0.6990\n",
            "Epoch 8/10\n",
            "8000/8000 [==============================] - 2s 268us/step - loss: 0.2660 - acc: 0.8872 - val_loss: 0.7608 - val_acc: 0.6984\n",
            "Epoch 9/10\n",
            "8000/8000 [==============================] - 2s 264us/step - loss: 0.2160 - acc: 0.9123 - val_loss: 0.7314 - val_acc: 0.6921\n",
            "Epoch 10/10\n",
            "8000/8000 [==============================] - 2s 273us/step - loss: 0.1806 - acc: 0.9283 - val_loss: 0.8574 - val_acc: 0.6897\n"
          ],
          "name": "stdout"
        }
      ]
    },
    {
      "cell_type": "code",
      "metadata": {
        "id": "LYVVwKLnJI4L",
        "colab_type": "code",
        "colab": {
          "base_uri": "https://localhost:8080/",
          "height": 55
        },
        "outputId": "faa1a077-c340-4abc-d5b8-79489993790c"
      },
      "source": [
        "model.evaluate(x_test, y_test)"
      ],
      "execution_count": 42,
      "outputs": [
        {
          "output_type": "stream",
          "text": [
            "25000/25000 [==============================] - 1s 50us/step\n"
          ],
          "name": "stdout"
        },
        {
          "output_type": "execute_result",
          "data": {
            "text/plain": [
              "[0.6199846486377716, 0.78048]"
            ]
          },
          "metadata": {
            "tags": []
          },
          "execution_count": 42
        }
      ]
    },
    {
      "cell_type": "code",
      "metadata": {
        "id": "Bwqr03ucJMYF",
        "colab_type": "code",
        "colab": {
          "base_uri": "https://localhost:8080/",
          "height": 545
        },
        "outputId": "5357bc01-1968-4738-bc6e-01ec67851005"
      },
      "source": [
        "plot_accuracy_and_loss_graph(history)"
      ],
      "execution_count": 43,
      "outputs": [
        {
          "output_type": "display_data",
          "data": {
            "image/png": "[encoded data removed]",
            "text/plain": [
              "<Figure size 432x288 with 1 Axes>"
            ]
          },
          "metadata": {
            "tags": []
          }
        },
        {
          "output_type": "display_data",
          "data": {
            "image/png": "[encoded data removed]",
            "text/plain": [
              "<Figure size 432x288 with 1 Axes>"
            ]
          },
          "metadata": {
            "tags": []
          }
        }
      ]
    }
  ]
}